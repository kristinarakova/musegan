{
 "cells": [
  {
   "cell_type": "code",
   "execution_count": 1,
   "metadata": {
    "collapsed": true
   },
   "outputs": [],
   "source": [
    "%load_ext autoreload\n",
    "%autoreload 2"
   ]
  },
  {
   "cell_type": "code",
   "execution_count": 2,
   "metadata": {
    "collapsed": true
   },
   "outputs": [],
   "source": [
    "from time import sleep"
   ]
  },
  {
   "cell_type": "code",
   "execution_count": 3,
   "metadata": {},
   "outputs": [
    {
     "data": {
      "text/plain": [
       "'1'"
      ]
     },
     "execution_count": 3,
     "metadata": {},
     "output_type": "execute_result"
    }
   ],
   "source": [
    "import importlib\n",
    "import numpy as np\n",
    "import tensorflow as tf\n",
    "import os\n",
    "from config import CONFIG\n",
    "MODELS = importlib.import_module(\n",
    "    '.'.join(('musegan', CONFIG['exp']['model'], 'models')))\n",
    "os.environ['CUDA_VISIBLE_DEVICES']"
   ]
  },
  {
   "cell_type": "code",
   "execution_count": null,
   "metadata": {
    "collapsed": true
   },
   "outputs": [],
   "source": [
    "def load_data():\n",
    "    \"\"\"Load and return the training data.\"\"\"\n",
    "    print('[*] Loading data...')\n",
    "\n",
    "    # Load data from SharedArray\n",
    "    if CONFIG['data']['training_data_location'] == 'sa':\n",
    "        import SharedArray as sa\n",
    "        x_train = sa.attach(CONFIG['data']['training_data'])\n",
    "\n",
    "    # Load data from hard disk\n",
    "    elif CONFIG['data']['training_data_location'] == 'hd':\n",
    "        if os.path.isabs(CONFIG['data']['training_data']):\n",
    "            x_train = np.load(CONFIG['data']['training_data'])\n",
    "        else:\n",
    "            filepath = os.path.abspath(os.path.join(\n",
    "                os.path.realpath(__file__), 'training_data',\n",
    "                CONFIG['data']['training_data']))\n",
    "            x_train = np.load(filepath)\n",
    "\n",
    "    # Reshape data\n",
    "    x_train = x_train.reshape(\n",
    "        -1, CONFIG['model']['num_bar'], CONFIG['model']['num_timestep'],\n",
    "        CONFIG['model']['num_pitch'], CONFIG['model']['num_track'])\n",
    "    print('Training set size:', len(x_train))\n",
    "\n",
    "    return x_train"
   ]
  },
  {
   "cell_type": "code",
   "execution_count": null,
   "metadata": {
    "scrolled": true
   },
   "outputs": [],
   "source": [
    "x_train = load_data()\n",
    "y_train = np.load('/home/rakova/project/multi_musegan/musegan/training_data/binary_data/binary_labels.npy')\n",
    "x_train_big = np.load('/home/rakova/project/multi_musegan/musegan/training_data/binary_data_big/binary_train.npy')\n",
    "x_test = x_train_big[-1024:]\n",
    "y_train_big = np.load('/home/rakova/project/multi_musegan/musegan/training_data/binary_data_big/binary_labels.npy')\n",
    "y_test = y_train_big[-1024:]\n",
    "\n",
    "with tf.Session(config=CONFIG['tensorflow']) as sess:\n",
    "    gan = MODELS.GAN(sess, CONFIG['model'])\n",
    "    gan.init_all()\n",
    "    # Load pretrained model if given\n",
    "    if CONFIG['exp']['pretrained_dir'] is not None:\n",
    "        gan.load(CONFIG['exp']['pretrained_dir'])\n",
    "    gan.train(x_train, y_train, CONFIG['train'], x_test, y_test)"
   ]
  },
  {
   "cell_type": "code",
   "execution_count": null,
   "metadata": {
    "collapsed": true
   },
   "outputs": [],
   "source": []
  }
 ],
 "metadata": {
  "kernelspec": {
   "display_name": "Python 3",
   "language": "python",
   "name": "python3"
  },
  "language_info": {
   "codemirror_mode": {
    "name": "ipython",
    "version": 3
   },
   "file_extension": ".py",
   "mimetype": "text/x-python",
   "name": "python",
   "nbconvert_exporter": "python",
   "pygments_lexer": "ipython3",
   "version": "3.6.3"
  }
 },
 "nbformat": 4,
 "nbformat_minor": 2
}
