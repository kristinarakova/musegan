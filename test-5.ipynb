{
 "cells": [
  {
   "cell_type": "code",
   "execution_count": 1,
   "metadata": {},
   "outputs": [],
   "source": [
    "%load_ext autoreload\n",
    "%autoreload 2"
   ]
  },
  {
   "cell_type": "code",
   "execution_count": 2,
   "metadata": {
    "collapsed": true
   },
   "outputs": [],
   "source": [
    "from time import sleep"
   ]
  },
  {
   "cell_type": "code",
   "execution_count": 3,
   "metadata": {},
   "outputs": [
    {
     "data": {
      "text/plain": [
       "'1'"
      ]
     },
     "execution_count": 3,
     "metadata": {},
     "output_type": "execute_result"
    }
   ],
   "source": [
    "import importlib\n",
    "import numpy as np\n",
    "import tensorflow as tf\n",
    "import os\n",
    "from config import CONFIG\n",
    "MODELS = importlib.import_module(\n",
    "    '.'.join(('musegan', CONFIG['exp']['model'], 'models')))\n",
    "os.environ['CUDA_VISIBLE_DEVICES']"
   ]
  },
  {
   "cell_type": "code",
   "execution_count": null,
   "metadata": {
    "collapsed": true
   },
   "outputs": [],
   "source": [
    "def load_data():\n",
    "    \"\"\"Load and return the training data.\"\"\"\n",
    "    print('[*] Loading data...')\n",
    "\n",
    "    # Load data from SharedArray\n",
    "    if CONFIG['data']['training_data_location'] == 'sa':\n",
    "        import SharedArray as sa\n",
    "        x_train = sa.attach(CONFIG['data']['training_data'])\n",
    "\n",
    "    # Load data from hard disk\n",
    "    elif CONFIG['data']['training_data_location'] == 'hd':\n",
    "        if os.path.isabs(CONFIG['data']['training_data']):\n",
    "            x_train = np.load(CONFIG['data']['training_data'])\n",
    "        else:\n",
    "            filepath = os.path.abspath(os.path.join(\n",
    "                os.path.realpath(__file__), 'training_data',\n",
    "                CONFIG['data']['training_data']))\n",
    "            x_train = np.load(filepath)\n",
    "\n",
    "    # Reshape data\n",
    "    x_train = x_train.reshape(\n",
    "        -1, CONFIG['model']['num_bar'], CONFIG['model']['num_timestep'],\n",
    "        CONFIG['model']['num_pitch'], CONFIG['model']['num_track'])\n",
    "    print('Training set size:', len(x_train))\n",
    "\n",
    "    return x_train"
   ]
  },
  {
   "cell_type": "code",
   "execution_count": null,
   "metadata": {
    "scrolled": true
   },
   "outputs": [
    {
     "name": "stdout",
     "output_type": "stream",
     "text": [
      "[*] Loading data...\n",
      "Training set size: 8767\n",
      "[*] Building GAN...\n",
      "(32, 4, 96, 84, 5)\n",
      "=============================== Model Statistics ===============================\n",
      "Number of parameters: 6282993\n",
      "Number of parameters in G: 4561615\n",
      "Number of parameters in D: 1721378\n",
      "================================ Model Summary =================================\n",
      "----------------------------------- < GAN > ------------------------------------\n",
      "------------------------------------ GAN/G -------------------------------------\n",
      "Input - shared                                    (32, 32)\n",
      "Input - private                                   (32, 32, 5)\n",
      "Input - temporal_shared                           (32, 32)\n",
      "Input - temporal_private                          (32, 32, 5)\n",
      "--------------------------------------------------------------------------------\n",
      "[GAN/G/temporal_shared]\n",
      "Input                                             (32, 32)\n",
      "GAN/G/temporal_shared/Layer_0        dense        (32, 768)                     \n",
      "GAN/G/temporal_shared/Layer_1        reshape      (32, 3, 1, 1, 256)            \n",
      "GAN/G/temporal_shared/Layer_2        transconv3d  (32, 4, 1, 1, 32)             \n",
      "GAN/G/temporal_shared/Layer_3        reshape      (32, 4, 32)                   \n",
      "--------------------------------------------------------------------------------\n",
      "[GAN/G/temporal_private_0]\n",
      "Input                                             (32, 32)\n",
      "GAN/G/temporal_private_0/Layer_0     dense        (32, 768)                     \n",
      "GAN/G/temporal_private_0/Layer_1     reshape      (32, 3, 1, 1, 256)            \n",
      "GAN/G/temporal_private_0/Layer_2     transconv3d  (32, 4, 1, 1, 32)             \n",
      "GAN/G/temporal_private_0/Layer_3     reshape      (32, 4, 32)                   \n",
      "--------------------------------------------------------------------------------\n",
      "[GAN/G/bar_main_0]\n",
      "Input                                             (32, 4, 128)\n",
      "GAN/G/bar_main_0/Layer_0             reshape      (32, 4, 1, 1, 128)            \n",
      "GAN/G/bar_main_0/Layer_1             transconv3d  (32, 4, 4, 1, 512)            \n",
      "GAN/G/bar_main_0/Layer_2             transconv3d  (32, 4, 4, 3, 256)            \n",
      "GAN/G/bar_main_0/Layer_3             transconv3d  (32, 4, 16, 3, 128)           \n",
      "GAN/G/bar_main_0/Layer_4             transconv3d  (32, 4, 16, 7, 64)            \n",
      "--------------------------------------------------------------------------------\n",
      "[GAN/G/bar_pitch_time_0]\n",
      "Input                                             (32, 4, 16, 7, 64)\n",
      "GAN/G/bar_pitch_time_0/Layer_0       transconv3d  (32, 4, 16, 84, 32)           \n",
      "GAN/G/bar_pitch_time_0/Layer_1       transconv3d  (32, 4, 96, 84, 16)           \n",
      "--------------------------------------------------------------------------------\n",
      "[GAN/G/bar_time_pitch_0]\n",
      "Input                                             (32, 4, 16, 7, 64)\n",
      "GAN/G/bar_time_pitch_0/Layer_0       transconv3d  (32, 4, 96, 7, 32)            \n",
      "GAN/G/bar_time_pitch_0/Layer_1       transconv3d  (32, 4, 96, 84, 16)           \n",
      "--------------------------------------------------------------------------------\n",
      "[GAN/G/bar_merged_0]\n",
      "Input                                             (32, 4, 96, 84, 32)\n",
      "GAN/G/bar_merged_0/Layer_0           transconv3d  (32, 4, 96, 84, 1)            \n",
      "--------------------------------------------------------------------------------\n",
      "------------------------------------ GAN/D -------------------------------------\n",
      "Input                                             (32, 4, 96, 84, 5)\n",
      "--------------------------------------------------------------------------------\n",
      "[GAN/D/pt_0]\n",
      "Input                                             (32, 4, 96, 84, 1)\n",
      "GAN/D/pt_0/Layer_0                   conv3d       (32, 4, 96, 7, 32)            \n",
      "GAN/D/pt_0/Layer_1                   conv3d       (32, 4, 16, 7, 64)            \n",
      "--------------------------------------------------------------------------------\n",
      "[GAN/D/tp_0]\n",
      "Input                                             (32, 4, 96, 84, 1)\n",
      "GAN/D/tp_0/Layer_0                   conv3d       (32, 4, 16, 84, 32)           \n",
      "GAN/D/tp_0/Layer_1                   conv3d       (32, 4, 16, 7, 64)            \n",
      "--------------------------------------------------------------------------------\n",
      "[GAN/D/merged_0]\n",
      "Input                                             (32, 4, 16, 7, 128)\n",
      "GAN/D/merged_0/Layer_0               conv3d       (32, 4, 16, 7, 64)            \n",
      "--------------------------------------------------------------------------------\n",
      "[GAN/D/shared]\n",
      "Input                                             (32, 4, 16, 7, 320)\n",
      "GAN/D/shared/Layer_0                 conv3d       (32, 4, 4, 3, 128)            \n",
      "GAN/D/shared/Layer_1                 conv3d       (32, 4, 1, 1, 256)            \n",
      "--------------------------------------------------------------------------------\n",
      "[GAN/D/chroma]\n",
      "Input                                             (32, 4, 4, 12, 5)\n",
      "GAN/D/chroma/Layer_0                 conv3d       (32, 4, 4, 1, 64)             \n",
      "GAN/D/chroma/Layer_1                 conv3d       (32, 4, 1, 1, 128)            \n",
      "--------------------------------------------------------------------------------\n",
      "[GAN/D/onset]\n",
      "Input                                             (32, 4, 96, 84, 5)\n",
      "GAN/D/onset/Layer_0                  sum          (32, 4, 96, 1, 5)             \n",
      "GAN/D/onset/Layer_1                  conv3d       (32, 4, 16, 1, 32)            \n",
      "GAN/D/onset/Layer_2                  conv3d       (32, 4, 4, 1, 64)             \n",
      "GAN/D/onset/Layer_3                  conv3d       (32, 4, 1, 1, 128)            \n",
      "--------------------------------------------------------------------------------\n",
      "[GAN/D/merged]\n",
      "Input                                             (32, 4, 1, 1, 512)\n",
      "GAN/D/merged/Layer_0                 conv3d       (32, 3, 1, 1, 512)            \n",
      "GAN/D/merged/Layer_1                 reshape      (32, 1536)                    \n",
      "--------------------------------------------------------------------------------\n",
      "[GAN/D/real_fake]\n",
      "Input                                             (32, 1536)\n",
      "GAN/D/real_fake/Layer_0              dense        (32, 1)                       \n",
      "--------------------------------------------------------------------------------\n",
      "[GAN/D/classes]\n",
      "Input                                             (32, 1536)\n",
      "GAN/D/classes/Layer_0                dense        (32, 1)                       \n",
      "--------------------------------------------------------------------------------\n",
      "[*] Initializing variables...\n",
      "================================ Training Start ================================\n",
      "-------------------------------- Epoch 0 Start ---------------------------------\n",
      "epoch |   batch   |  time  |    - D_loss    |     G_loss    |  CrossEntr  | CrossEntrTest\n",
      "   0  |    0/ 273 |  32.64 |    1156.784546 |    1738.727783 |      9.192275 |          7.413 |\n"
     ]
    },
    {
     "name": "stderr",
     "output_type": "stream",
     "text": [
      "/home/rakova/project/multi_musegan/musegan/musegan/utils/metrics.py:94: RuntimeWarning: invalid value encountered in true_divide\n",
      "  chroma1 = chroma1 / np.sum(chroma1)\n",
      "/home/rakova/project/multi_musegan/musegan/musegan/utils/metrics.py:96: RuntimeWarning: invalid value encountered in true_divide\n",
      "  chroma2 = chroma2 / np.sum(chroma2)\n",
      "/home/rakova/project/multi_musegan/musegan/musegan/utils/metrics.py:94: RuntimeWarning: invalid value encountered in true_divide\n",
      "  chroma1 = chroma1 / np.sum(chroma1)\n",
      "/home/rakova/project/multi_musegan/musegan/musegan/utils/metrics.py:96: RuntimeWarning: invalid value encountered in true_divide\n",
      "  chroma2 = chroma2 / np.sum(chroma2)\n"
     ]
    },
    {
     "name": "stdout",
     "output_type": "stream",
     "text": [
      "   0  |    1/ 273 |  23.60 |    1140.004761 |     734.406067 |      6.094497 |          7.063 |\n",
      "   0  |    2/ 273 |  23.59 |    1181.260010 |    1095.257446 |      2.752936 |          2.526 |\n",
      "   0  |    3/ 273 |  23.60 |    1172.434570 |    1061.157471 |      2.948431 |          1.987 |\n",
      "   0  |    4/ 273 |  23.61 |    1160.432129 |    1274.722046 |     18.304605 |          6.545 |\n",
      "   0  |    5/ 273 |  23.62 |    1167.638916 |    1357.999878 |      7.246629 |          3.580 |\n",
      "   0  |    6/ 273 |  23.60 |    1157.495972 |    1564.386230 |      4.942924 |          1.944 |\n",
      "   0  |    7/ 273 |  23.61 |    1147.705566 |    1383.459717 |      8.681719 |          6.091 |\n",
      "   0  |    8/ 273 |  23.61 |    1104.498779 |    1609.513428 |      9.747969 |          3.529 |\n",
      "   0  |    9/ 273 |  23.61 |    1029.839233 |    1332.227539 |      8.180919 |          3.668 |\n",
      "   0  |   10/ 273 |  23.59 |     823.634705 |     974.618103 |      4.923252 |          3.143 |\n"
     ]
    },
    {
     "name": "stderr",
     "output_type": "stream",
     "text": [
      "/home/rakova/project/multi_musegan/musegan/musegan/utils/metrics.py:94: RuntimeWarning: invalid value encountered in true_divide\n",
      "  chroma1 = chroma1 / np.sum(chroma1)\n",
      "/home/rakova/project/multi_musegan/musegan/musegan/utils/metrics.py:96: RuntimeWarning: invalid value encountered in true_divide\n",
      "  chroma2 = chroma2 / np.sum(chroma2)\n",
      "/home/rakova/project/multi_musegan/musegan/musegan/utils/metrics.py:94: RuntimeWarning: invalid value encountered in true_divide\n",
      "  chroma1 = chroma1 / np.sum(chroma1)\n",
      "/home/rakova/project/multi_musegan/musegan/musegan/utils/metrics.py:96: RuntimeWarning: invalid value encountered in true_divide\n",
      "  chroma2 = chroma2 / np.sum(chroma2)\n"
     ]
    },
    {
     "name": "stdout",
     "output_type": "stream",
     "text": [
      "   0  |   11/ 273 |  23.60 |     541.883240 |     587.963684 |      3.357481 |          1.466 |\n",
      "   0  |   12/ 273 |  23.61 |     266.502686 |     188.860641 |      2.106474 |          1.370 |\n",
      "   0  |   13/ 273 |  23.60 |     136.270905 |      56.841751 |      1.314386 |          1.045 |\n",
      "   0  |   14/ 273 |  23.61 |     103.383080 |      -2.048055 |      1.049089 |          0.747 |\n",
      "   0  |   15/ 273 |  23.58 |     102.719719 |       1.765824 |      0.898966 |          0.927 |\n",
      "   0  |   16/ 273 |  23.58 |     114.103996 |     -16.406252 |      1.309051 |          1.787 |\n",
      "   0  |   17/ 273 |  23.59 |     110.890594 |      -0.774072 |      1.396800 |          1.519 |\n",
      "   0  |   18/ 273 |  23.59 |     103.101006 |      -3.386334 |      0.701888 |          1.089 |\n",
      "   0  |   19/ 273 |  23.58 |     122.721970 |      -4.174556 |      0.556836 |          1.346 |\n",
      "   0  |   20/ 273 |  23.58 |     126.053085 |      -0.903581 |      1.279635 |          3.303 |\n"
     ]
    },
    {
     "name": "stderr",
     "output_type": "stream",
     "text": [
      "/home/rakova/project/multi_musegan/musegan/musegan/utils/metrics.py:94: RuntimeWarning: invalid value encountered in true_divide\n",
      "  chroma1 = chroma1 / np.sum(chroma1)\n",
      "/home/rakova/project/multi_musegan/musegan/musegan/utils/metrics.py:96: RuntimeWarning: invalid value encountered in true_divide\n",
      "  chroma2 = chroma2 / np.sum(chroma2)\n",
      "/home/rakova/project/multi_musegan/musegan/musegan/utils/metrics.py:94: RuntimeWarning: invalid value encountered in true_divide\n",
      "  chroma1 = chroma1 / np.sum(chroma1)\n",
      "/home/rakova/project/multi_musegan/musegan/musegan/utils/metrics.py:96: RuntimeWarning: invalid value encountered in true_divide\n",
      "  chroma2 = chroma2 / np.sum(chroma2)\n",
      "/home/rakova/project/multi_musegan/musegan/musegan/utils/metrics.py:94: RuntimeWarning: invalid value encountered in true_divide\n",
      "  chroma1 = chroma1 / np.sum(chroma1)\n",
      "/home/rakova/project/multi_musegan/musegan/musegan/utils/metrics.py:96: RuntimeWarning: invalid value encountered in true_divide\n",
      "  chroma2 = chroma2 / np.sum(chroma2)\n",
      "/home/rakova/project/multi_musegan/musegan/musegan/utils/metrics.py:94: RuntimeWarning: invalid value encountered in true_divide\n",
      "  chroma1 = chroma1 / np.sum(chroma1)\n",
      "/home/rakova/project/multi_musegan/musegan/musegan/utils/metrics.py:96: RuntimeWarning: invalid value encountered in true_divide\n",
      "  chroma2 = chroma2 / np.sum(chroma2)\n"
     ]
    },
    {
     "name": "stdout",
     "output_type": "stream",
     "text": [
      "   0  |   21/ 273 |  23.62 |     106.741798 |      -1.083704 |      0.692514 |          1.359 |\n",
      "   0  |   22/ 273 |  23.59 |     110.483688 |      -0.809091 |      0.682448 |          1.457 |\n",
      "   0  |   23/ 273 |  23.58 |     113.134041 |      -0.403079 |      0.677875 |          1.260 |\n",
      "   0  |   24/ 273 |  23.57 |      98.502777 |      -0.761205 |      0.684478 |          1.111 |\n",
      "   0  |   25/ 273 |   1.53 |     114.198212 |      -0.477558 |      1.362035 |          1.544 |\n",
      "   0  |   26/ 273 |   1.54 |     110.933556 |      -1.619532 |      1.077582 |          1.001 |\n",
      "   0  |   27/ 273 |   1.54 |     116.389961 |      -2.370640 |      1.094897 |          0.842 |\n",
      "   0  |   28/ 273 |   1.54 |     111.746803 |      -1.273251 |      1.467804 |          2.742 |\n",
      "   0  |   29/ 273 |   1.54 |      98.183029 |      -1.672702 |      1.417458 |          0.888 |\n",
      "   0  |   30/ 273 |   1.54 |      96.970367 |      -0.799961 |      1.098470 |          0.773 |\n"
     ]
    },
    {
     "name": "stderr",
     "output_type": "stream",
     "text": [
      "/home/rakova/project/multi_musegan/musegan/musegan/utils/metrics.py:94: RuntimeWarning: invalid value encountered in true_divide\n",
      "  chroma1 = chroma1 / np.sum(chroma1)\n",
      "/home/rakova/project/multi_musegan/musegan/musegan/utils/metrics.py:96: RuntimeWarning: invalid value encountered in true_divide\n",
      "  chroma2 = chroma2 / np.sum(chroma2)\n",
      "/home/rakova/project/multi_musegan/musegan/musegan/utils/metrics.py:94: RuntimeWarning: invalid value encountered in true_divide\n",
      "  chroma1 = chroma1 / np.sum(chroma1)\n",
      "/home/rakova/project/multi_musegan/musegan/musegan/utils/metrics.py:96: RuntimeWarning: invalid value encountered in true_divide\n",
      "  chroma2 = chroma2 / np.sum(chroma2)\n",
      "/home/rakova/project/multi_musegan/musegan/musegan/utils/metrics.py:94: RuntimeWarning: invalid value encountered in true_divide\n",
      "  chroma1 = chroma1 / np.sum(chroma1)\n",
      "/home/rakova/project/multi_musegan/musegan/musegan/utils/metrics.py:96: RuntimeWarning: invalid value encountered in true_divide\n",
      "  chroma2 = chroma2 / np.sum(chroma2)\n",
      "/home/rakova/project/multi_musegan/musegan/musegan/utils/metrics.py:94: RuntimeWarning: invalid value encountered in true_divide\n",
      "  chroma1 = chroma1 / np.sum(chroma1)\n",
      "/home/rakova/project/multi_musegan/musegan/musegan/utils/metrics.py:96: RuntimeWarning: invalid value encountered in true_divide\n",
      "  chroma2 = chroma2 / np.sum(chroma2)\n"
     ]
    },
    {
     "name": "stdout",
     "output_type": "stream",
     "text": [
      "   0  |   31/ 273 |   1.54 |     109.003952 |      -0.162046 |      1.830186 |          1.649 |\n",
      "   0  |   32/ 273 |   1.54 |     104.203369 |       0.026927 |      1.527376 |          1.284 |\n",
      "   0  |   33/ 273 |   1.54 |     108.399277 |       1.663195 |      1.313725 |          0.901 |\n",
      "   0  |   34/ 273 |   1.54 |     101.414062 |      -0.200222 |      1.133287 |          0.661 |\n",
      "   0  |   35/ 273 |   1.54 |     107.434792 |       0.597587 |      1.273763 |          1.109 |\n",
      "   0  |   36/ 273 |   1.55 |     109.195038 |      -0.887972 |      0.810834 |          0.829 |\n",
      "   0  |   37/ 273 |   1.55 |     105.961426 |       1.653184 |      1.520668 |          1.382 |\n",
      "   0  |   38/ 273 |   1.55 |     106.404694 |       2.478757 |      1.704834 |          0.967 |\n",
      "   0  |   39/ 273 |   1.54 |      98.748405 |      -0.279951 |      1.220177 |          0.694 |\n",
      "   0  |   40/ 273 |   1.54 |     112.014854 |      -1.679582 |      1.012367 |          0.791 |\n"
     ]
    },
    {
     "name": "stderr",
     "output_type": "stream",
     "text": [
      "/home/rakova/project/multi_musegan/musegan/musegan/utils/metrics.py:94: RuntimeWarning: invalid value encountered in true_divide\n",
      "  chroma1 = chroma1 / np.sum(chroma1)\n",
      "/home/rakova/project/multi_musegan/musegan/musegan/utils/metrics.py:96: RuntimeWarning: invalid value encountered in true_divide\n",
      "  chroma2 = chroma2 / np.sum(chroma2)\n",
      "/home/rakova/project/multi_musegan/musegan/musegan/utils/metrics.py:94: RuntimeWarning: invalid value encountered in true_divide\n",
      "  chroma1 = chroma1 / np.sum(chroma1)\n",
      "/home/rakova/project/multi_musegan/musegan/musegan/utils/metrics.py:96: RuntimeWarning: invalid value encountered in true_divide\n",
      "  chroma2 = chroma2 / np.sum(chroma2)\n",
      "/home/rakova/project/multi_musegan/musegan/musegan/utils/metrics.py:94: RuntimeWarning: invalid value encountered in true_divide\n",
      "  chroma1 = chroma1 / np.sum(chroma1)\n",
      "/home/rakova/project/multi_musegan/musegan/musegan/utils/metrics.py:94: RuntimeWarning: invalid value encountered in true_divide\n",
      "  chroma1 = chroma1 / np.sum(chroma1)\n",
      "/home/rakova/project/multi_musegan/musegan/musegan/utils/metrics.py:96: RuntimeWarning: invalid value encountered in true_divide\n",
      "  chroma2 = chroma2 / np.sum(chroma2)\n"
     ]
    },
    {
     "name": "stdout",
     "output_type": "stream",
     "text": [
      "   0  |   41/ 273 |   1.54 |     108.969238 |       0.168923 |      1.599114 |          1.157 |\n",
      "   0  |   42/ 273 |   1.54 |     107.547089 |      -0.793574 |      1.265085 |          0.745 |\n",
      "   0  |   43/ 273 |   1.54 |     105.108963 |      -2.382899 |      1.079545 |          0.708 |\n",
      "   0  |   44/ 273 |   1.54 |     106.853493 |      -5.644149 |      0.951819 |          1.077 |\n",
      "   0  |   45/ 273 |   1.54 |      97.608292 |       3.171126 |      1.511417 |          1.195 |\n",
      "   0  |   46/ 273 |   1.53 |     109.276527 |      -2.677087 |      1.726377 |          1.426 |\n",
      "   0  |   47/ 273 |   1.53 |     108.532600 |       0.036958 |      1.363103 |          0.852 |\n",
      "   0  |   48/ 273 |   1.52 |      93.992615 |      -0.903461 |      1.351293 |          0.856 |\n",
      "   0  |   49/ 273 |   1.53 |     105.088058 |      -4.292468 |      1.063239 |          0.696 |\n",
      "   0  |   50/ 273 |   1.53 |      94.112183 |      -1.929621 |      0.984286 |          0.754 |\n"
     ]
    },
    {
     "name": "stderr",
     "output_type": "stream",
     "text": [
      "/home/rakova/project/multi_musegan/musegan/musegan/utils/metrics.py:94: RuntimeWarning: invalid value encountered in true_divide\n",
      "  chroma1 = chroma1 / np.sum(chroma1)\n",
      "/home/rakova/project/multi_musegan/musegan/musegan/utils/metrics.py:96: RuntimeWarning: invalid value encountered in true_divide\n",
      "  chroma2 = chroma2 / np.sum(chroma2)\n",
      "/home/rakova/project/multi_musegan/musegan/musegan/utils/metrics.py:94: RuntimeWarning: invalid value encountered in true_divide\n",
      "  chroma1 = chroma1 / np.sum(chroma1)\n",
      "/home/rakova/project/multi_musegan/musegan/musegan/utils/metrics.py:96: RuntimeWarning: invalid value encountered in true_divide\n",
      "  chroma2 = chroma2 / np.sum(chroma2)\n",
      "/home/rakova/project/multi_musegan/musegan/musegan/utils/metrics.py:96: RuntimeWarning: invalid value encountered in true_divide\n",
      "  chroma2 = chroma2 / np.sum(chroma2)\n",
      "/home/rakova/project/multi_musegan/musegan/musegan/utils/metrics.py:96: RuntimeWarning: invalid value encountered in true_divide\n",
      "  chroma2 = chroma2 / np.sum(chroma2)\n"
     ]
    },
    {
     "name": "stdout",
     "output_type": "stream",
     "text": [
      "   0  |   51/ 273 |   1.52 |     102.267319 |       2.449391 |      1.552089 |          1.264 |\n",
      "   0  |   52/ 273 |   1.51 |      97.869026 |      -2.043023 |      1.122483 |          0.762 |\n",
      "   0  |   53/ 273 |   1.52 |     100.113876 |       2.351477 |      1.138239 |          0.703 |\n",
      "   0  |   54/ 273 |   1.51 |      97.907043 |      -1.925645 |      1.268119 |          0.749 |\n",
      "   0  |   55/ 273 |   1.52 |      99.437225 |       1.404146 |      1.073005 |          0.751 |\n",
      "   0  |   56/ 273 |   1.52 |      95.110008 |       0.896022 |      1.135710 |          0.704 |\n",
      "   0  |   57/ 273 |   1.52 |      98.413269 |      -2.104184 |      1.121214 |          0.989 |\n",
      "   0  |   58/ 273 |   1.51 |      91.619003 |      -3.431030 |      1.147815 |          0.693 |\n",
      "   0  |   59/ 273 |   1.52 |     104.684616 |      -2.607392 |      1.108164 |          0.706 |\n",
      "   0  |   60/ 273 |   1.52 |     100.374359 |      -3.457089 |      1.384828 |          1.100 |\n"
     ]
    },
    {
     "name": "stderr",
     "output_type": "stream",
     "text": [
      "/home/rakova/project/multi_musegan/musegan/musegan/utils/metrics.py:94: RuntimeWarning: invalid value encountered in true_divide\n",
      "  chroma1 = chroma1 / np.sum(chroma1)\n",
      "/home/rakova/project/multi_musegan/musegan/musegan/utils/metrics.py:96: RuntimeWarning: invalid value encountered in true_divide\n",
      "  chroma2 = chroma2 / np.sum(chroma2)\n",
      "/home/rakova/project/multi_musegan/musegan/musegan/utils/metrics.py:94: RuntimeWarning: invalid value encountered in true_divide\n",
      "  chroma1 = chroma1 / np.sum(chroma1)\n",
      "/home/rakova/project/multi_musegan/musegan/musegan/utils/metrics.py:96: RuntimeWarning: invalid value encountered in true_divide\n",
      "  chroma2 = chroma2 / np.sum(chroma2)\n"
     ]
    },
    {
     "name": "stdout",
     "output_type": "stream",
     "text": [
      "   0  |   61/ 273 |   1.52 |      98.041115 |      -4.650682 |      1.075895 |          0.839 |\n",
      "   0  |   62/ 273 |   1.52 |      94.674713 |      -5.556950 |      1.165644 |          0.981 |\n",
      "   0  |   63/ 273 |   1.51 |      98.511139 |      -3.157209 |      0.776065 |          1.426 |\n",
      "   0  |   64/ 273 |   1.51 |     103.836594 |      -4.552675 |      1.337916 |          0.917 |\n",
      "   0  |   65/ 273 |   1.51 |      98.296219 |      -4.539539 |      1.365393 |          1.064 |\n",
      "   0  |   66/ 273 |   1.51 |      97.665894 |      -5.041730 |      0.888627 |          0.835 |\n",
      "   0  |   67/ 273 |   1.51 |     107.248634 |      -5.095449 |      1.433926 |          1.048 |\n",
      "   0  |   68/ 273 |   1.51 |      93.511734 |      -8.689400 |      0.935848 |          1.028 |\n",
      "   0  |   69/ 273 |   1.51 |     101.312729 |       5.234823 |      1.472172 |          1.613 |\n",
      "   0  |   70/ 273 |   1.50 |     100.358017 |       0.418985 |      1.623831 |          1.095 |\n"
     ]
    },
    {
     "name": "stderr",
     "output_type": "stream",
     "text": [
      "/home/rakova/project/multi_musegan/musegan/musegan/utils/metrics.py:94: RuntimeWarning: invalid value encountered in true_divide\n",
      "  chroma1 = chroma1 / np.sum(chroma1)\n",
      "/home/rakova/project/multi_musegan/musegan/musegan/utils/metrics.py:96: RuntimeWarning: invalid value encountered in true_divide\n",
      "  chroma2 = chroma2 / np.sum(chroma2)\n",
      "/home/rakova/project/multi_musegan/musegan/musegan/utils/metrics.py:94: RuntimeWarning: invalid value encountered in true_divide\n",
      "  chroma1 = chroma1 / np.sum(chroma1)\n",
      "/home/rakova/project/multi_musegan/musegan/musegan/utils/metrics.py:96: RuntimeWarning: invalid value encountered in true_divide\n",
      "  chroma2 = chroma2 / np.sum(chroma2)\n",
      "/home/rakova/project/multi_musegan/musegan/musegan/utils/metrics.py:96: RuntimeWarning: invalid value encountered in true_divide\n",
      "  chroma2 = chroma2 / np.sum(chroma2)\n",
      "/home/rakova/project/multi_musegan/musegan/musegan/utils/metrics.py:94: RuntimeWarning: invalid value encountered in true_divide\n",
      "  chroma1 = chroma1 / np.sum(chroma1)\n",
      "/home/rakova/project/multi_musegan/musegan/musegan/utils/metrics.py:96: RuntimeWarning: invalid value encountered in true_divide\n",
      "  chroma2 = chroma2 / np.sum(chroma2)\n",
      "/home/rakova/project/multi_musegan/musegan/musegan/utils/metrics.py:94: RuntimeWarning: invalid value encountered in true_divide\n",
      "  chroma1 = chroma1 / np.sum(chroma1)\n"
     ]
    },
    {
     "name": "stdout",
     "output_type": "stream",
     "text": [
      "   0  |   71/ 273 |   1.50 |     103.296066 |      -6.888708 |      1.224843 |          1.044 |\n",
      "   0  |   72/ 273 |   1.50 |      93.410889 |       9.458251 |      1.135679 |          0.725 |\n",
      "   0  |   73/ 273 |   1.48 |      99.687668 |      -7.054894 |      1.864025 |          1.297 |\n",
      "   0  |   74/ 273 |   1.48 |      99.357300 |      -7.723746 |      1.229786 |          0.741 |\n",
      "   0  |   75/ 273 |   1.49 |     100.612122 |      -3.924291 |      1.082229 |          0.774 |\n",
      "   0  |   76/ 273 |   1.49 |      94.866592 |       4.513693 |      0.951657 |          0.830 |\n",
      "   0  |   77/ 273 |   1.50 |     105.304863 |       1.423240 |      1.546603 |          1.111 |\n",
      "   0  |   78/ 273 |   1.48 |     102.225182 |      -5.690173 |      1.032427 |          0.852 |\n",
      "   0  |   79/ 273 |   1.49 |     105.304230 |       2.582629 |      1.801096 |          1.446 |\n",
      "   0  |   80/ 273 |   1.48 |      93.955002 |       0.421703 |      1.189316 |          0.927 |\n"
     ]
    },
    {
     "name": "stderr",
     "output_type": "stream",
     "text": [
      "/home/rakova/project/multi_musegan/musegan/musegan/utils/metrics.py:94: RuntimeWarning: invalid value encountered in true_divide\n",
      "  chroma1 = chroma1 / np.sum(chroma1)\n",
      "/home/rakova/project/multi_musegan/musegan/musegan/utils/metrics.py:96: RuntimeWarning: invalid value encountered in true_divide\n",
      "  chroma2 = chroma2 / np.sum(chroma2)\n",
      "/home/rakova/project/multi_musegan/musegan/musegan/utils/metrics.py:94: RuntimeWarning: invalid value encountered in true_divide\n",
      "  chroma1 = chroma1 / np.sum(chroma1)\n",
      "/home/rakova/project/multi_musegan/musegan/musegan/utils/metrics.py:96: RuntimeWarning: invalid value encountered in true_divide\n",
      "  chroma2 = chroma2 / np.sum(chroma2)\n",
      "/home/rakova/project/multi_musegan/musegan/musegan/utils/metrics.py:94: RuntimeWarning: invalid value encountered in true_divide\n",
      "  chroma1 = chroma1 / np.sum(chroma1)\n",
      "/home/rakova/project/multi_musegan/musegan/musegan/utils/metrics.py:96: RuntimeWarning: invalid value encountered in true_divide\n",
      "  chroma2 = chroma2 / np.sum(chroma2)\n",
      "/home/rakova/project/multi_musegan/musegan/musegan/utils/metrics.py:94: RuntimeWarning: invalid value encountered in true_divide\n",
      "  chroma1 = chroma1 / np.sum(chroma1)\n",
      "/home/rakova/project/multi_musegan/musegan/musegan/utils/metrics.py:96: RuntimeWarning: invalid value encountered in true_divide\n",
      "  chroma2 = chroma2 / np.sum(chroma2)\n"
     ]
    },
    {
     "name": "stdout",
     "output_type": "stream",
     "text": [
      "   0  |   81/ 273 |   1.49 |      97.562019 |      -2.000898 |      0.965983 |          1.015 |\n",
      "   0  |   82/ 273 |   1.49 |      92.248772 |      -3.155802 |      0.974847 |          0.801 |\n",
      "   0  |   83/ 273 |   1.49 |      92.256454 |      -2.454187 |      1.078912 |          1.039 |\n",
      "   0  |   84/ 273 |   1.48 |      99.988503 |      -1.841297 |      1.381869 |          1.007 |\n",
      "   0  |   85/ 273 |   1.49 |     105.829880 |       3.041922 |      1.228058 |          0.701 |\n",
      "   0  |   86/ 273 |   1.48 |      98.797531 |       5.120254 |      1.589577 |          0.830 |\n",
      "   0  |   87/ 273 |   1.48 |      96.220177 |       1.356671 |      1.271753 |          0.806 |\n",
      "   0  |   88/ 273 |   1.48 |      94.111717 |      -2.220446 |      1.319870 |          0.864 |\n",
      "   0  |   89/ 273 |   1.47 |      95.181190 |      -3.942129 |      1.278612 |          0.884 |\n",
      "   0  |   90/ 273 |   1.48 |      97.048088 |      -6.020303 |      0.961170 |          0.934 |\n"
     ]
    },
    {
     "name": "stderr",
     "output_type": "stream",
     "text": [
      "/home/rakova/project/multi_musegan/musegan/musegan/utils/metrics.py:94: RuntimeWarning: invalid value encountered in true_divide\n",
      "  chroma1 = chroma1 / np.sum(chroma1)\n",
      "/home/rakova/project/multi_musegan/musegan/musegan/utils/metrics.py:96: RuntimeWarning: invalid value encountered in true_divide\n",
      "  chroma2 = chroma2 / np.sum(chroma2)\n",
      "/home/rakova/project/multi_musegan/musegan/musegan/utils/metrics.py:94: RuntimeWarning: invalid value encountered in true_divide\n",
      "  chroma1 = chroma1 / np.sum(chroma1)\n",
      "/home/rakova/project/multi_musegan/musegan/musegan/utils/metrics.py:96: RuntimeWarning: invalid value encountered in true_divide\n",
      "  chroma2 = chroma2 / np.sum(chroma2)\n",
      "/home/rakova/project/multi_musegan/musegan/musegan/utils/metrics.py:94: RuntimeWarning: invalid value encountered in true_divide\n",
      "  chroma1 = chroma1 / np.sum(chroma1)\n",
      "/home/rakova/project/multi_musegan/musegan/musegan/utils/metrics.py:96: RuntimeWarning: invalid value encountered in true_divide\n",
      "  chroma2 = chroma2 / np.sum(chroma2)\n",
      "/home/rakova/project/multi_musegan/musegan/musegan/utils/metrics.py:94: RuntimeWarning: invalid value encountered in true_divide\n",
      "  chroma1 = chroma1 / np.sum(chroma1)\n",
      "/home/rakova/project/multi_musegan/musegan/musegan/utils/metrics.py:96: RuntimeWarning: invalid value encountered in true_divide\n",
      "  chroma2 = chroma2 / np.sum(chroma2)\n"
     ]
    },
    {
     "name": "stdout",
     "output_type": "stream",
     "text": [
      "   0  |   91/ 273 |   1.48 |      88.615753 |       1.241725 |      1.404274 |          1.104 |\n",
      "   0  |   92/ 273 |   1.48 |      97.398422 |      -1.246168 |      1.514381 |          0.813 |\n",
      "   0  |   93/ 273 |   1.47 |     104.534546 |      -4.664094 |      1.260230 |          1.246 |\n",
      "   0  |   94/ 273 |   1.48 |      97.210571 |      -1.807493 |      1.437949 |          0.876 |\n",
      "   0  |   95/ 273 |   1.48 |      90.599640 |       1.439544 |      1.149489 |          0.724 |\n",
      "   0  |   96/ 273 |   1.47 |      94.823013 |      -5.125319 |      1.136121 |          1.031 |\n",
      "   0  |   97/ 273 |   1.47 |      91.605438 |      -4.029387 |      1.246536 |          0.970 |\n",
      "   0  |   98/ 273 |   1.47 |      91.870193 |      -5.457754 |      1.144569 |          0.992 |\n",
      "   0  |   99/ 273 |   1.47 |     118.148964 |      87.743507 |      4.886974 |          2.065 |\n",
      "   0  |  100/ 273 |   1.47 |      86.217911 |      -5.312653 |      1.262389 |          0.800 |\n"
     ]
    },
    {
     "name": "stderr",
     "output_type": "stream",
     "text": [
      "/home/rakova/project/multi_musegan/musegan/musegan/utils/metrics.py:94: RuntimeWarning: invalid value encountered in true_divide\n",
      "  chroma1 = chroma1 / np.sum(chroma1)\n",
      "/home/rakova/project/multi_musegan/musegan/musegan/utils/metrics.py:96: RuntimeWarning: invalid value encountered in true_divide\n",
      "  chroma2 = chroma2 / np.sum(chroma2)\n",
      "/home/rakova/project/multi_musegan/musegan/musegan/utils/metrics.py:94: RuntimeWarning: invalid value encountered in true_divide\n",
      "  chroma1 = chroma1 / np.sum(chroma1)\n",
      "/home/rakova/project/multi_musegan/musegan/musegan/utils/metrics.py:96: RuntimeWarning: invalid value encountered in true_divide\n",
      "  chroma2 = chroma2 / np.sum(chroma2)\n",
      "/home/rakova/project/multi_musegan/musegan/musegan/utils/metrics.py:96: RuntimeWarning: invalid value encountered in true_divide\n",
      "  chroma2 = chroma2 / np.sum(chroma2)\n",
      "/home/rakova/project/multi_musegan/musegan/musegan/utils/metrics.py:94: RuntimeWarning: invalid value encountered in true_divide\n",
      "  chroma1 = chroma1 / np.sum(chroma1)\n",
      "/home/rakova/project/multi_musegan/musegan/musegan/utils/metrics.py:96: RuntimeWarning: invalid value encountered in true_divide\n",
      "  chroma2 = chroma2 / np.sum(chroma2)\n",
      "/home/rakova/project/multi_musegan/musegan/musegan/utils/metrics.py:94: RuntimeWarning: invalid value encountered in true_divide\n",
      "  chroma1 = chroma1 / np.sum(chroma1)\n"
     ]
    },
    {
     "name": "stdout",
     "output_type": "stream",
     "text": [
      "   0  |  101/ 273 |   1.47 |      97.866348 |      -1.653724 |      1.175830 |          0.688 |\n",
      "   0  |  102/ 273 |   1.48 |      91.655373 |       1.666231 |      1.443310 |          1.160 |\n",
      "   0  |  103/ 273 |   1.47 |     101.063225 |      -1.895395 |      0.928732 |          0.751 |\n",
      "   0  |  104/ 273 |   1.47 |      89.088791 |      -2.782646 |      1.332663 |          0.765 |\n",
      "   0  |  105/ 273 |   1.47 |      90.901604 |      -3.186001 |      0.996888 |          0.781 |\n",
      "   0  |  106/ 273 |   1.47 |      95.509796 |      18.328571 |      1.445935 |          1.027 |\n",
      "   0  |  107/ 273 |   1.46 |      85.078903 |      -2.390697 |      1.286585 |          0.720 |\n",
      "   0  |  108/ 273 |   1.47 |      93.876602 |      -2.184146 |      1.199651 |          1.039 |\n",
      "   0  |  109/ 273 |   1.47 |      94.939865 |      -2.807116 |      1.251471 |          1.110 |\n",
      "   0  |  110/ 273 |   1.47 |     103.833794 |      -3.036636 |      1.160693 |          0.752 |\n"
     ]
    },
    {
     "name": "stderr",
     "output_type": "stream",
     "text": [
      "/home/rakova/project/multi_musegan/musegan/musegan/utils/metrics.py:94: RuntimeWarning: invalid value encountered in true_divide\n",
      "  chroma1 = chroma1 / np.sum(chroma1)\n",
      "/home/rakova/project/multi_musegan/musegan/musegan/utils/metrics.py:94: RuntimeWarning: invalid value encountered in true_divide\n",
      "  chroma1 = chroma1 / np.sum(chroma1)\n",
      "/home/rakova/project/multi_musegan/musegan/musegan/utils/metrics.py:94: RuntimeWarning: invalid value encountered in true_divide\n",
      "  chroma1 = chroma1 / np.sum(chroma1)\n",
      "/home/rakova/project/multi_musegan/musegan/musegan/utils/metrics.py:94: RuntimeWarning: invalid value encountered in true_divide\n",
      "  chroma1 = chroma1 / np.sum(chroma1)\n"
     ]
    },
    {
     "name": "stdout",
     "output_type": "stream",
     "text": [
      "   0  |  111/ 273 |   1.47 |     103.295074 |       8.033638 |      1.383150 |          0.776 |\n",
      "   0  |  112/ 273 |   1.47 |      95.565056 |      -5.165926 |      1.207390 |          0.812 |\n",
      "   0  |  113/ 273 |   1.47 |      98.520004 |       3.516236 |      1.285930 |          1.240 |\n",
      "   0  |  114/ 273 |   1.47 |     100.925903 |      25.417419 |      2.438969 |          2.766 |\n",
      "   0  |  115/ 273 |   1.47 |      98.922096 |     -10.133373 |      1.296260 |          0.782 |\n",
      "   0  |  116/ 273 |   1.48 |     139.426788 |      93.522232 |      1.660654 |          0.906 |\n",
      "   0  |  117/ 273 |   1.47 |      81.098297 |      -9.801452 |      1.154565 |          0.937 |\n",
      "   0  |  118/ 273 |   1.46 |      96.711952 |      -6.210091 |      1.227763 |          1.357 |\n",
      "   0  |  119/ 273 |   1.46 |      94.744614 |      -8.182088 |      1.166392 |          0.669 |\n",
      "   0  |  120/ 273 |   1.46 |      91.689865 |      -6.249947 |      1.102484 |          0.919 |\n"
     ]
    },
    {
     "name": "stderr",
     "output_type": "stream",
     "text": [
      "/home/rakova/project/multi_musegan/musegan/musegan/utils/metrics.py:94: RuntimeWarning: invalid value encountered in true_divide\n",
      "  chroma1 = chroma1 / np.sum(chroma1)\n",
      "/home/rakova/project/multi_musegan/musegan/musegan/utils/metrics.py:96: RuntimeWarning: invalid value encountered in true_divide\n",
      "  chroma2 = chroma2 / np.sum(chroma2)\n",
      "/home/rakova/project/multi_musegan/musegan/musegan/utils/metrics.py:94: RuntimeWarning: invalid value encountered in true_divide\n",
      "  chroma1 = chroma1 / np.sum(chroma1)\n",
      "/home/rakova/project/multi_musegan/musegan/musegan/utils/metrics.py:96: RuntimeWarning: invalid value encountered in true_divide\n",
      "  chroma2 = chroma2 / np.sum(chroma2)\n",
      "/home/rakova/project/multi_musegan/musegan/musegan/utils/metrics.py:94: RuntimeWarning: invalid value encountered in true_divide\n",
      "  chroma1 = chroma1 / np.sum(chroma1)\n",
      "/home/rakova/project/multi_musegan/musegan/musegan/utils/metrics.py:94: RuntimeWarning: invalid value encountered in true_divide\n",
      "  chroma1 = chroma1 / np.sum(chroma1)\n"
     ]
    },
    {
     "name": "stdout",
     "output_type": "stream",
     "text": [
      "   0  |  121/ 273 |   1.47 |      90.138878 |       9.120505 |      2.445364 |          2.290 |\n",
      "   0  |  122/ 273 |   1.46 |     112.305954 |      34.980312 |      1.765519 |          1.061 |\n",
      "   0  |  123/ 273 |   1.47 |      89.673355 |      -9.214032 |      1.071472 |          0.779 |\n",
      "   0  |  124/ 273 |   1.47 |      86.919800 |      -6.059175 |      1.176753 |          0.807 |\n",
      "   0  |  125/ 273 |   1.47 |      85.840012 |       5.537641 |      0.900317 |          1.057 |\n",
      "   0  |  126/ 273 |   1.47 |      90.970253 |      -4.555777 |      1.096020 |          0.701 |\n",
      "   0  |  127/ 273 |   1.47 |      91.766350 |       0.277642 |      0.934716 |          0.731 |\n",
      "   0  |  128/ 273 |   1.47 |      90.226402 |      -3.545764 |      1.356733 |          1.290 |\n",
      "   0  |  129/ 273 |   1.47 |      84.847916 |       0.848718 |      1.014722 |          0.759 |\n",
      "   0  |  130/ 273 |   1.46 |      89.857040 |      -5.213274 |      1.164097 |          0.977 |\n"
     ]
    },
    {
     "name": "stderr",
     "output_type": "stream",
     "text": [
      "/home/rakova/project/multi_musegan/musegan/musegan/utils/metrics.py:94: RuntimeWarning: invalid value encountered in true_divide\n",
      "  chroma1 = chroma1 / np.sum(chroma1)\n",
      "/home/rakova/project/multi_musegan/musegan/musegan/utils/metrics.py:96: RuntimeWarning: invalid value encountered in true_divide\n",
      "  chroma2 = chroma2 / np.sum(chroma2)\n",
      "/home/rakova/project/multi_musegan/musegan/musegan/utils/metrics.py:94: RuntimeWarning: invalid value encountered in true_divide\n",
      "  chroma1 = chroma1 / np.sum(chroma1)\n",
      "/home/rakova/project/multi_musegan/musegan/musegan/utils/metrics.py:96: RuntimeWarning: invalid value encountered in true_divide\n",
      "  chroma2 = chroma2 / np.sum(chroma2)\n",
      "/home/rakova/project/multi_musegan/musegan/musegan/utils/metrics.py:96: RuntimeWarning: invalid value encountered in true_divide\n",
      "  chroma2 = chroma2 / np.sum(chroma2)\n",
      "/home/rakova/project/multi_musegan/musegan/musegan/utils/metrics.py:94: RuntimeWarning: invalid value encountered in true_divide\n",
      "  chroma1 = chroma1 / np.sum(chroma1)\n",
      "/home/rakova/project/multi_musegan/musegan/musegan/utils/metrics.py:96: RuntimeWarning: invalid value encountered in true_divide\n",
      "  chroma2 = chroma2 / np.sum(chroma2)\n",
      "/home/rakova/project/multi_musegan/musegan/musegan/utils/metrics.py:94: RuntimeWarning: invalid value encountered in true_divide\n",
      "  chroma1 = chroma1 / np.sum(chroma1)\n"
     ]
    },
    {
     "name": "stdout",
     "output_type": "stream",
     "text": [
      "   0  |  131/ 273 |   1.47 |      93.659920 |       9.297750 |      1.009404 |          0.903 |\n",
      "   0  |  132/ 273 |   1.47 |      98.493347 |       1.047259 |      1.115140 |          0.922 |\n",
      "   0  |  133/ 273 |   1.47 |      89.557335 |       2.899176 |      1.318450 |          0.723 |\n",
      "   0  |  134/ 273 |   1.46 |      91.609047 |      -4.251287 |      0.998479 |          0.864 |\n",
      "   0  |  135/ 273 |   1.47 |     111.532410 |      -4.492123 |      1.499900 |          1.018 |\n",
      "   0  |  136/ 273 |   1.47 |      93.179688 |       0.159809 |      1.537658 |          1.376 |\n",
      "   0  |  137/ 273 |   1.47 |     106.662750 |      15.320796 |      1.245549 |          0.903 |\n",
      "   0  |  138/ 273 |   1.46 |      98.486137 |      -3.462271 |      1.132041 |          0.828 |\n",
      "   0  |  139/ 273 |   1.46 |      90.507454 |      -6.375677 |      1.156436 |          1.229 |\n",
      "   0  |  140/ 273 |   1.47 |      99.103912 |      -2.300999 |      0.906214 |          0.919 |\n"
     ]
    },
    {
     "name": "stderr",
     "output_type": "stream",
     "text": [
      "/home/rakova/project/multi_musegan/musegan/musegan/utils/metrics.py:94: RuntimeWarning: invalid value encountered in true_divide\n",
      "  chroma1 = chroma1 / np.sum(chroma1)\n",
      "/home/rakova/project/multi_musegan/musegan/musegan/utils/metrics.py:96: RuntimeWarning: invalid value encountered in true_divide\n",
      "  chroma2 = chroma2 / np.sum(chroma2)\n",
      "/home/rakova/project/multi_musegan/musegan/musegan/utils/metrics.py:94: RuntimeWarning: invalid value encountered in true_divide\n",
      "  chroma1 = chroma1 / np.sum(chroma1)\n",
      "/home/rakova/project/multi_musegan/musegan/musegan/utils/metrics.py:96: RuntimeWarning: invalid value encountered in true_divide\n",
      "  chroma2 = chroma2 / np.sum(chroma2)\n",
      "/home/rakova/project/multi_musegan/musegan/musegan/utils/metrics.py:96: RuntimeWarning: invalid value encountered in true_divide\n",
      "  chroma2 = chroma2 / np.sum(chroma2)\n",
      "/home/rakova/project/multi_musegan/musegan/musegan/utils/metrics.py:94: RuntimeWarning: invalid value encountered in true_divide\n",
      "  chroma1 = chroma1 / np.sum(chroma1)\n",
      "/home/rakova/project/multi_musegan/musegan/musegan/utils/metrics.py:94: RuntimeWarning: invalid value encountered in true_divide\n",
      "  chroma1 = chroma1 / np.sum(chroma1)\n",
      "/home/rakova/project/multi_musegan/musegan/musegan/utils/metrics.py:96: RuntimeWarning: invalid value encountered in true_divide\n",
      "  chroma2 = chroma2 / np.sum(chroma2)\n"
     ]
    },
    {
     "name": "stdout",
     "output_type": "stream",
     "text": [
      "   0  |  141/ 273 |   1.47 |      86.442581 |       0.698811 |      0.942974 |          0.877 |\n",
      "   0  |  142/ 273 |   1.47 |      89.387398 |      -1.704511 |      1.034622 |          0.788 |\n",
      "   0  |  143/ 273 |   1.47 |      98.022346 |       1.206274 |      1.524175 |          1.614 |\n",
      "   0  |  144/ 273 |   1.46 |      94.122208 |      -1.885406 |      0.798923 |          0.938 |\n",
      "   0  |  145/ 273 |   1.47 |      97.874245 |       3.612486 |      0.949137 |          0.802 |\n",
      "   0  |  146/ 273 |   1.46 |      95.477272 |      -2.896047 |      1.304403 |          0.997 |\n",
      "   0  |  147/ 273 |   1.47 |      97.520386 |      -4.519662 |      1.317631 |          0.886 |\n",
      "   0  |  148/ 273 |   1.47 |      88.566200 |      -2.525136 |      1.531801 |          1.181 |\n",
      "   0  |  149/ 273 |   1.46 |      89.908318 |       9.070210 |      2.401299 |          1.678 |\n",
      "   0  |  150/ 273 |   1.46 |      98.385162 |      -3.082755 |      1.049722 |          0.723 |\n"
     ]
    },
    {
     "name": "stderr",
     "output_type": "stream",
     "text": [
      "/home/rakova/project/multi_musegan/musegan/musegan/utils/metrics.py:94: RuntimeWarning: invalid value encountered in true_divide\n",
      "  chroma1 = chroma1 / np.sum(chroma1)\n",
      "/home/rakova/project/multi_musegan/musegan/musegan/utils/metrics.py:96: RuntimeWarning: invalid value encountered in true_divide\n",
      "  chroma2 = chroma2 / np.sum(chroma2)\n",
      "/home/rakova/project/multi_musegan/musegan/musegan/utils/metrics.py:94: RuntimeWarning: invalid value encountered in true_divide\n",
      "  chroma1 = chroma1 / np.sum(chroma1)\n",
      "/home/rakova/project/multi_musegan/musegan/musegan/utils/metrics.py:96: RuntimeWarning: invalid value encountered in true_divide\n",
      "  chroma2 = chroma2 / np.sum(chroma2)\n",
      "/home/rakova/project/multi_musegan/musegan/musegan/utils/metrics.py:94: RuntimeWarning: invalid value encountered in true_divide\n",
      "  chroma1 = chroma1 / np.sum(chroma1)\n",
      "/home/rakova/project/multi_musegan/musegan/musegan/utils/metrics.py:96: RuntimeWarning: invalid value encountered in true_divide\n",
      "  chroma2 = chroma2 / np.sum(chroma2)\n",
      "/home/rakova/project/multi_musegan/musegan/musegan/utils/metrics.py:94: RuntimeWarning: invalid value encountered in true_divide\n",
      "  chroma1 = chroma1 / np.sum(chroma1)\n",
      "/home/rakova/project/multi_musegan/musegan/musegan/utils/metrics.py:96: RuntimeWarning: invalid value encountered in true_divide\n",
      "  chroma2 = chroma2 / np.sum(chroma2)\n"
     ]
    },
    {
     "name": "stdout",
     "output_type": "stream",
     "text": [
      "   0  |  151/ 273 |   1.46 |      99.012115 |      -1.733017 |      1.154167 |          0.728 |\n",
      "   0  |  152/ 273 |   1.46 |      92.279274 |       3.046430 |      1.059144 |          0.762 |\n",
      "   0  |  153/ 273 |   1.47 |      96.739334 |      -6.067493 |      1.168051 |          0.826 |\n",
      "   0  |  154/ 273 |   1.47 |      95.050415 |       3.110854 |      1.168521 |          0.709 |\n",
      "   0  |  155/ 273 |   1.47 |      89.711929 |      -0.785322 |      1.681756 |          1.239 |\n",
      "   0  |  156/ 273 |   1.47 |      94.664886 |      -1.051545 |      1.045532 |          0.715 |\n",
      "   0  |  157/ 273 |   1.46 |      97.800636 |       2.819070 |      1.428061 |          1.655 |\n",
      "   0  |  158/ 273 |   1.47 |      89.788582 |      -2.182949 |      0.795422 |          0.684 |\n",
      "   0  |  159/ 273 |   1.46 |      90.925751 |      -1.828047 |      0.990044 |          0.886 |\n",
      "   0  |  160/ 273 |   1.46 |      92.094589 |       7.349036 |      1.005180 |          0.922 |\n"
     ]
    },
    {
     "name": "stderr",
     "output_type": "stream",
     "text": [
      "/home/rakova/project/multi_musegan/musegan/musegan/utils/metrics.py:94: RuntimeWarning: invalid value encountered in true_divide\n",
      "  chroma1 = chroma1 / np.sum(chroma1)\n",
      "/home/rakova/project/multi_musegan/musegan/musegan/utils/metrics.py:96: RuntimeWarning: invalid value encountered in true_divide\n",
      "  chroma2 = chroma2 / np.sum(chroma2)\n",
      "/home/rakova/project/multi_musegan/musegan/musegan/utils/metrics.py:94: RuntimeWarning: invalid value encountered in true_divide\n",
      "  chroma1 = chroma1 / np.sum(chroma1)\n",
      "/home/rakova/project/multi_musegan/musegan/musegan/utils/metrics.py:96: RuntimeWarning: invalid value encountered in true_divide\n",
      "  chroma2 = chroma2 / np.sum(chroma2)\n",
      "/home/rakova/project/multi_musegan/musegan/musegan/utils/metrics.py:94: RuntimeWarning: invalid value encountered in true_divide\n",
      "  chroma1 = chroma1 / np.sum(chroma1)\n",
      "/home/rakova/project/multi_musegan/musegan/musegan/utils/metrics.py:96: RuntimeWarning: invalid value encountered in true_divide\n",
      "  chroma2 = chroma2 / np.sum(chroma2)\n",
      "/home/rakova/project/multi_musegan/musegan/musegan/utils/metrics.py:94: RuntimeWarning: invalid value encountered in true_divide\n",
      "  chroma1 = chroma1 / np.sum(chroma1)\n",
      "/home/rakova/project/multi_musegan/musegan/musegan/utils/metrics.py:96: RuntimeWarning: invalid value encountered in true_divide\n",
      "  chroma2 = chroma2 / np.sum(chroma2)\n"
     ]
    },
    {
     "name": "stdout",
     "output_type": "stream",
     "text": [
      "   0  |  161/ 273 |   1.46 |      99.048065 |       0.535283 |      0.966167 |          1.225 |\n",
      "   0  |  162/ 273 |   1.46 |      94.631882 |      -1.744513 |      0.993640 |          0.924 |\n",
      "   0  |  163/ 273 |   1.46 |      90.970749 |      -0.754370 |      1.192348 |          0.925 |\n",
      "   0  |  164/ 273 |   1.46 |      98.557808 |      -4.459064 |      1.180575 |          0.866 |\n",
      "   0  |  165/ 273 |   1.46 |     104.214394 |      -6.072533 |      1.596871 |          1.293 |\n",
      "   0  |  166/ 273 |   1.47 |     105.577385 |      15.195765 |      1.017471 |          0.787 |\n",
      "   0  |  167/ 273 |   1.47 |      92.458954 |       3.191182 |      0.851479 |          0.800 |\n",
      "   0  |  168/ 273 |   1.46 |      90.011223 |      -4.071310 |      0.982992 |          1.235 |\n",
      "   0  |  169/ 273 |   1.46 |      94.060272 |      -1.967781 |      0.980625 |          0.836 |\n",
      "   0  |  170/ 273 |   1.46 |     111.041443 |       6.943500 |      0.933312 |          0.869 |\n"
     ]
    },
    {
     "name": "stderr",
     "output_type": "stream",
     "text": [
      "/home/rakova/project/multi_musegan/musegan/musegan/utils/metrics.py:94: RuntimeWarning: invalid value encountered in true_divide\n",
      "  chroma1 = chroma1 / np.sum(chroma1)\n",
      "/home/rakova/project/multi_musegan/musegan/musegan/utils/metrics.py:96: RuntimeWarning: invalid value encountered in true_divide\n",
      "  chroma2 = chroma2 / np.sum(chroma2)\n",
      "/home/rakova/project/multi_musegan/musegan/musegan/utils/metrics.py:94: RuntimeWarning: invalid value encountered in true_divide\n",
      "  chroma1 = chroma1 / np.sum(chroma1)\n",
      "/home/rakova/project/multi_musegan/musegan/musegan/utils/metrics.py:96: RuntimeWarning: invalid value encountered in true_divide\n",
      "  chroma2 = chroma2 / np.sum(chroma2)\n",
      "/home/rakova/project/multi_musegan/musegan/musegan/utils/metrics.py:94: RuntimeWarning: invalid value encountered in true_divide\n",
      "  chroma1 = chroma1 / np.sum(chroma1)\n",
      "/home/rakova/project/multi_musegan/musegan/musegan/utils/metrics.py:96: RuntimeWarning: invalid value encountered in true_divide\n",
      "  chroma2 = chroma2 / np.sum(chroma2)\n",
      "/home/rakova/project/multi_musegan/musegan/musegan/utils/metrics.py:94: RuntimeWarning: invalid value encountered in true_divide\n",
      "  chroma1 = chroma1 / np.sum(chroma1)\n"
     ]
    },
    {
     "name": "stdout",
     "output_type": "stream",
     "text": [
      "   0  |  171/ 273 |   1.46 |     105.095711 |      -5.365191 |      0.965226 |          0.756 |\n",
      "   0  |  172/ 273 |   1.46 |     101.984100 |      -4.111258 |      0.894488 |          0.705 |\n",
      "   0  |  173/ 273 |   1.46 |      94.230698 |      -8.985759 |      0.977520 |          1.088 |\n",
      "   0  |  174/ 273 |   1.47 |     115.465302 |      39.446533 |      2.797162 |          1.063 |\n",
      "   0  |  175/ 273 |   1.46 |      89.659744 |      -1.995879 |      1.015787 |          0.865 |\n",
      "   0  |  176/ 273 |   1.47 |      89.470596 |       0.177732 |      0.898651 |          0.845 |\n",
      "   0  |  177/ 273 |   1.46 |     113.156090 |      21.690273 |      1.529424 |          1.952 |\n",
      "   0  |  178/ 273 |   1.46 |      82.556717 |      -6.462770 |      1.293095 |          0.885 |\n",
      "   0  |  179/ 273 |   1.46 |      84.486710 |       4.623457 |      0.780319 |          1.096 |\n",
      "   0  |  180/ 273 |   1.46 |      88.693985 |      -7.380636 |      0.977302 |          0.737 |\n"
     ]
    },
    {
     "name": "stderr",
     "output_type": "stream",
     "text": [
      "/home/rakova/project/multi_musegan/musegan/musegan/utils/metrics.py:94: RuntimeWarning: invalid value encountered in true_divide\n",
      "  chroma1 = chroma1 / np.sum(chroma1)\n",
      "/home/rakova/project/multi_musegan/musegan/musegan/utils/metrics.py:96: RuntimeWarning: invalid value encountered in true_divide\n",
      "  chroma2 = chroma2 / np.sum(chroma2)\n",
      "/home/rakova/project/multi_musegan/musegan/musegan/utils/metrics.py:94: RuntimeWarning: invalid value encountered in true_divide\n",
      "  chroma1 = chroma1 / np.sum(chroma1)\n",
      "/home/rakova/project/multi_musegan/musegan/musegan/utils/metrics.py:96: RuntimeWarning: invalid value encountered in true_divide\n",
      "  chroma2 = chroma2 / np.sum(chroma2)\n",
      "/home/rakova/project/multi_musegan/musegan/musegan/utils/metrics.py:94: RuntimeWarning: invalid value encountered in true_divide\n",
      "  chroma1 = chroma1 / np.sum(chroma1)\n",
      "/home/rakova/project/multi_musegan/musegan/musegan/utils/metrics.py:96: RuntimeWarning: invalid value encountered in true_divide\n",
      "  chroma2 = chroma2 / np.sum(chroma2)\n",
      "/home/rakova/project/multi_musegan/musegan/musegan/utils/metrics.py:96: RuntimeWarning: invalid value encountered in true_divide\n",
      "  chroma2 = chroma2 / np.sum(chroma2)\n",
      "/home/rakova/project/multi_musegan/musegan/musegan/utils/metrics.py:94: RuntimeWarning: invalid value encountered in true_divide\n",
      "  chroma1 = chroma1 / np.sum(chroma1)\n"
     ]
    },
    {
     "name": "stdout",
     "output_type": "stream",
     "text": [
      "   0  |  181/ 273 |   1.46 |      90.679459 |       4.178473 |      1.058405 |          0.841 |\n",
      "   0  |  182/ 273 |   1.46 |      88.079987 |      -4.913952 |      1.255811 |          0.883 |\n",
      "   0  |  183/ 273 |   1.46 |     141.120758 |      88.491425 |      1.262611 |          0.850 |\n",
      "   0  |  184/ 273 |   1.46 |      88.805573 |      -7.794564 |      0.887769 |          0.740 |\n",
      "   0  |  185/ 273 |   1.46 |      94.409546 |       5.057314 |      1.800544 |          1.975 |\n",
      "   0  |  186/ 273 |   1.47 |      86.377434 |       0.720430 |      1.295895 |          0.848 |\n",
      "   0  |  187/ 273 |   1.46 |     101.896431 |      -1.365299 |      1.858745 |          1.484 |\n",
      "   0  |  188/ 273 |   1.46 |      87.118187 |      -4.280269 |      1.035337 |          0.746 |\n",
      "   0  |  189/ 273 |   1.46 |     104.463150 |      28.076326 |      3.657910 |          2.667 |\n",
      "   0  |  190/ 273 |   1.46 |      84.417175 |      -8.797605 |      0.972688 |          0.938 |\n"
     ]
    },
    {
     "name": "stderr",
     "output_type": "stream",
     "text": [
      "/home/rakova/project/multi_musegan/musegan/musegan/utils/metrics.py:94: RuntimeWarning: invalid value encountered in true_divide\n",
      "  chroma1 = chroma1 / np.sum(chroma1)\n",
      "/home/rakova/project/multi_musegan/musegan/musegan/utils/metrics.py:96: RuntimeWarning: invalid value encountered in true_divide\n",
      "  chroma2 = chroma2 / np.sum(chroma2)\n",
      "/home/rakova/project/multi_musegan/musegan/musegan/utils/metrics.py:94: RuntimeWarning: invalid value encountered in true_divide\n",
      "  chroma1 = chroma1 / np.sum(chroma1)\n",
      "/home/rakova/project/multi_musegan/musegan/musegan/utils/metrics.py:96: RuntimeWarning: invalid value encountered in true_divide\n",
      "  chroma2 = chroma2 / np.sum(chroma2)\n",
      "/home/rakova/project/multi_musegan/musegan/musegan/utils/metrics.py:94: RuntimeWarning: invalid value encountered in true_divide\n",
      "  chroma1 = chroma1 / np.sum(chroma1)\n",
      "/home/rakova/project/multi_musegan/musegan/musegan/utils/metrics.py:96: RuntimeWarning: invalid value encountered in true_divide\n",
      "  chroma2 = chroma2 / np.sum(chroma2)\n",
      "/home/rakova/project/multi_musegan/musegan/musegan/utils/metrics.py:94: RuntimeWarning: invalid value encountered in true_divide\n",
      "  chroma1 = chroma1 / np.sum(chroma1)\n",
      "/home/rakova/project/multi_musegan/musegan/musegan/utils/metrics.py:96: RuntimeWarning: invalid value encountered in true_divide\n",
      "  chroma2 = chroma2 / np.sum(chroma2)\n"
     ]
    },
    {
     "name": "stdout",
     "output_type": "stream",
     "text": [
      "   0  |  191/ 273 |   1.46 |      89.412827 |      -9.112674 |      0.915357 |          0.707 |\n",
      "   0  |  192/ 273 |   1.46 |      86.609161 |      -3.613672 |      0.961879 |          1.049 |\n",
      "   0  |  193/ 273 |   1.46 |      94.463013 |      -2.922591 |      1.226152 |          1.050 |\n",
      "   0  |  194/ 273 |   1.46 |      94.137619 |      -2.763890 |      1.422788 |          1.065 |\n",
      "   0  |  195/ 273 |   1.46 |      88.305115 |       3.334111 |      0.867768 |          0.835 |\n",
      "   0  |  196/ 273 |   1.46 |      91.687454 |      -6.512458 |      1.297785 |          1.117 |\n",
      "   0  |  197/ 273 |   1.46 |      82.856728 |      -3.474339 |      1.645501 |          1.059 |\n",
      "   0  |  198/ 273 |   1.46 |      91.356216 |      -0.214145 |      1.503771 |          1.621 |\n",
      "   0  |  199/ 273 |   1.46 |      88.611794 |       7.282780 |      1.230134 |          0.886 |\n",
      "   0  |  200/ 273 |   1.46 |      95.048477 |       1.384921 |      1.284742 |          1.252 |\n"
     ]
    },
    {
     "name": "stderr",
     "output_type": "stream",
     "text": [
      "/home/rakova/project/multi_musegan/musegan/musegan/utils/metrics.py:94: RuntimeWarning: invalid value encountered in true_divide\n",
      "  chroma1 = chroma1 / np.sum(chroma1)\n",
      "/home/rakova/project/multi_musegan/musegan/musegan/utils/metrics.py:96: RuntimeWarning: invalid value encountered in true_divide\n",
      "  chroma2 = chroma2 / np.sum(chroma2)\n",
      "/home/rakova/project/multi_musegan/musegan/musegan/utils/metrics.py:94: RuntimeWarning: invalid value encountered in true_divide\n",
      "  chroma1 = chroma1 / np.sum(chroma1)\n",
      "/home/rakova/project/multi_musegan/musegan/musegan/utils/metrics.py:96: RuntimeWarning: invalid value encountered in true_divide\n",
      "  chroma2 = chroma2 / np.sum(chroma2)\n",
      "/home/rakova/project/multi_musegan/musegan/musegan/utils/metrics.py:96: RuntimeWarning: invalid value encountered in true_divide\n",
      "  chroma2 = chroma2 / np.sum(chroma2)\n",
      "/home/rakova/project/multi_musegan/musegan/musegan/utils/metrics.py:94: RuntimeWarning: invalid value encountered in true_divide\n",
      "  chroma1 = chroma1 / np.sum(chroma1)\n",
      "/home/rakova/project/multi_musegan/musegan/musegan/utils/metrics.py:94: RuntimeWarning: invalid value encountered in true_divide\n",
      "  chroma1 = chroma1 / np.sum(chroma1)\n",
      "/home/rakova/project/multi_musegan/musegan/musegan/utils/metrics.py:96: RuntimeWarning: invalid value encountered in true_divide\n",
      "  chroma2 = chroma2 / np.sum(chroma2)\n"
     ]
    },
    {
     "name": "stdout",
     "output_type": "stream",
     "text": [
      "   0  |  201/ 273 |   1.46 |      88.650589 |      -3.788831 |      0.774518 |          0.750 |\n",
      "   0  |  202/ 273 |   1.46 |      88.574448 |      -4.867868 |      1.971123 |          2.339 |\n",
      "   0  |  203/ 273 |   1.46 |      96.434326 |       7.364924 |      1.064540 |          0.836 |\n",
      "   0  |  204/ 273 |   1.47 |      98.122665 |      43.417023 |      1.189847 |          0.865 |\n",
      "   0  |  205/ 273 |   1.46 |      93.161819 |      -3.838451 |      1.072789 |          1.359 |\n",
      "   0  |  206/ 273 |   1.47 |      92.816200 |       0.782555 |      0.959998 |          1.063 |\n",
      "   0  |  207/ 273 |   1.46 |      92.984894 |      -2.864239 |      1.133889 |          0.870 |\n",
      "   0  |  208/ 273 |   1.46 |      89.644371 |       0.262837 |      1.647868 |          1.468 |\n",
      "   0  |  209/ 273 |   1.46 |      90.070091 |       0.584111 |      0.932626 |          1.006 |\n",
      "   0  |  210/ 273 |   1.47 |      87.573898 |       3.846159 |      1.202562 |          1.438 |\n"
     ]
    },
    {
     "name": "stderr",
     "output_type": "stream",
     "text": [
      "/home/rakova/project/multi_musegan/musegan/musegan/utils/metrics.py:94: RuntimeWarning: invalid value encountered in true_divide\n",
      "  chroma1 = chroma1 / np.sum(chroma1)\n",
      "/home/rakova/project/multi_musegan/musegan/musegan/utils/metrics.py:96: RuntimeWarning: invalid value encountered in true_divide\n",
      "  chroma2 = chroma2 / np.sum(chroma2)\n",
      "/home/rakova/project/multi_musegan/musegan/musegan/utils/metrics.py:94: RuntimeWarning: invalid value encountered in true_divide\n",
      "  chroma1 = chroma1 / np.sum(chroma1)\n",
      "/home/rakova/project/multi_musegan/musegan/musegan/utils/metrics.py:96: RuntimeWarning: invalid value encountered in true_divide\n",
      "  chroma2 = chroma2 / np.sum(chroma2)\n",
      "/home/rakova/project/multi_musegan/musegan/musegan/utils/metrics.py:94: RuntimeWarning: invalid value encountered in true_divide\n",
      "  chroma1 = chroma1 / np.sum(chroma1)\n",
      "/home/rakova/project/multi_musegan/musegan/musegan/utils/metrics.py:94: RuntimeWarning: invalid value encountered in true_divide\n",
      "  chroma1 = chroma1 / np.sum(chroma1)\n"
     ]
    },
    {
     "name": "stdout",
     "output_type": "stream",
     "text": [
      "   0  |  211/ 273 |   1.47 |      91.329422 |      20.308626 |      2.331074 |          2.085 |\n",
      "   0  |  212/ 273 |   1.46 |      95.110092 |      -0.155755 |      0.994640 |          0.782 |\n",
      "   0  |  213/ 273 |   1.46 |      89.945526 |      -2.201589 |      1.190754 |          1.446 |\n",
      "   0  |  214/ 273 |   1.46 |      82.691711 |       1.361976 |      0.801751 |          0.952 |\n",
      "   0  |  215/ 273 |   1.46 |      96.804710 |       1.184000 |      0.719976 |          1.136 |\n",
      "   0  |  216/ 273 |   1.46 |      92.552917 |      -1.723181 |      0.979632 |          1.059 |\n",
      "   0  |  217/ 273 |   1.46 |      98.350449 |       3.842841 |      1.318258 |          1.094 |\n",
      "   0  |  218/ 273 |   1.46 |      84.063522 |       3.895519 |      0.951710 |          0.835 |\n",
      "   0  |  219/ 273 |   1.46 |      84.491959 |      -5.713833 |      0.760962 |          0.794 |\n",
      "   0  |  220/ 273 |   1.46 |      98.564240 |       9.429539 |      1.181255 |          0.982 |\n"
     ]
    },
    {
     "name": "stderr",
     "output_type": "stream",
     "text": [
      "/home/rakova/project/multi_musegan/musegan/musegan/utils/metrics.py:94: RuntimeWarning: invalid value encountered in true_divide\n",
      "  chroma1 = chroma1 / np.sum(chroma1)\n",
      "/home/rakova/project/multi_musegan/musegan/musegan/utils/metrics.py:94: RuntimeWarning: invalid value encountered in true_divide\n",
      "  chroma1 = chroma1 / np.sum(chroma1)\n",
      "/home/rakova/project/multi_musegan/musegan/musegan/utils/metrics.py:94: RuntimeWarning: invalid value encountered in true_divide\n",
      "  chroma1 = chroma1 / np.sum(chroma1)\n",
      "/home/rakova/project/multi_musegan/musegan/musegan/utils/metrics.py:94: RuntimeWarning: invalid value encountered in true_divide\n",
      "  chroma1 = chroma1 / np.sum(chroma1)\n"
     ]
    },
    {
     "name": "stdout",
     "output_type": "stream",
     "text": [
      "   0  |  221/ 273 |   1.46 |      94.050827 |       8.973433 |      1.427520 |          1.161 |\n",
      "   0  |  222/ 273 |   1.46 |      92.907463 |      -5.020507 |      1.242286 |          1.378 |\n",
      "   0  |  223/ 273 |   1.46 |      92.849121 |      -4.340919 |      0.878903 |          0.943 |\n",
      "   0  |  224/ 273 |   1.46 |     110.355789 |      29.851053 |      1.358551 |          1.121 |\n",
      "   0  |  225/ 273 |   1.46 |     141.493195 |     102.766502 |      8.708762 |          4.158 |\n",
      "   0  |  226/ 273 |   1.46 |      92.738678 |       8.065509 |      0.835899 |          0.938 |\n",
      "   0  |  227/ 273 |   1.46 |      83.147926 |       3.399436 |      0.914797 |          0.847 |\n",
      "   0  |  228/ 273 |   1.46 |      84.719955 |      -5.218711 |      1.036709 |          0.828 |\n",
      "   0  |  229/ 273 |   1.46 |      89.238342 |       1.917256 |      0.936658 |          0.812 |\n",
      "   0  |  230/ 273 |   1.46 |      88.572678 |       8.835423 |      1.068699 |          1.059 |\n"
     ]
    },
    {
     "name": "stderr",
     "output_type": "stream",
     "text": [
      "/home/rakova/project/multi_musegan/musegan/musegan/utils/metrics.py:94: RuntimeWarning: invalid value encountered in true_divide\n",
      "  chroma1 = chroma1 / np.sum(chroma1)\n",
      "/home/rakova/project/multi_musegan/musegan/musegan/utils/metrics.py:96: RuntimeWarning: invalid value encountered in true_divide\n",
      "  chroma2 = chroma2 / np.sum(chroma2)\n",
      "/home/rakova/project/multi_musegan/musegan/musegan/utils/metrics.py:94: RuntimeWarning: invalid value encountered in true_divide\n",
      "  chroma1 = chroma1 / np.sum(chroma1)\n",
      "/home/rakova/project/multi_musegan/musegan/musegan/utils/metrics.py:96: RuntimeWarning: invalid value encountered in true_divide\n",
      "  chroma2 = chroma2 / np.sum(chroma2)\n",
      "/home/rakova/project/multi_musegan/musegan/musegan/utils/metrics.py:94: RuntimeWarning: invalid value encountered in true_divide\n",
      "  chroma1 = chroma1 / np.sum(chroma1)\n",
      "/home/rakova/project/multi_musegan/musegan/musegan/utils/metrics.py:96: RuntimeWarning: invalid value encountered in true_divide\n",
      "  chroma2 = chroma2 / np.sum(chroma2)\n",
      "/home/rakova/project/multi_musegan/musegan/musegan/utils/metrics.py:94: RuntimeWarning: invalid value encountered in true_divide\n",
      "  chroma1 = chroma1 / np.sum(chroma1)\n",
      "/home/rakova/project/multi_musegan/musegan/musegan/utils/metrics.py:96: RuntimeWarning: invalid value encountered in true_divide\n",
      "  chroma2 = chroma2 / np.sum(chroma2)\n"
     ]
    },
    {
     "name": "stdout",
     "output_type": "stream",
     "text": [
      "   0  |  231/ 273 |   1.46 |      85.790878 |       1.571349 |      0.726137 |          0.941 |\n",
      "   0  |  232/ 273 |   1.46 |      88.882057 |      -3.099615 |      1.047633 |          0.840 |\n",
      "   0  |  233/ 273 |   1.46 |      85.306000 |       1.410259 |      0.741637 |          1.057 |\n",
      "   0  |  234/ 273 |   1.46 |     103.521942 |      -4.041152 |      0.837696 |          1.057 |\n",
      "   0  |  235/ 273 |   1.46 |      88.139656 |       5.917170 |      0.972447 |          0.723 |\n",
      "   0  |  236/ 273 |   1.46 |      87.378555 |       5.364837 |      0.835739 |          0.788 |\n",
      "   0  |  237/ 273 |   1.46 |      95.210602 |       1.471943 |      3.402925 |          3.308 |\n",
      "   0  |  238/ 273 |   1.47 |      90.030647 |      -2.733999 |      0.798510 |          0.758 |\n",
      "   0  |  239/ 273 |   1.46 |      92.384102 |      -2.206280 |      0.891819 |          1.306 |\n",
      "   0  |  240/ 273 |   1.46 |      88.964828 |      -0.585990 |      0.974925 |          0.783 |\n"
     ]
    },
    {
     "name": "stderr",
     "output_type": "stream",
     "text": [
      "/home/rakova/project/multi_musegan/musegan/musegan/utils/metrics.py:96: RuntimeWarning: invalid value encountered in true_divide\n",
      "  chroma2 = chroma2 / np.sum(chroma2)\n",
      "/home/rakova/project/multi_musegan/musegan/musegan/utils/metrics.py:94: RuntimeWarning: invalid value encountered in true_divide\n",
      "  chroma1 = chroma1 / np.sum(chroma1)\n",
      "/home/rakova/project/multi_musegan/musegan/musegan/utils/metrics.py:96: RuntimeWarning: invalid value encountered in true_divide\n",
      "  chroma2 = chroma2 / np.sum(chroma2)\n",
      "/home/rakova/project/multi_musegan/musegan/musegan/utils/metrics.py:94: RuntimeWarning: invalid value encountered in true_divide\n",
      "  chroma1 = chroma1 / np.sum(chroma1)\n",
      "/home/rakova/project/multi_musegan/musegan/musegan/utils/metrics.py:96: RuntimeWarning: invalid value encountered in true_divide\n",
      "  chroma2 = chroma2 / np.sum(chroma2)\n",
      "/home/rakova/project/multi_musegan/musegan/musegan/utils/metrics.py:96: RuntimeWarning: invalid value encountered in true_divide\n",
      "  chroma2 = chroma2 / np.sum(chroma2)\n"
     ]
    },
    {
     "name": "stdout",
     "output_type": "stream",
     "text": [
      "   0  |  241/ 273 |   1.46 |      87.964607 |       5.847139 |      0.968936 |          0.929 |\n",
      "   0  |  242/ 273 |   1.46 |      91.785156 |       0.797077 |      0.671147 |          1.033 |\n",
      "   0  |  243/ 273 |   1.46 |      85.875092 |      -4.387556 |      0.740276 |          0.982 |\n",
      "   0  |  244/ 273 |   1.46 |      87.337524 |      -0.052819 |      0.536833 |          0.819 |\n",
      "   0  |  245/ 273 |   1.46 |      87.034431 |       2.720216 |      0.636574 |          0.963 |\n",
      "   0  |  246/ 273 |   1.46 |      99.051392 |       0.230837 |      0.732541 |          0.848 |\n",
      "   0  |  247/ 273 |   1.46 |      85.053787 |      -3.325851 |      0.604588 |          0.958 |\n",
      "   0  |  248/ 273 |   1.46 |      92.761215 |      -3.471680 |      0.898371 |          0.753 |\n",
      "   0  |  249/ 273 |   1.47 |      86.216995 |      18.824345 |      0.888618 |          0.869 |\n",
      "   0  |  250/ 273 |   1.46 |      84.495033 |      -2.701414 |      1.144130 |          1.531 |\n"
     ]
    },
    {
     "name": "stderr",
     "output_type": "stream",
     "text": [
      "/home/rakova/project/multi_musegan/musegan/musegan/utils/metrics.py:94: RuntimeWarning: invalid value encountered in true_divide\n",
      "  chroma1 = chroma1 / np.sum(chroma1)\n",
      "/home/rakova/project/multi_musegan/musegan/musegan/utils/metrics.py:96: RuntimeWarning: invalid value encountered in true_divide\n",
      "  chroma2 = chroma2 / np.sum(chroma2)\n",
      "/home/rakova/project/multi_musegan/musegan/musegan/utils/metrics.py:94: RuntimeWarning: invalid value encountered in true_divide\n",
      "  chroma1 = chroma1 / np.sum(chroma1)\n",
      "/home/rakova/project/multi_musegan/musegan/musegan/utils/metrics.py:96: RuntimeWarning: invalid value encountered in true_divide\n",
      "  chroma2 = chroma2 / np.sum(chroma2)\n",
      "/home/rakova/project/multi_musegan/musegan/musegan/utils/metrics.py:96: RuntimeWarning: invalid value encountered in true_divide\n",
      "  chroma2 = chroma2 / np.sum(chroma2)\n",
      "/home/rakova/project/multi_musegan/musegan/musegan/utils/metrics.py:94: RuntimeWarning: invalid value encountered in true_divide\n",
      "  chroma1 = chroma1 / np.sum(chroma1)\n",
      "/home/rakova/project/multi_musegan/musegan/musegan/utils/metrics.py:96: RuntimeWarning: invalid value encountered in true_divide\n",
      "  chroma2 = chroma2 / np.sum(chroma2)\n",
      "/home/rakova/project/multi_musegan/musegan/musegan/utils/metrics.py:94: RuntimeWarning: invalid value encountered in true_divide\n",
      "  chroma1 = chroma1 / np.sum(chroma1)\n"
     ]
    },
    {
     "name": "stdout",
     "output_type": "stream",
     "text": [
      "   0  |  251/ 273 |   1.46 |      90.294418 |       6.290893 |      1.452009 |          1.301 |\n",
      "   0  |  252/ 273 |   1.46 |      92.618103 |       3.972191 |      0.716252 |          1.126 |\n",
      "   0  |  253/ 273 |   1.46 |      98.793320 |       0.014287 |      1.687502 |          1.887 |\n",
      "   0  |  254/ 273 |   1.46 |      80.644958 |      -2.595459 |      0.747584 |          0.825 |\n",
      "   0  |  255/ 273 |   1.46 |      96.222565 |      10.371052 |      0.867845 |          1.376 |\n",
      "   0  |  256/ 273 |   1.46 |      85.139465 |       2.022473 |      0.788383 |          0.796 |\n",
      "   0  |  257/ 273 |   1.46 |      84.295929 |      21.022135 |      1.525711 |          2.067 |\n",
      "   0  |  258/ 273 |   1.46 |      99.898575 |       3.082478 |      0.650276 |          1.028 |\n",
      "   0  |  259/ 273 |   1.46 |      77.510437 |      -0.069118 |      1.031717 |          0.870 |\n",
      "   0  |  260/ 273 |   1.46 |      94.612808 |       4.597729 |      0.617102 |          0.845 |\n"
     ]
    },
    {
     "name": "stderr",
     "output_type": "stream",
     "text": [
      "/home/rakova/project/multi_musegan/musegan/musegan/utils/metrics.py:94: RuntimeWarning: invalid value encountered in true_divide\n",
      "  chroma1 = chroma1 / np.sum(chroma1)\n",
      "/home/rakova/project/multi_musegan/musegan/musegan/utils/metrics.py:96: RuntimeWarning: invalid value encountered in true_divide\n",
      "  chroma2 = chroma2 / np.sum(chroma2)\n",
      "/home/rakova/project/multi_musegan/musegan/musegan/utils/metrics.py:94: RuntimeWarning: invalid value encountered in true_divide\n",
      "  chroma1 = chroma1 / np.sum(chroma1)\n",
      "/home/rakova/project/multi_musegan/musegan/musegan/utils/metrics.py:96: RuntimeWarning: invalid value encountered in true_divide\n",
      "  chroma2 = chroma2 / np.sum(chroma2)\n",
      "/home/rakova/project/multi_musegan/musegan/musegan/utils/metrics.py:94: RuntimeWarning: invalid value encountered in true_divide\n",
      "  chroma1 = chroma1 / np.sum(chroma1)\n",
      "/home/rakova/project/multi_musegan/musegan/musegan/utils/metrics.py:96: RuntimeWarning: invalid value encountered in true_divide\n",
      "  chroma2 = chroma2 / np.sum(chroma2)\n",
      "/home/rakova/project/multi_musegan/musegan/musegan/utils/metrics.py:94: RuntimeWarning: invalid value encountered in true_divide\n",
      "  chroma1 = chroma1 / np.sum(chroma1)\n",
      "/home/rakova/project/multi_musegan/musegan/musegan/utils/metrics.py:96: RuntimeWarning: invalid value encountered in true_divide\n",
      "  chroma2 = chroma2 / np.sum(chroma2)\n"
     ]
    },
    {
     "name": "stdout",
     "output_type": "stream",
     "text": [
      "   0  |  261/ 273 |   1.46 |      90.062927 |      -1.245341 |      0.734379 |          1.117 |\n",
      "   0  |  262/ 273 |   1.46 |      85.047523 |      -4.143157 |      0.952476 |          0.881 |\n",
      "   0  |  263/ 273 |   1.46 |      88.374245 |      23.686390 |      3.405057 |          2.106 |\n",
      "   0  |  264/ 273 |   1.46 |      97.442703 |     -11.598409 |      0.700429 |          0.786 |\n",
      "   0  |  265/ 273 |   1.46 |      91.525673 |       2.595176 |      0.600127 |          0.828 |\n",
      "   0  |  266/ 273 |   1.46 |      83.923660 |       9.066081 |      0.872744 |          1.173 |\n",
      "   0  |  267/ 273 |   1.46 |      94.053711 |      13.273736 |      1.403535 |          1.165 |\n",
      "   0  |  268/ 273 |   1.46 |      86.761169 |      -5.156483 |      0.586619 |          1.133 |\n",
      "   0  |  269/ 273 |   1.46 |      78.425018 |      -3.229818 |      0.524126 |          0.813 |\n",
      "   0  |  270/ 273 |   1.46 |      92.924911 |      -1.778036 |      0.491305 |          1.000 |\n"
     ]
    },
    {
     "name": "stderr",
     "output_type": "stream",
     "text": [
      "/home/rakova/project/multi_musegan/musegan/musegan/utils/metrics.py:94: RuntimeWarning: invalid value encountered in true_divide\n",
      "  chroma1 = chroma1 / np.sum(chroma1)\n",
      "/home/rakova/project/multi_musegan/musegan/musegan/utils/metrics.py:96: RuntimeWarning: invalid value encountered in true_divide\n",
      "  chroma2 = chroma2 / np.sum(chroma2)\n",
      "/home/rakova/project/multi_musegan/musegan/musegan/utils/metrics.py:96: RuntimeWarning: invalid value encountered in true_divide\n",
      "  chroma2 = chroma2 / np.sum(chroma2)\n",
      "/home/rakova/project/multi_musegan/musegan/musegan/utils/metrics.py:94: RuntimeWarning: invalid value encountered in true_divide\n",
      "  chroma1 = chroma1 / np.sum(chroma1)\n",
      "/home/rakova/project/multi_musegan/musegan/musegan/utils/metrics.py:94: RuntimeWarning: invalid value encountered in true_divide\n",
      "  chroma1 = chroma1 / np.sum(chroma1)\n",
      "/home/rakova/project/multi_musegan/musegan/musegan/utils/metrics.py:94: RuntimeWarning: invalid value encountered in true_divide\n",
      "  chroma1 = chroma1 / np.sum(chroma1)\n"
     ]
    },
    {
     "name": "stdout",
     "output_type": "stream",
     "text": [
      "   0  |  271/ 273 |   1.46 |      82.950699 |       3.161572 |      0.737740 |          1.081 |\n",
      "   0  |  272/ 273 |   1.46 |      85.338829 |      -3.166498 |      0.754874 |          1.092 |\n",
      "[*] Saving checkpoint...\n",
      "-------------------------------- Epoch 1 Start ---------------------------------\n",
      "epoch |   batch   |  time  |    - D_loss    |     G_loss    |  CrossEntr  | CrossEntrTest\n",
      "   1  |    0/ 273 |   1.48 |      84.039703 |       2.132152 |      0.705813 |          0.894 |\n",
      "   1  |    1/ 273 |   1.47 |      96.170227 |       3.097586 |      0.819391 |          1.070 |\n",
      "   1  |    2/ 273 |   1.46 |      87.842468 |       5.813274 |      0.721408 |          1.051 |\n",
      "   1  |    3/ 273 |   1.46 |      85.669312 |      -1.008163 |      0.490465 |          0.932 |\n",
      "   1  |    4/ 273 |   1.46 |      89.569824 |       7.730444 |      0.547086 |          1.087 |\n",
      "   1  |    5/ 273 |   1.46 |      88.149414 |      -0.627812 |      0.719111 |          1.006 |\n",
      "   1  |    6/ 273 |   1.46 |      87.927711 |      -4.356244 |      0.552423 |          0.813 |\n",
      "   1  |    7/ 273 |   1.46 |      82.192474 |      12.517817 |      1.042727 |          1.391 |\n"
     ]
    },
    {
     "name": "stderr",
     "output_type": "stream",
     "text": [
      "/home/rakova/project/multi_musegan/musegan/musegan/utils/metrics.py:94: RuntimeWarning: invalid value encountered in true_divide\n",
      "  chroma1 = chroma1 / np.sum(chroma1)\n",
      "/home/rakova/project/multi_musegan/musegan/musegan/utils/metrics.py:96: RuntimeWarning: invalid value encountered in true_divide\n",
      "  chroma2 = chroma2 / np.sum(chroma2)\n",
      "/home/rakova/project/multi_musegan/musegan/musegan/utils/metrics.py:94: RuntimeWarning: invalid value encountered in true_divide\n",
      "  chroma1 = chroma1 / np.sum(chroma1)\n",
      "/home/rakova/project/multi_musegan/musegan/musegan/utils/metrics.py:96: RuntimeWarning: invalid value encountered in true_divide\n",
      "  chroma2 = chroma2 / np.sum(chroma2)\n",
      "/home/rakova/project/multi_musegan/musegan/musegan/utils/metrics.py:94: RuntimeWarning: invalid value encountered in true_divide\n",
      "  chroma1 = chroma1 / np.sum(chroma1)\n",
      "/home/rakova/project/multi_musegan/musegan/musegan/utils/metrics.py:96: RuntimeWarning: invalid value encountered in true_divide\n",
      "  chroma2 = chroma2 / np.sum(chroma2)\n",
      "/home/rakova/project/multi_musegan/musegan/musegan/utils/metrics.py:96: RuntimeWarning: invalid value encountered in true_divide\n",
      "  chroma2 = chroma2 / np.sum(chroma2)\n",
      "/home/rakova/project/multi_musegan/musegan/musegan/utils/metrics.py:94: RuntimeWarning: invalid value encountered in true_divide\n",
      "  chroma1 = chroma1 / np.sum(chroma1)\n"
     ]
    },
    {
     "name": "stdout",
     "output_type": "stream",
     "text": [
      "   1  |    8/ 273 |   1.46 |      92.421501 |      -9.753803 |      0.854381 |          0.810 |\n",
      "   1  |    9/ 273 |   1.46 |      83.220970 |      -2.971457 |      0.561276 |          0.802 |\n",
      "   1  |   10/ 273 |   1.46 |      85.673691 |       5.298504 |      1.350113 |          1.653 |\n",
      "   1  |   11/ 273 |   1.46 |      87.610229 |      -2.141968 |      0.719036 |          0.922 |\n",
      "   1  |   12/ 273 |   1.46 |      94.644989 |      -8.523731 |      0.618662 |          0.916 |\n",
      "   1  |   13/ 273 |   1.46 |      82.951393 |      -2.063231 |      0.421705 |          0.982 |\n",
      "   1  |   14/ 273 |   1.46 |      77.734734 |       5.851807 |      0.569432 |          0.828 |\n",
      "   1  |   15/ 273 |   1.46 |      85.264053 |      -1.336494 |      0.652652 |          0.957 |\n",
      "   1  |   16/ 273 |   1.46 |      78.696487 |       0.497543 |      1.070682 |          1.462 |\n",
      "   1  |   17/ 273 |   1.46 |      88.285019 |      -0.185167 |      0.575341 |          0.842 |\n"
     ]
    },
    {
     "name": "stderr",
     "output_type": "stream",
     "text": [
      "/home/rakova/project/multi_musegan/musegan/musegan/utils/metrics.py:94: RuntimeWarning: invalid value encountered in true_divide\n",
      "  chroma1 = chroma1 / np.sum(chroma1)\n",
      "/home/rakova/project/multi_musegan/musegan/musegan/utils/metrics.py:96: RuntimeWarning: invalid value encountered in true_divide\n",
      "  chroma2 = chroma2 / np.sum(chroma2)\n",
      "/home/rakova/project/multi_musegan/musegan/musegan/utils/metrics.py:96: RuntimeWarning: invalid value encountered in true_divide\n",
      "  chroma2 = chroma2 / np.sum(chroma2)\n",
      "/home/rakova/project/multi_musegan/musegan/musegan/utils/metrics.py:94: RuntimeWarning: invalid value encountered in true_divide\n",
      "  chroma1 = chroma1 / np.sum(chroma1)\n",
      "/home/rakova/project/multi_musegan/musegan/musegan/utils/metrics.py:94: RuntimeWarning: invalid value encountered in true_divide\n",
      "  chroma1 = chroma1 / np.sum(chroma1)\n",
      "/home/rakova/project/multi_musegan/musegan/musegan/utils/metrics.py:96: RuntimeWarning: invalid value encountered in true_divide\n",
      "  chroma2 = chroma2 / np.sum(chroma2)\n",
      "/home/rakova/project/multi_musegan/musegan/musegan/utils/metrics.py:94: RuntimeWarning: invalid value encountered in true_divide\n",
      "  chroma1 = chroma1 / np.sum(chroma1)\n",
      "/home/rakova/project/multi_musegan/musegan/musegan/utils/metrics.py:96: RuntimeWarning: invalid value encountered in true_divide\n",
      "  chroma2 = chroma2 / np.sum(chroma2)\n"
     ]
    },
    {
     "name": "stdout",
     "output_type": "stream",
     "text": [
      "   1  |   18/ 273 |   1.46 |      82.054588 |       0.911235 |      0.650474 |          0.974 |\n",
      "   1  |   19/ 273 |   1.46 |     103.011719 |      37.741806 |      1.548889 |          1.870 |\n",
      "   1  |   20/ 273 |   1.46 |      75.564331 |       4.353648 |      0.804154 |          1.360 |\n",
      "   1  |   21/ 273 |   1.46 |      75.431564 |      -8.074592 |      0.638413 |          0.864 |\n",
      "   1  |   22/ 273 |   1.46 |      83.678841 |      -5.768893 |      0.804304 |          1.049 |\n",
      "   1  |   23/ 273 |   1.46 |      87.970329 |      16.449289 |      2.536842 |          4.006 |\n",
      "   1  |   24/ 273 |   1.46 |      76.932358 |      -5.796277 |      0.869372 |          0.805 |\n",
      "   1  |   25/ 273 |   1.46 |      89.007324 |      29.043636 |      2.133897 |          1.512 |\n",
      "   1  |   26/ 273 |   1.46 |      68.576637 |      -0.851826 |      0.582053 |          0.795 |\n",
      "   1  |   27/ 273 |   1.46 |      69.753555 |      -6.017895 |      1.459580 |          1.470 |\n"
     ]
    },
    {
     "name": "stderr",
     "output_type": "stream",
     "text": [
      "/home/rakova/project/multi_musegan/musegan/musegan/utils/metrics.py:94: RuntimeWarning: invalid value encountered in true_divide\n",
      "  chroma1 = chroma1 / np.sum(chroma1)\n",
      "/home/rakova/project/multi_musegan/musegan/musegan/utils/metrics.py:96: RuntimeWarning: invalid value encountered in true_divide\n",
      "  chroma2 = chroma2 / np.sum(chroma2)\n",
      "/home/rakova/project/multi_musegan/musegan/musegan/utils/metrics.py:94: RuntimeWarning: invalid value encountered in true_divide\n",
      "  chroma1 = chroma1 / np.sum(chroma1)\n",
      "/home/rakova/project/multi_musegan/musegan/musegan/utils/metrics.py:96: RuntimeWarning: invalid value encountered in true_divide\n",
      "  chroma2 = chroma2 / np.sum(chroma2)\n",
      "/home/rakova/project/multi_musegan/musegan/musegan/utils/metrics.py:94: RuntimeWarning: invalid value encountered in true_divide\n",
      "  chroma1 = chroma1 / np.sum(chroma1)\n",
      "/home/rakova/project/multi_musegan/musegan/musegan/utils/metrics.py:96: RuntimeWarning: invalid value encountered in true_divide\n",
      "  chroma2 = chroma2 / np.sum(chroma2)\n",
      "/home/rakova/project/multi_musegan/musegan/musegan/utils/metrics.py:94: RuntimeWarning: invalid value encountered in true_divide\n",
      "  chroma1 = chroma1 / np.sum(chroma1)\n",
      "/home/rakova/project/multi_musegan/musegan/musegan/utils/metrics.py:96: RuntimeWarning: invalid value encountered in true_divide\n",
      "  chroma2 = chroma2 / np.sum(chroma2)\n"
     ]
    },
    {
     "name": "stdout",
     "output_type": "stream",
     "text": [
      "   1  |   28/ 273 |   1.46 |      81.519318 |      -8.077874 |      0.704746 |          0.899 |\n",
      "   1  |   29/ 273 |   1.46 |      89.985657 |      -7.610986 |      0.518723 |          0.786 |\n",
      "   1  |   30/ 273 |   1.46 |      71.679863 |       3.229139 |      1.650301 |          1.664 |\n",
      "   1  |   31/ 273 |   1.46 |      86.042595 |       2.006543 |      1.042126 |          1.010 |\n",
      "   1  |   32/ 273 |   1.46 |      79.618622 |       1.474174 |      0.678079 |          0.901 |\n",
      "   1  |   33/ 273 |   1.46 |      81.960960 |      -8.165717 |      0.866495 |          1.443 |\n",
      "   1  |   34/ 273 |   1.46 |      78.991112 |       5.199882 |      0.573419 |          0.836 |\n",
      "   1  |   35/ 273 |   1.46 |      76.985107 |      -1.155179 |      0.636196 |          1.169 |\n",
      "   1  |   36/ 273 |   1.46 |      80.478615 |       3.248050 |      0.641306 |          1.300 |\n",
      "   1  |   37/ 273 |   1.46 |      85.870407 |      -0.423678 |      0.617541 |          0.839 |\n"
     ]
    },
    {
     "name": "stderr",
     "output_type": "stream",
     "text": [
      "/home/rakova/project/multi_musegan/musegan/musegan/utils/metrics.py:94: RuntimeWarning: invalid value encountered in true_divide\n",
      "  chroma1 = chroma1 / np.sum(chroma1)\n",
      "/home/rakova/project/multi_musegan/musegan/musegan/utils/metrics.py:96: RuntimeWarning: invalid value encountered in true_divide\n",
      "  chroma2 = chroma2 / np.sum(chroma2)\n",
      "/home/rakova/project/multi_musegan/musegan/musegan/utils/metrics.py:94: RuntimeWarning: invalid value encountered in true_divide\n",
      "  chroma1 = chroma1 / np.sum(chroma1)\n",
      "/home/rakova/project/multi_musegan/musegan/musegan/utils/metrics.py:96: RuntimeWarning: invalid value encountered in true_divide\n",
      "  chroma2 = chroma2 / np.sum(chroma2)\n",
      "/home/rakova/project/multi_musegan/musegan/musegan/utils/metrics.py:94: RuntimeWarning: invalid value encountered in true_divide\n",
      "  chroma1 = chroma1 / np.sum(chroma1)\n",
      "/home/rakova/project/multi_musegan/musegan/musegan/utils/metrics.py:96: RuntimeWarning: invalid value encountered in true_divide\n",
      "  chroma2 = chroma2 / np.sum(chroma2)\n",
      "/home/rakova/project/multi_musegan/musegan/musegan/utils/metrics.py:96: RuntimeWarning: invalid value encountered in true_divide\n",
      "  chroma2 = chroma2 / np.sum(chroma2)\n",
      "/home/rakova/project/multi_musegan/musegan/musegan/utils/metrics.py:94: RuntimeWarning: invalid value encountered in true_divide\n",
      "  chroma1 = chroma1 / np.sum(chroma1)\n"
     ]
    },
    {
     "name": "stdout",
     "output_type": "stream",
     "text": [
      "   1  |   38/ 273 |   1.46 |      78.622025 |      -6.064842 |      0.441441 |          0.937 |\n",
      "   1  |   39/ 273 |   1.46 |      87.501945 |      -5.200154 |      0.636116 |          0.930 |\n",
      "   1  |   40/ 273 |   1.46 |      90.987701 |      -8.425186 |      0.293008 |          1.204 |\n",
      "   1  |   41/ 273 |   1.47 |      88.499451 |      14.068055 |      0.928135 |          1.331 |\n",
      "   1  |   42/ 273 |   1.46 |      81.240692 |       3.180454 |      0.867557 |          1.118 |\n",
      "   1  |   43/ 273 |   1.46 |      76.276878 |       3.187944 |      0.471887 |          1.026 |\n",
      "   1  |   44/ 273 |   1.46 |      81.765091 |      -5.037813 |      0.560177 |          0.812 |\n",
      "   1  |   45/ 273 |   1.46 |     106.959610 |      50.070225 |      1.546057 |          1.495 |\n",
      "   1  |   46/ 273 |   1.46 |      82.199135 |      -3.488755 |      0.491717 |          0.952 |\n",
      "   1  |   47/ 273 |   1.46 |      80.897781 |      -4.150937 |      0.723531 |          0.919 |\n"
     ]
    },
    {
     "name": "stderr",
     "output_type": "stream",
     "text": [
      "/home/rakova/project/multi_musegan/musegan/musegan/utils/metrics.py:94: RuntimeWarning: invalid value encountered in true_divide\n",
      "  chroma1 = chroma1 / np.sum(chroma1)\n",
      "/home/rakova/project/multi_musegan/musegan/musegan/utils/metrics.py:96: RuntimeWarning: invalid value encountered in true_divide\n",
      "  chroma2 = chroma2 / np.sum(chroma2)\n",
      "/home/rakova/project/multi_musegan/musegan/musegan/utils/metrics.py:94: RuntimeWarning: invalid value encountered in true_divide\n",
      "  chroma1 = chroma1 / np.sum(chroma1)\n",
      "/home/rakova/project/multi_musegan/musegan/musegan/utils/metrics.py:96: RuntimeWarning: invalid value encountered in true_divide\n",
      "  chroma2 = chroma2 / np.sum(chroma2)\n",
      "/home/rakova/project/multi_musegan/musegan/musegan/utils/metrics.py:94: RuntimeWarning: invalid value encountered in true_divide\n",
      "  chroma1 = chroma1 / np.sum(chroma1)\n",
      "/home/rakova/project/multi_musegan/musegan/musegan/utils/metrics.py:96: RuntimeWarning: invalid value encountered in true_divide\n",
      "  chroma2 = chroma2 / np.sum(chroma2)\n",
      "/home/rakova/project/multi_musegan/musegan/musegan/utils/metrics.py:94: RuntimeWarning: invalid value encountered in true_divide\n",
      "  chroma1 = chroma1 / np.sum(chroma1)\n",
      "/home/rakova/project/multi_musegan/musegan/musegan/utils/metrics.py:96: RuntimeWarning: invalid value encountered in true_divide\n",
      "  chroma2 = chroma2 / np.sum(chroma2)\n"
     ]
    },
    {
     "name": "stdout",
     "output_type": "stream",
     "text": [
      "   1  |   48/ 273 |   1.46 |      75.974838 |       1.851081 |      0.507268 |          0.851 |\n",
      "   1  |   49/ 273 |   1.46 |      86.508980 |       7.953680 |      0.643187 |          1.439 |\n",
      "   1  |   50/ 273 |   1.46 |      85.440910 |      -4.281047 |      0.905660 |          1.439 |\n",
      "   1  |   51/ 273 |   1.46 |      79.107353 |      -0.812310 |      0.917525 |          1.591 |\n",
      "   1  |   52/ 273 |   1.46 |      74.733017 |       9.609711 |      0.542782 |          0.812 |\n",
      "   1  |   53/ 273 |   1.46 |      84.333466 |      -3.265603 |      0.742115 |          0.822 |\n",
      "   1  |   54/ 273 |   1.46 |      84.810684 |      -3.264693 |      0.633278 |          1.007 |\n",
      "   1  |   55/ 273 |   1.46 |      77.825645 |       7.188231 |      0.651082 |          0.755 |\n",
      "   1  |   56/ 273 |   1.46 |      76.481064 |      17.741308 |      2.173753 |          1.904 |\n",
      "   1  |   57/ 273 |   1.46 |      82.911942 |     -10.077593 |      0.689900 |          0.865 |\n"
     ]
    },
    {
     "name": "stderr",
     "output_type": "stream",
     "text": [
      "/home/rakova/project/multi_musegan/musegan/musegan/utils/metrics.py:94: RuntimeWarning: invalid value encountered in true_divide\n",
      "  chroma1 = chroma1 / np.sum(chroma1)\n",
      "/home/rakova/project/multi_musegan/musegan/musegan/utils/metrics.py:96: RuntimeWarning: invalid value encountered in true_divide\n",
      "  chroma2 = chroma2 / np.sum(chroma2)\n",
      "/home/rakova/project/multi_musegan/musegan/musegan/utils/metrics.py:94: RuntimeWarning: invalid value encountered in true_divide\n",
      "  chroma1 = chroma1 / np.sum(chroma1)\n",
      "/home/rakova/project/multi_musegan/musegan/musegan/utils/metrics.py:96: RuntimeWarning: invalid value encountered in true_divide\n",
      "  chroma2 = chroma2 / np.sum(chroma2)\n",
      "/home/rakova/project/multi_musegan/musegan/musegan/utils/metrics.py:94: RuntimeWarning: invalid value encountered in true_divide\n",
      "  chroma1 = chroma1 / np.sum(chroma1)\n",
      "/home/rakova/project/multi_musegan/musegan/musegan/utils/metrics.py:96: RuntimeWarning: invalid value encountered in true_divide\n",
      "  chroma2 = chroma2 / np.sum(chroma2)\n",
      "/home/rakova/project/multi_musegan/musegan/musegan/utils/metrics.py:94: RuntimeWarning: invalid value encountered in true_divide\n",
      "  chroma1 = chroma1 / np.sum(chroma1)\n",
      "/home/rakova/project/multi_musegan/musegan/musegan/utils/metrics.py:96: RuntimeWarning: invalid value encountered in true_divide\n",
      "  chroma2 = chroma2 / np.sum(chroma2)\n"
     ]
    },
    {
     "name": "stdout",
     "output_type": "stream",
     "text": [
      "   1  |   58/ 273 |   1.46 |      72.086304 |      -6.897002 |      0.594285 |          0.815 |\n",
      "   1  |   59/ 273 |   1.46 |      87.208435 |       8.022236 |      0.887742 |          1.360 |\n",
      "   1  |   60/ 273 |   1.46 |      72.716568 |     -10.244782 |      0.423472 |          1.041 |\n",
      "   1  |   61/ 273 |   1.46 |      64.886688 |      -4.989830 |      0.465970 |          1.267 |\n",
      "   1  |   62/ 273 |   1.46 |      70.905830 |       0.123384 |      0.422064 |          1.045 |\n",
      "   1  |   63/ 273 |   1.46 |      75.124298 |      -9.702741 |      0.914436 |          1.038 |\n",
      "   1  |   64/ 273 |   1.46 |      81.913185 |      14.417896 |      1.088218 |          1.352 |\n",
      "   1  |   65/ 273 |   1.46 |      83.039795 |      -7.595102 |      0.434253 |          1.120 |\n",
      "   1  |   66/ 273 |   1.46 |      77.009514 |       0.540637 |      0.485821 |          1.068 |\n",
      "   1  |   67/ 273 |   1.46 |      82.400154 |       6.504760 |      0.622550 |          0.937 |\n"
     ]
    },
    {
     "name": "stderr",
     "output_type": "stream",
     "text": [
      "/home/rakova/project/multi_musegan/musegan/musegan/utils/metrics.py:94: RuntimeWarning: invalid value encountered in true_divide\n",
      "  chroma1 = chroma1 / np.sum(chroma1)\n",
      "/home/rakova/project/multi_musegan/musegan/musegan/utils/metrics.py:96: RuntimeWarning: invalid value encountered in true_divide\n",
      "  chroma2 = chroma2 / np.sum(chroma2)\n",
      "/home/rakova/project/multi_musegan/musegan/musegan/utils/metrics.py:94: RuntimeWarning: invalid value encountered in true_divide\n",
      "  chroma1 = chroma1 / np.sum(chroma1)\n",
      "/home/rakova/project/multi_musegan/musegan/musegan/utils/metrics.py:96: RuntimeWarning: invalid value encountered in true_divide\n",
      "  chroma2 = chroma2 / np.sum(chroma2)\n",
      "/home/rakova/project/multi_musegan/musegan/musegan/utils/metrics.py:94: RuntimeWarning: invalid value encountered in true_divide\n",
      "  chroma1 = chroma1 / np.sum(chroma1)\n",
      "/home/rakova/project/multi_musegan/musegan/musegan/utils/metrics.py:96: RuntimeWarning: invalid value encountered in true_divide\n",
      "  chroma2 = chroma2 / np.sum(chroma2)\n",
      "/home/rakova/project/multi_musegan/musegan/musegan/utils/metrics.py:94: RuntimeWarning: invalid value encountered in true_divide\n",
      "  chroma1 = chroma1 / np.sum(chroma1)\n",
      "/home/rakova/project/multi_musegan/musegan/musegan/utils/metrics.py:96: RuntimeWarning: invalid value encountered in true_divide\n",
      "  chroma2 = chroma2 / np.sum(chroma2)\n"
     ]
    },
    {
     "name": "stdout",
     "output_type": "stream",
     "text": [
      "   1  |   68/ 273 |   1.46 |      75.875221 |       0.026312 |      0.463875 |          0.887 |\n",
      "   1  |   69/ 273 |   1.46 |      74.409119 |      -7.811185 |      0.544276 |          0.890 |\n",
      "   1  |   70/ 273 |   1.46 |      79.186966 |      -5.793615 |      0.535001 |          0.831 |\n",
      "   1  |   71/ 273 |   1.46 |      75.350960 |       1.247750 |      0.594333 |          1.122 |\n",
      "   1  |   72/ 273 |   1.46 |      78.040329 |       2.221600 |      0.577524 |          0.858 |\n",
      "   1  |   73/ 273 |   1.46 |      79.337379 |      -5.874763 |      1.009581 |          1.294 |\n",
      "   1  |   74/ 273 |   1.46 |      84.470306 |      -4.700455 |      0.445684 |          0.947 |\n",
      "   1  |   75/ 273 |   1.46 |      83.641281 |      -9.050128 |      0.829697 |          0.914 |\n",
      "   1  |   76/ 273 |   1.46 |      76.447189 |      11.691818 |      1.024381 |          2.215 |\n",
      "   1  |   77/ 273 |   1.46 |      86.512657 |       3.007054 |      0.615654 |          0.946 |\n"
     ]
    },
    {
     "name": "stderr",
     "output_type": "stream",
     "text": [
      "/home/rakova/project/multi_musegan/musegan/musegan/utils/metrics.py:94: RuntimeWarning: invalid value encountered in true_divide\n",
      "  chroma1 = chroma1 / np.sum(chroma1)\n",
      "/home/rakova/project/multi_musegan/musegan/musegan/utils/metrics.py:96: RuntimeWarning: invalid value encountered in true_divide\n",
      "  chroma2 = chroma2 / np.sum(chroma2)\n",
      "/home/rakova/project/multi_musegan/musegan/musegan/utils/metrics.py:94: RuntimeWarning: invalid value encountered in true_divide\n",
      "  chroma1 = chroma1 / np.sum(chroma1)\n",
      "/home/rakova/project/multi_musegan/musegan/musegan/utils/metrics.py:96: RuntimeWarning: invalid value encountered in true_divide\n",
      "  chroma2 = chroma2 / np.sum(chroma2)\n",
      "/home/rakova/project/multi_musegan/musegan/musegan/utils/metrics.py:94: RuntimeWarning: invalid value encountered in true_divide\n",
      "  chroma1 = chroma1 / np.sum(chroma1)\n",
      "/home/rakova/project/multi_musegan/musegan/musegan/utils/metrics.py:96: RuntimeWarning: invalid value encountered in true_divide\n",
      "  chroma2 = chroma2 / np.sum(chroma2)\n",
      "/home/rakova/project/multi_musegan/musegan/musegan/utils/metrics.py:94: RuntimeWarning: invalid value encountered in true_divide\n",
      "  chroma1 = chroma1 / np.sum(chroma1)\n",
      "/home/rakova/project/multi_musegan/musegan/musegan/utils/metrics.py:96: RuntimeWarning: invalid value encountered in true_divide\n",
      "  chroma2 = chroma2 / np.sum(chroma2)\n"
     ]
    },
    {
     "name": "stdout",
     "output_type": "stream",
     "text": [
      "   1  |   78/ 273 |   1.45 |      77.455490 |      -5.947608 |      0.595537 |          0.934 |\n",
      "   1  |   79/ 273 |   1.45 |      88.721130 |       8.471528 |      1.267847 |          1.448 |\n",
      "   1  |   80/ 273 |   1.45 |      87.350830 |      15.517270 |      1.662450 |          1.590 |\n",
      "   1  |   81/ 273 |   1.45 |      90.820679 |      21.594826 |      0.615145 |          1.178 |\n",
      "   1  |   82/ 273 |   1.45 |      86.826340 |       6.992140 |      0.435930 |          1.019 |\n",
      "   1  |   83/ 273 |   1.46 |      56.959713 |      -4.060379 |      0.518854 |          1.054 |\n",
      "   1  |   84/ 273 |   1.46 |      82.079895 |     -14.042291 |      0.777105 |          1.882 |\n",
      "   1  |   85/ 273 |   1.45 |      74.192276 |     -11.247437 |      0.525656 |          0.801 |\n",
      "   1  |   86/ 273 |   1.45 |      83.548096 |      13.144652 |      0.706403 |          1.198 |\n",
      "   1  |   87/ 273 |   1.46 |      87.709671 |      11.545052 |      1.571741 |          1.888 |\n"
     ]
    },
    {
     "name": "stderr",
     "output_type": "stream",
     "text": [
      "/home/rakova/project/multi_musegan/musegan/musegan/utils/metrics.py:94: RuntimeWarning: invalid value encountered in true_divide\n",
      "  chroma1 = chroma1 / np.sum(chroma1)\n",
      "/home/rakova/project/multi_musegan/musegan/musegan/utils/metrics.py:96: RuntimeWarning: invalid value encountered in true_divide\n",
      "  chroma2 = chroma2 / np.sum(chroma2)\n",
      "/home/rakova/project/multi_musegan/musegan/musegan/utils/metrics.py:94: RuntimeWarning: invalid value encountered in true_divide\n",
      "  chroma1 = chroma1 / np.sum(chroma1)\n",
      "/home/rakova/project/multi_musegan/musegan/musegan/utils/metrics.py:96: RuntimeWarning: invalid value encountered in true_divide\n",
      "  chroma2 = chroma2 / np.sum(chroma2)\n",
      "/home/rakova/project/multi_musegan/musegan/musegan/utils/metrics.py:94: RuntimeWarning: invalid value encountered in true_divide\n",
      "  chroma1 = chroma1 / np.sum(chroma1)\n",
      "/home/rakova/project/multi_musegan/musegan/musegan/utils/metrics.py:96: RuntimeWarning: invalid value encountered in true_divide\n",
      "  chroma2 = chroma2 / np.sum(chroma2)\n",
      "/home/rakova/project/multi_musegan/musegan/musegan/utils/metrics.py:94: RuntimeWarning: invalid value encountered in true_divide\n",
      "  chroma1 = chroma1 / np.sum(chroma1)\n",
      "/home/rakova/project/multi_musegan/musegan/musegan/utils/metrics.py:96: RuntimeWarning: invalid value encountered in true_divide\n",
      "  chroma2 = chroma2 / np.sum(chroma2)\n"
     ]
    },
    {
     "name": "stdout",
     "output_type": "stream",
     "text": [
      "   1  |   88/ 273 |   1.46 |      78.081055 |      -3.357529 |      0.359088 |          1.307 |\n",
      "   1  |   89/ 273 |   1.46 |      78.190300 |       1.835516 |      0.816097 |          0.974 |\n",
      "   1  |   90/ 273 |   1.46 |      74.565918 |       6.764547 |      0.532363 |          0.857 |\n",
      "   1  |   91/ 273 |   1.45 |      79.643311 |      -3.857930 |      0.443097 |          1.082 |\n",
      "   1  |   92/ 273 |   1.46 |      75.295670 |      -5.411742 |      0.402857 |          0.983 |\n",
      "   1  |   93/ 273 |   1.45 |      78.840256 |      -2.987125 |      0.903617 |          1.655 |\n",
      "   1  |   94/ 273 |   1.46 |      69.278282 |      16.220274 |      0.551274 |          1.061 |\n",
      "   1  |   95/ 273 |   1.46 |      74.123184 |      -4.488339 |      0.794522 |          0.987 |\n",
      "   1  |   96/ 273 |   1.45 |      74.119431 |      -3.095627 |      0.589354 |          0.805 |\n",
      "   1  |   97/ 273 |   1.45 |      71.011703 |      -7.900787 |      0.512549 |          1.208 |\n",
      "   1  |   98/ 273 |   1.45 |      82.939430 |       2.616691 |      1.202889 |          1.648 |\n",
      "   1  |   99/ 273 |   1.46 |      79.249245 |      -6.686311 |      0.415651 |          1.156 |\n",
      "   1  |  100/ 273 |   1.46 |      75.048744 |       5.718739 |      0.376532 |          1.024 |\n",
      "   1  |  101/ 273 |   1.45 |      73.007019 |      24.210978 |      2.134642 |          1.793 |\n",
      "   1  |  102/ 273 |   1.45 |      78.822357 |      -4.719820 |      0.689394 |          1.028 |\n",
      "   1  |  103/ 273 |   1.46 |      77.037155 |      -4.078819 |      1.029614 |          1.395 |\n",
      "   1  |  104/ 273 |   1.46 |      73.356712 |      -6.755755 |      0.503538 |          0.968 |\n",
      "   1  |  105/ 273 |   1.45 |      78.458786 |     -13.307881 |      0.692186 |          0.855 |\n",
      "   1  |  106/ 273 |   1.45 |      73.895889 |     -10.836685 |      0.466672 |          0.862 |\n",
      "   1  |  107/ 273 |   1.45 |      66.533005 |     -10.516111 |      0.430250 |          0.865 |\n"
     ]
    },
    {
     "name": "stderr",
     "output_type": "stream",
     "text": [
      "/home/rakova/project/multi_musegan/musegan/musegan/utils/metrics.py:94: RuntimeWarning: invalid value encountered in true_divide\n",
      "  chroma1 = chroma1 / np.sum(chroma1)\n",
      "/home/rakova/project/multi_musegan/musegan/musegan/utils/metrics.py:96: RuntimeWarning: invalid value encountered in true_divide\n",
      "  chroma2 = chroma2 / np.sum(chroma2)\n",
      "/home/rakova/project/multi_musegan/musegan/musegan/utils/metrics.py:94: RuntimeWarning: invalid value encountered in true_divide\n",
      "  chroma1 = chroma1 / np.sum(chroma1)\n",
      "/home/rakova/project/multi_musegan/musegan/musegan/utils/metrics.py:96: RuntimeWarning: invalid value encountered in true_divide\n",
      "  chroma2 = chroma2 / np.sum(chroma2)\n",
      "/home/rakova/project/multi_musegan/musegan/musegan/utils/metrics.py:94: RuntimeWarning: invalid value encountered in true_divide\n",
      "  chroma1 = chroma1 / np.sum(chroma1)\n",
      "/home/rakova/project/multi_musegan/musegan/musegan/utils/metrics.py:96: RuntimeWarning: invalid value encountered in true_divide\n",
      "  chroma2 = chroma2 / np.sum(chroma2)\n",
      "/home/rakova/project/multi_musegan/musegan/musegan/utils/metrics.py:94: RuntimeWarning: invalid value encountered in true_divide\n",
      "  chroma1 = chroma1 / np.sum(chroma1)\n",
      "/home/rakova/project/multi_musegan/musegan/musegan/utils/metrics.py:96: RuntimeWarning: invalid value encountered in true_divide\n",
      "  chroma2 = chroma2 / np.sum(chroma2)\n"
     ]
    },
    {
     "name": "stdout",
     "output_type": "stream",
     "text": [
      "   1  |  108/ 273 |   1.46 |      84.905563 |      -7.440681 |      0.417743 |          1.102 |\n",
      "   1  |  109/ 273 |   1.46 |      72.674858 |       7.016010 |      0.386029 |          1.049 |\n",
      "   1  |  110/ 273 |   1.46 |      71.120171 |      -1.795535 |      0.449319 |          1.068 |\n",
      "   1  |  111/ 273 |   1.45 |      74.756805 |      -1.641655 |      0.427776 |          0.966 |\n",
      "   1  |  112/ 273 |   1.45 |      69.495781 |       4.695641 |      0.568408 |          1.268 |\n",
      "   1  |  113/ 273 |   1.46 |      68.686951 |      -6.437066 |      0.543956 |          0.899 |\n",
      "   1  |  114/ 273 |   1.46 |      73.352386 |     -11.252787 |      0.487352 |          1.040 |\n",
      "   1  |  115/ 273 |   1.45 |      75.932106 |      -5.358824 |      0.523714 |          1.036 |\n",
      "   1  |  116/ 273 |   1.46 |      76.816879 |      -0.856283 |      0.528878 |          0.974 |\n",
      "   1  |  117/ 273 |   1.46 |      74.728264 |      -4.098219 |      0.421574 |          1.520 |\n"
     ]
    },
    {
     "name": "stderr",
     "output_type": "stream",
     "text": [
      "/home/rakova/project/multi_musegan/musegan/musegan/utils/metrics.py:94: RuntimeWarning: invalid value encountered in true_divide\n",
      "  chroma1 = chroma1 / np.sum(chroma1)\n",
      "/home/rakova/project/multi_musegan/musegan/musegan/utils/metrics.py:96: RuntimeWarning: invalid value encountered in true_divide\n",
      "  chroma2 = chroma2 / np.sum(chroma2)\n",
      "/home/rakova/project/multi_musegan/musegan/musegan/utils/metrics.py:96: RuntimeWarning: invalid value encountered in true_divide\n",
      "  chroma2 = chroma2 / np.sum(chroma2)\n",
      "/home/rakova/project/multi_musegan/musegan/musegan/utils/metrics.py:94: RuntimeWarning: invalid value encountered in true_divide\n",
      "  chroma1 = chroma1 / np.sum(chroma1)\n",
      "/home/rakova/project/multi_musegan/musegan/musegan/utils/metrics.py:94: RuntimeWarning: invalid value encountered in true_divide\n",
      "  chroma1 = chroma1 / np.sum(chroma1)\n",
      "/home/rakova/project/multi_musegan/musegan/musegan/utils/metrics.py:96: RuntimeWarning: invalid value encountered in true_divide\n",
      "  chroma2 = chroma2 / np.sum(chroma2)\n",
      "/home/rakova/project/multi_musegan/musegan/musegan/utils/metrics.py:96: RuntimeWarning: invalid value encountered in true_divide\n",
      "  chroma2 = chroma2 / np.sum(chroma2)\n",
      "/home/rakova/project/multi_musegan/musegan/musegan/utils/metrics.py:94: RuntimeWarning: invalid value encountered in true_divide\n",
      "  chroma1 = chroma1 / np.sum(chroma1)\n"
     ]
    },
    {
     "name": "stdout",
     "output_type": "stream",
     "text": [
      "   1  |  118/ 273 |   1.46 |      77.216400 |      12.719443 |      0.608342 |          1.205 |\n",
      "   1  |  119/ 273 |   1.46 |      76.984367 |      -0.203113 |      0.519441 |          0.957 |\n",
      "   1  |  120/ 273 |   1.46 |      77.933128 |      -3.876926 |      0.420446 |          0.990 |\n",
      "   1  |  121/ 273 |   1.45 |      71.281540 |      -7.193096 |      0.472475 |          1.063 |\n",
      "   1  |  122/ 273 |   1.45 |      70.523193 |       1.918520 |      1.086492 |          1.154 |\n",
      "   1  |  123/ 273 |   1.46 |      69.005730 |      -8.403489 |      0.395039 |          1.374 |\n",
      "   1  |  124/ 273 |   1.46 |      78.059387 |      -9.599035 |      0.479372 |          1.014 |\n",
      "   1  |  125/ 273 |   1.46 |      74.906784 |      -9.519455 |      0.356115 |          0.903 |\n",
      "   1  |  126/ 273 |   1.46 |      83.406815 |      33.420578 |      1.601473 |          2.046 |\n",
      "   1  |  127/ 273 |   1.46 |      84.162842 |      23.436928 |      0.769897 |          1.188 |\n"
     ]
    },
    {
     "name": "stderr",
     "output_type": "stream",
     "text": [
      "/home/rakova/project/multi_musegan/musegan/musegan/utils/metrics.py:94: RuntimeWarning: invalid value encountered in true_divide\n",
      "  chroma1 = chroma1 / np.sum(chroma1)\n",
      "/home/rakova/project/multi_musegan/musegan/musegan/utils/metrics.py:96: RuntimeWarning: invalid value encountered in true_divide\n",
      "  chroma2 = chroma2 / np.sum(chroma2)\n",
      "/home/rakova/project/multi_musegan/musegan/musegan/utils/metrics.py:96: RuntimeWarning: invalid value encountered in true_divide\n",
      "  chroma2 = chroma2 / np.sum(chroma2)\n",
      "/home/rakova/project/multi_musegan/musegan/musegan/utils/metrics.py:94: RuntimeWarning: invalid value encountered in true_divide\n",
      "  chroma1 = chroma1 / np.sum(chroma1)\n",
      "/home/rakova/project/multi_musegan/musegan/musegan/utils/metrics.py:94: RuntimeWarning: invalid value encountered in true_divide\n",
      "  chroma1 = chroma1 / np.sum(chroma1)\n",
      "/home/rakova/project/multi_musegan/musegan/musegan/utils/metrics.py:96: RuntimeWarning: invalid value encountered in true_divide\n",
      "  chroma2 = chroma2 / np.sum(chroma2)\n",
      "/home/rakova/project/multi_musegan/musegan/musegan/utils/metrics.py:96: RuntimeWarning: invalid value encountered in true_divide\n",
      "  chroma2 = chroma2 / np.sum(chroma2)\n",
      "/home/rakova/project/multi_musegan/musegan/musegan/utils/metrics.py:94: RuntimeWarning: invalid value encountered in true_divide\n",
      "  chroma1 = chroma1 / np.sum(chroma1)\n"
     ]
    },
    {
     "name": "stdout",
     "output_type": "stream",
     "text": [
      "   1  |  128/ 273 |   1.46 |      65.189041 |      -0.277275 |      0.901370 |          1.127 |\n",
      "   1  |  129/ 273 |   1.45 |      81.964844 |     -14.055002 |      0.421223 |          0.954 |\n",
      "   1  |  130/ 273 |   1.46 |      70.019058 |     -10.878908 |      0.650933 |          0.876 |\n",
      "   1  |  131/ 273 |   1.46 |      73.230713 |      -6.328599 |      0.558952 |          1.153 |\n",
      "   1  |  132/ 273 |   1.46 |      70.100494 |       1.129981 |      0.439195 |          0.926 |\n",
      "   1  |  133/ 273 |   1.46 |      67.789986 |       6.473587 |      0.564570 |          0.931 |\n",
      "   1  |  134/ 273 |   1.45 |      80.080917 |      -5.561477 |      0.913444 |          1.726 |\n",
      "   1  |  135/ 273 |   1.46 |      73.214279 |      -2.353159 |      0.388706 |          0.851 |\n",
      "   1  |  136/ 273 |   1.46 |      67.818367 |      -4.084072 |      0.556862 |          1.290 |\n",
      "   1  |  137/ 273 |   1.46 |      82.496559 |      -8.059961 |      0.578045 |          1.124 |\n"
     ]
    },
    {
     "name": "stderr",
     "output_type": "stream",
     "text": [
      "/home/rakova/project/multi_musegan/musegan/musegan/utils/metrics.py:94: RuntimeWarning: invalid value encountered in true_divide\n",
      "  chroma1 = chroma1 / np.sum(chroma1)\n",
      "/home/rakova/project/multi_musegan/musegan/musegan/utils/metrics.py:94: RuntimeWarning: invalid value encountered in true_divide\n",
      "  chroma1 = chroma1 / np.sum(chroma1)\n",
      "/home/rakova/project/multi_musegan/musegan/musegan/utils/metrics.py:94: RuntimeWarning: invalid value encountered in true_divide\n",
      "  chroma1 = chroma1 / np.sum(chroma1)\n",
      "/home/rakova/project/multi_musegan/musegan/musegan/utils/metrics.py:94: RuntimeWarning: invalid value encountered in true_divide\n",
      "  chroma1 = chroma1 / np.sum(chroma1)\n"
     ]
    },
    {
     "name": "stdout",
     "output_type": "stream",
     "text": [
      "   1  |  138/ 273 |   1.45 |      72.505325 |      -4.793309 |      0.408299 |          1.049 |\n",
      "   1  |  139/ 273 |   1.46 |      69.593811 |      -4.475509 |      0.328162 |          1.271 |\n",
      "   1  |  140/ 273 |   1.45 |      67.551468 |      -9.465789 |      0.329066 |          1.263 |\n",
      "   1  |  141/ 273 |   1.46 |      68.655716 |      -3.293474 |      0.744938 |          1.014 |\n",
      "   1  |  142/ 273 |   1.46 |      71.985321 |      -3.319732 |      0.953666 |          1.719 |\n",
      "   1  |  143/ 273 |   1.46 |      74.322693 |      -5.703193 |      0.491701 |          0.865 |\n",
      "   1  |  144/ 273 |   1.46 |      88.272369 |       9.909448 |      0.354296 |          1.094 |\n",
      "   1  |  145/ 273 |   1.46 |      67.427826 |      -1.193858 |      0.382155 |          1.056 |\n",
      "   1  |  146/ 273 |   1.45 |      70.337097 |      -4.524157 |      2.151769 |          2.504 |\n",
      "   1  |  147/ 273 |   1.46 |      70.945358 |      -8.409694 |      0.419473 |          0.941 |\n"
     ]
    },
    {
     "name": "stderr",
     "output_type": "stream",
     "text": [
      "/home/rakova/project/multi_musegan/musegan/musegan/utils/metrics.py:94: RuntimeWarning: invalid value encountered in true_divide\n",
      "  chroma1 = chroma1 / np.sum(chroma1)\n",
      "/home/rakova/project/multi_musegan/musegan/musegan/utils/metrics.py:96: RuntimeWarning: invalid value encountered in true_divide\n",
      "  chroma2 = chroma2 / np.sum(chroma2)\n",
      "/home/rakova/project/multi_musegan/musegan/musegan/utils/metrics.py:94: RuntimeWarning: invalid value encountered in true_divide\n",
      "  chroma1 = chroma1 / np.sum(chroma1)\n",
      "/home/rakova/project/multi_musegan/musegan/musegan/utils/metrics.py:96: RuntimeWarning: invalid value encountered in true_divide\n",
      "  chroma2 = chroma2 / np.sum(chroma2)\n",
      "/home/rakova/project/multi_musegan/musegan/musegan/utils/metrics.py:94: RuntimeWarning: invalid value encountered in true_divide\n",
      "  chroma1 = chroma1 / np.sum(chroma1)\n",
      "/home/rakova/project/multi_musegan/musegan/musegan/utils/metrics.py:96: RuntimeWarning: invalid value encountered in true_divide\n",
      "  chroma2 = chroma2 / np.sum(chroma2)\n",
      "/home/rakova/project/multi_musegan/musegan/musegan/utils/metrics.py:94: RuntimeWarning: invalid value encountered in true_divide\n",
      "  chroma1 = chroma1 / np.sum(chroma1)\n",
      "/home/rakova/project/multi_musegan/musegan/musegan/utils/metrics.py:96: RuntimeWarning: invalid value encountered in true_divide\n",
      "  chroma2 = chroma2 / np.sum(chroma2)\n"
     ]
    },
    {
     "name": "stdout",
     "output_type": "stream",
     "text": [
      "   1  |  148/ 273 |   1.46 |      70.644012 |      -2.532230 |      0.375173 |          1.028 |\n",
      "   1  |  149/ 273 |   1.46 |      79.541611 |      -3.628167 |      0.253628 |          0.967 |\n",
      "   1  |  150/ 273 |   1.45 |      74.760880 |      -2.798486 |      0.298784 |          1.058 |\n",
      "   1  |  151/ 273 |   1.46 |      71.289322 |       0.661053 |      0.552119 |          2.055 |\n",
      "   1  |  152/ 273 |   1.45 |      75.634872 |       1.934982 |      0.674935 |          0.919 |\n",
      "   1  |  153/ 273 |   1.45 |      70.492172 |      -4.894461 |      0.413286 |          1.203 |\n",
      "   1  |  154/ 273 |   1.45 |      64.960403 |      -4.408416 |      0.633908 |          1.438 |\n",
      "   1  |  155/ 273 |   1.46 |      66.012077 |      -3.376167 |      0.398180 |          1.055 |\n",
      "   1  |  156/ 273 |   1.45 |      68.684235 |      -0.067614 |      0.220784 |          1.150 |\n",
      "   1  |  157/ 273 |   1.46 |      69.207642 |      -4.081260 |      0.767740 |          1.389 |\n"
     ]
    },
    {
     "name": "stderr",
     "output_type": "stream",
     "text": [
      "/home/rakova/project/multi_musegan/musegan/musegan/utils/metrics.py:94: RuntimeWarning: invalid value encountered in true_divide\n",
      "  chroma1 = chroma1 / np.sum(chroma1)\n",
      "/home/rakova/project/multi_musegan/musegan/musegan/utils/metrics.py:96: RuntimeWarning: invalid value encountered in true_divide\n",
      "  chroma2 = chroma2 / np.sum(chroma2)\n",
      "/home/rakova/project/multi_musegan/musegan/musegan/utils/metrics.py:96: RuntimeWarning: invalid value encountered in true_divide\n",
      "  chroma2 = chroma2 / np.sum(chroma2)\n",
      "/home/rakova/project/multi_musegan/musegan/musegan/utils/metrics.py:94: RuntimeWarning: invalid value encountered in true_divide\n",
      "  chroma1 = chroma1 / np.sum(chroma1)\n",
      "/home/rakova/project/multi_musegan/musegan/musegan/utils/metrics.py:94: RuntimeWarning: invalid value encountered in true_divide\n",
      "  chroma1 = chroma1 / np.sum(chroma1)\n",
      "/home/rakova/project/multi_musegan/musegan/musegan/utils/metrics.py:96: RuntimeWarning: invalid value encountered in true_divide\n",
      "  chroma2 = chroma2 / np.sum(chroma2)\n",
      "/home/rakova/project/multi_musegan/musegan/musegan/utils/metrics.py:94: RuntimeWarning: invalid value encountered in true_divide\n",
      "  chroma1 = chroma1 / np.sum(chroma1)\n",
      "/home/rakova/project/multi_musegan/musegan/musegan/utils/metrics.py:96: RuntimeWarning: invalid value encountered in true_divide\n",
      "  chroma2 = chroma2 / np.sum(chroma2)\n"
     ]
    },
    {
     "name": "stdout",
     "output_type": "stream",
     "text": [
      "   1  |  158/ 273 |   1.46 |      72.872726 |      -7.597707 |      0.256139 |          1.081 |\n",
      "   1  |  159/ 273 |   1.46 |      62.588409 |      -2.766661 |      0.297010 |          1.392 |\n",
      "   1  |  160/ 273 |   1.45 |      74.402496 |      -8.200077 |      0.800823 |          1.691 |\n",
      "   1  |  161/ 273 |   1.45 |      65.741119 |     -13.752487 |      0.463044 |          0.939 |\n",
      "   1  |  162/ 273 |   1.45 |      61.996181 |      -8.533947 |      1.477980 |          2.165 |\n",
      "   1  |  163/ 273 |   1.46 |      70.724312 |      -5.722396 |      0.387962 |          1.155 |\n",
      "   1  |  164/ 273 |   1.46 |      72.805252 |      -9.032906 |      0.488112 |          1.243 |\n",
      "   1  |  165/ 273 |   1.46 |      73.590965 |      10.306989 |      0.807464 |          1.087 |\n",
      "   1  |  166/ 273 |   1.45 |      74.342796 |      21.236317 |      0.925428 |          1.709 |\n",
      "   1  |  167/ 273 |   1.46 |      72.859909 |     -14.501401 |      0.271212 |          1.194 |\n"
     ]
    },
    {
     "name": "stderr",
     "output_type": "stream",
     "text": [
      "/home/rakova/project/multi_musegan/musegan/musegan/utils/metrics.py:94: RuntimeWarning: invalid value encountered in true_divide\n",
      "  chroma1 = chroma1 / np.sum(chroma1)\n",
      "/home/rakova/project/multi_musegan/musegan/musegan/utils/metrics.py:96: RuntimeWarning: invalid value encountered in true_divide\n",
      "  chroma2 = chroma2 / np.sum(chroma2)\n",
      "/home/rakova/project/multi_musegan/musegan/musegan/utils/metrics.py:94: RuntimeWarning: invalid value encountered in true_divide\n",
      "  chroma1 = chroma1 / np.sum(chroma1)\n",
      "/home/rakova/project/multi_musegan/musegan/musegan/utils/metrics.py:96: RuntimeWarning: invalid value encountered in true_divide\n",
      "  chroma2 = chroma2 / np.sum(chroma2)\n",
      "/home/rakova/project/multi_musegan/musegan/musegan/utils/metrics.py:96: RuntimeWarning: invalid value encountered in true_divide\n",
      "  chroma2 = chroma2 / np.sum(chroma2)\n",
      "/home/rakova/project/multi_musegan/musegan/musegan/utils/metrics.py:94: RuntimeWarning: invalid value encountered in true_divide\n",
      "  chroma1 = chroma1 / np.sum(chroma1)\n",
      "/home/rakova/project/multi_musegan/musegan/musegan/utils/metrics.py:94: RuntimeWarning: invalid value encountered in true_divide\n",
      "  chroma1 = chroma1 / np.sum(chroma1)\n",
      "/home/rakova/project/multi_musegan/musegan/musegan/utils/metrics.py:96: RuntimeWarning: invalid value encountered in true_divide\n",
      "  chroma2 = chroma2 / np.sum(chroma2)\n"
     ]
    },
    {
     "name": "stdout",
     "output_type": "stream",
     "text": [
      "   1  |  168/ 273 |   1.46 |      64.279320 |     -11.264133 |      0.990378 |          1.399 |\n",
      "   1  |  169/ 273 |   1.45 |      72.690468 |       5.815142 |      0.688881 |          1.293 |\n",
      "   1  |  170/ 273 |   1.45 |      74.126892 |     -12.670917 |      0.392164 |          1.529 |\n",
      "   1  |  171/ 273 |   1.46 |      69.277977 |     -13.509111 |      0.333439 |          0.920 |\n",
      "   1  |  172/ 273 |   1.46 |      67.784027 |       3.421906 |      0.249394 |          1.301 |\n",
      "   1  |  173/ 273 |   1.46 |      65.419167 |      17.569738 |      0.474832 |          0.963 |\n",
      "   1  |  174/ 273 |   1.47 |      68.387703 |      -9.524077 |      1.101271 |          2.209 |\n",
      "   1  |  175/ 273 |   1.46 |      69.475174 |     -17.054085 |      0.282431 |          0.907 |\n",
      "   1  |  176/ 273 |   1.46 |      69.214783 |       2.993652 |      1.053013 |          1.682 |\n",
      "   1  |  177/ 273 |   1.46 |      69.213776 |     -10.582573 |      0.463065 |          1.133 |\n"
     ]
    },
    {
     "name": "stderr",
     "output_type": "stream",
     "text": [
      "/home/rakova/project/multi_musegan/musegan/musegan/utils/metrics.py:94: RuntimeWarning: invalid value encountered in true_divide\n",
      "  chroma1 = chroma1 / np.sum(chroma1)\n",
      "/home/rakova/project/multi_musegan/musegan/musegan/utils/metrics.py:96: RuntimeWarning: invalid value encountered in true_divide\n",
      "  chroma2 = chroma2 / np.sum(chroma2)\n",
      "/home/rakova/project/multi_musegan/musegan/musegan/utils/metrics.py:94: RuntimeWarning: invalid value encountered in true_divide\n",
      "  chroma1 = chroma1 / np.sum(chroma1)\n",
      "/home/rakova/project/multi_musegan/musegan/musegan/utils/metrics.py:96: RuntimeWarning: invalid value encountered in true_divide\n",
      "  chroma2 = chroma2 / np.sum(chroma2)\n",
      "/home/rakova/project/multi_musegan/musegan/musegan/utils/metrics.py:96: RuntimeWarning: invalid value encountered in true_divide\n",
      "  chroma2 = chroma2 / np.sum(chroma2)\n",
      "/home/rakova/project/multi_musegan/musegan/musegan/utils/metrics.py:94: RuntimeWarning: invalid value encountered in true_divide\n",
      "  chroma1 = chroma1 / np.sum(chroma1)\n",
      "/home/rakova/project/multi_musegan/musegan/musegan/utils/metrics.py:94: RuntimeWarning: invalid value encountered in true_divide\n",
      "  chroma1 = chroma1 / np.sum(chroma1)\n",
      "/home/rakova/project/multi_musegan/musegan/musegan/utils/metrics.py:96: RuntimeWarning: invalid value encountered in true_divide\n",
      "  chroma2 = chroma2 / np.sum(chroma2)\n"
     ]
    },
    {
     "name": "stdout",
     "output_type": "stream",
     "text": [
      "   1  |  178/ 273 |   1.46 |      72.470764 |      -7.871029 |      0.389012 |          1.180 |\n",
      "   1  |  179/ 273 |   1.46 |      68.636459 |       0.105616 |      0.181435 |          1.269 |\n",
      "   1  |  180/ 273 |   1.46 |      70.952713 |      -6.819914 |      0.396364 |          1.053 |\n",
      "   1  |  181/ 273 |   1.46 |      73.109444 |      -5.466609 |      0.291870 |          1.003 |\n",
      "   1  |  182/ 273 |   1.45 |      72.648849 |      -6.911824 |      0.437902 |          1.755 |\n",
      "   1  |  183/ 273 |   1.45 |      66.354088 |      -9.926580 |      0.355426 |          1.269 |\n",
      "   1  |  184/ 273 |   1.46 |      71.489746 |      -3.210704 |      0.200552 |          1.240 |\n",
      "   1  |  185/ 273 |   1.46 |      75.144333 |      -4.542991 |      0.513383 |          1.319 |\n",
      "   1  |  186/ 273 |   1.45 |      67.174103 |      11.756214 |      0.604274 |          1.097 |\n",
      "   1  |  187/ 273 |   1.45 |      67.869431 |     -13.698152 |      0.308282 |          1.253 |\n"
     ]
    },
    {
     "name": "stderr",
     "output_type": "stream",
     "text": [
      "/home/rakova/project/multi_musegan/musegan/musegan/utils/metrics.py:96: RuntimeWarning: invalid value encountered in true_divide\n",
      "  chroma2 = chroma2 / np.sum(chroma2)\n",
      "/home/rakova/project/multi_musegan/musegan/musegan/utils/metrics.py:94: RuntimeWarning: invalid value encountered in true_divide\n",
      "  chroma1 = chroma1 / np.sum(chroma1)\n",
      "/home/rakova/project/multi_musegan/musegan/musegan/utils/metrics.py:94: RuntimeWarning: invalid value encountered in true_divide\n",
      "  chroma1 = chroma1 / np.sum(chroma1)\n",
      "/home/rakova/project/multi_musegan/musegan/musegan/utils/metrics.py:96: RuntimeWarning: invalid value encountered in true_divide\n",
      "  chroma2 = chroma2 / np.sum(chroma2)\n",
      "/home/rakova/project/multi_musegan/musegan/musegan/utils/metrics.py:96: RuntimeWarning: invalid value encountered in true_divide\n",
      "  chroma2 = chroma2 / np.sum(chroma2)\n",
      "/home/rakova/project/multi_musegan/musegan/musegan/utils/metrics.py:94: RuntimeWarning: invalid value encountered in true_divide\n",
      "  chroma1 = chroma1 / np.sum(chroma1)\n",
      "/home/rakova/project/multi_musegan/musegan/musegan/utils/metrics.py:96: RuntimeWarning: invalid value encountered in true_divide\n",
      "  chroma2 = chroma2 / np.sum(chroma2)\n",
      "/home/rakova/project/multi_musegan/musegan/musegan/utils/metrics.py:94: RuntimeWarning: invalid value encountered in true_divide\n",
      "  chroma1 = chroma1 / np.sum(chroma1)\n"
     ]
    },
    {
     "name": "stdout",
     "output_type": "stream",
     "text": [
      "   1  |  188/ 273 |   1.46 |      66.305389 |     -12.137618 |      0.289967 |          1.013 |\n",
      "   1  |  189/ 273 |   1.46 |      75.084160 |       4.308802 |      0.642326 |          1.053 |\n",
      "   1  |  190/ 273 |   1.45 |      92.026512 |      31.328989 |      0.415024 |          1.184 |\n",
      "   1  |  191/ 273 |   1.45 |      68.144112 |     -25.941069 |      0.891259 |          2.585 |\n",
      "   1  |  192/ 273 |   1.46 |      68.151993 |     -16.403776 |      0.165436 |          2.166 |\n",
      "   1  |  193/ 273 |   1.46 |      66.322571 |     -13.354862 |      0.836046 |          1.278 |\n",
      "   1  |  194/ 273 |   1.46 |      58.421124 |      -2.573756 |      0.497636 |          1.013 |\n",
      "   1  |  195/ 273 |   1.46 |      63.667320 |      -4.316788 |      0.344483 |          0.958 |\n",
      "   1  |  196/ 273 |   1.46 |      67.278732 |     -11.911189 |      0.371651 |          1.182 |\n",
      "   1  |  197/ 273 |   1.46 |      72.213692 |      10.512946 |      0.566467 |          1.842 |\n"
     ]
    },
    {
     "name": "stderr",
     "output_type": "stream",
     "text": [
      "/home/rakova/project/multi_musegan/musegan/musegan/utils/metrics.py:94: RuntimeWarning: invalid value encountered in true_divide\n",
      "  chroma1 = chroma1 / np.sum(chroma1)\n",
      "/home/rakova/project/multi_musegan/musegan/musegan/utils/metrics.py:94: RuntimeWarning: invalid value encountered in true_divide\n",
      "  chroma1 = chroma1 / np.sum(chroma1)\n",
      "/home/rakova/project/multi_musegan/musegan/musegan/utils/metrics.py:94: RuntimeWarning: invalid value encountered in true_divide\n",
      "  chroma1 = chroma1 / np.sum(chroma1)\n",
      "/home/rakova/project/multi_musegan/musegan/musegan/utils/metrics.py:94: RuntimeWarning: invalid value encountered in true_divide\n",
      "  chroma1 = chroma1 / np.sum(chroma1)\n"
     ]
    },
    {
     "name": "stdout",
     "output_type": "stream",
     "text": [
      "   1  |  198/ 273 |   1.46 |      70.390488 |      -7.373256 |      0.655039 |          1.144 |\n",
      "   1  |  199/ 273 |   1.46 |      66.828995 |      -7.050681 |      0.457367 |          1.150 |\n",
      "   1  |  200/ 273 |   1.46 |      70.131767 |     -11.594712 |      0.282914 |          2.245 |\n",
      "   1  |  201/ 273 |   1.46 |      73.077797 |       3.906561 |      0.259306 |          1.327 |\n",
      "   1  |  202/ 273 |   1.46 |      68.951561 |      -7.470281 |      0.492723 |          1.055 |\n",
      "   1  |  203/ 273 |   1.46 |      64.957222 |      -6.637474 |      0.292735 |          1.036 |\n",
      "   1  |  204/ 273 |   1.47 |      75.779503 |       9.065573 |      0.388092 |          1.250 |\n",
      "   1  |  205/ 273 |   1.46 |      76.734703 |     -15.534677 |      0.321120 |          0.987 |\n",
      "   1  |  206/ 273 |   1.46 |      68.981415 |     -12.342117 |      0.342407 |          1.000 |\n",
      "   1  |  207/ 273 |   1.45 |      66.463058 |      -5.888347 |      1.332867 |          1.752 |\n"
     ]
    },
    {
     "name": "stderr",
     "output_type": "stream",
     "text": [
      "/home/rakova/project/multi_musegan/musegan/musegan/utils/metrics.py:96: RuntimeWarning: invalid value encountered in true_divide\n",
      "  chroma2 = chroma2 / np.sum(chroma2)\n",
      "/home/rakova/project/multi_musegan/musegan/musegan/utils/metrics.py:94: RuntimeWarning: invalid value encountered in true_divide\n",
      "  chroma1 = chroma1 / np.sum(chroma1)\n",
      "/home/rakova/project/multi_musegan/musegan/musegan/utils/metrics.py:94: RuntimeWarning: invalid value encountered in true_divide\n",
      "  chroma1 = chroma1 / np.sum(chroma1)\n",
      "/home/rakova/project/multi_musegan/musegan/musegan/utils/metrics.py:96: RuntimeWarning: invalid value encountered in true_divide\n",
      "  chroma2 = chroma2 / np.sum(chroma2)\n",
      "/home/rakova/project/multi_musegan/musegan/musegan/utils/metrics.py:94: RuntimeWarning: invalid value encountered in true_divide\n",
      "  chroma1 = chroma1 / np.sum(chroma1)\n",
      "/home/rakova/project/multi_musegan/musegan/musegan/utils/metrics.py:96: RuntimeWarning: invalid value encountered in true_divide\n",
      "  chroma2 = chroma2 / np.sum(chroma2)\n",
      "/home/rakova/project/multi_musegan/musegan/musegan/utils/metrics.py:94: RuntimeWarning: invalid value encountered in true_divide\n",
      "  chroma1 = chroma1 / np.sum(chroma1)\n",
      "/home/rakova/project/multi_musegan/musegan/musegan/utils/metrics.py:96: RuntimeWarning: invalid value encountered in true_divide\n",
      "  chroma2 = chroma2 / np.sum(chroma2)\n"
     ]
    },
    {
     "name": "stdout",
     "output_type": "stream",
     "text": [
      "   1  |  208/ 273 |   1.46 |      65.922531 |       5.161977 |      0.487420 |          0.939 |\n",
      "   1  |  209/ 273 |   1.46 |      66.450562 |       1.373586 |      0.307687 |          1.072 |\n",
      "   1  |  210/ 273 |   1.46 |      64.588409 |       2.703159 |      0.625494 |          1.095 |\n",
      "   1  |  211/ 273 |   1.46 |      63.620598 |      -6.824420 |      0.215439 |          0.935 |\n",
      "   1  |  212/ 273 |   1.45 |      64.984177 |     -13.272154 |      0.555043 |          1.024 |\n",
      "   1  |  213/ 273 |   1.46 |      65.554535 |      -4.535588 |      0.301173 |          0.942 |\n",
      "   1  |  214/ 273 |   1.45 |      63.526882 |      -7.529219 |      0.430352 |          0.965 |\n",
      "   1  |  215/ 273 |   1.45 |      66.758049 |     -14.085443 |      0.341228 |          0.893 |\n",
      "   1  |  216/ 273 |   1.45 |      69.191566 |       0.246438 |      0.295534 |          1.056 |\n",
      "   1  |  217/ 273 |   1.46 |      63.984783 |       3.205637 |      0.463457 |          0.946 |\n"
     ]
    },
    {
     "name": "stderr",
     "output_type": "stream",
     "text": [
      "/home/rakova/project/multi_musegan/musegan/musegan/utils/metrics.py:94: RuntimeWarning: invalid value encountered in true_divide\n",
      "  chroma1 = chroma1 / np.sum(chroma1)\n",
      "/home/rakova/project/multi_musegan/musegan/musegan/utils/metrics.py:96: RuntimeWarning: invalid value encountered in true_divide\n",
      "  chroma2 = chroma2 / np.sum(chroma2)\n",
      "/home/rakova/project/multi_musegan/musegan/musegan/utils/metrics.py:96: RuntimeWarning: invalid value encountered in true_divide\n",
      "  chroma2 = chroma2 / np.sum(chroma2)\n",
      "/home/rakova/project/multi_musegan/musegan/musegan/utils/metrics.py:94: RuntimeWarning: invalid value encountered in true_divide\n",
      "  chroma1 = chroma1 / np.sum(chroma1)\n",
      "/home/rakova/project/multi_musegan/musegan/musegan/utils/metrics.py:96: RuntimeWarning: invalid value encountered in true_divide\n",
      "  chroma2 = chroma2 / np.sum(chroma2)\n",
      "/home/rakova/project/multi_musegan/musegan/musegan/utils/metrics.py:94: RuntimeWarning: invalid value encountered in true_divide\n",
      "  chroma1 = chroma1 / np.sum(chroma1)\n",
      "/home/rakova/project/multi_musegan/musegan/musegan/utils/metrics.py:96: RuntimeWarning: invalid value encountered in true_divide\n",
      "  chroma2 = chroma2 / np.sum(chroma2)\n",
      "/home/rakova/project/multi_musegan/musegan/musegan/utils/metrics.py:94: RuntimeWarning: invalid value encountered in true_divide\n",
      "  chroma1 = chroma1 / np.sum(chroma1)\n"
     ]
    },
    {
     "name": "stdout",
     "output_type": "stream",
     "text": [
      "   1  |  218/ 273 |   1.45 |      69.969345 |      -8.804448 |      1.127764 |          2.214 |\n",
      "   1  |  219/ 273 |   1.45 |      66.815231 |      -7.976242 |      0.195270 |          0.984 |\n",
      "   1  |  220/ 273 |   1.45 |      67.753708 |      -5.938256 |      0.351890 |          0.968 |\n",
      "   1  |  221/ 273 |   1.46 |      64.606857 |      -0.268977 |      0.452400 |          1.054 |\n",
      "   1  |  222/ 273 |   1.45 |      65.700851 |       4.523787 |      0.501975 |          1.096 |\n",
      "   1  |  223/ 273 |   1.46 |      65.612686 |     -12.833876 |      0.425617 |          0.786 |\n",
      "   1  |  224/ 273 |   1.46 |      70.377274 |      18.400837 |      0.305073 |          1.214 |\n",
      "   1  |  225/ 273 |   1.45 |      62.536346 |      -8.001259 |      0.304846 |          1.212 |\n",
      "   1  |  226/ 273 |   1.46 |      69.532867 |     -17.759199 |      1.567179 |          2.192 |\n",
      "   1  |  227/ 273 |  23.52 |     105.587875 |      12.170316 |      0.012274 |          1.706 |\n"
     ]
    },
    {
     "name": "stderr",
     "output_type": "stream",
     "text": [
      "/home/rakova/project/multi_musegan/musegan/musegan/utils/metrics.py:94: RuntimeWarning: invalid value encountered in true_divide\n",
      "  chroma1 = chroma1 / np.sum(chroma1)\n",
      "/home/rakova/project/multi_musegan/musegan/musegan/utils/metrics.py:96: RuntimeWarning: invalid value encountered in true_divide\n",
      "  chroma2 = chroma2 / np.sum(chroma2)\n",
      "/home/rakova/project/multi_musegan/musegan/musegan/utils/metrics.py:94: RuntimeWarning: invalid value encountered in true_divide\n",
      "  chroma1 = chroma1 / np.sum(chroma1)\n",
      "/home/rakova/project/multi_musegan/musegan/musegan/utils/metrics.py:96: RuntimeWarning: invalid value encountered in true_divide\n",
      "  chroma2 = chroma2 / np.sum(chroma2)\n",
      "/home/rakova/project/multi_musegan/musegan/musegan/utils/metrics.py:94: RuntimeWarning: invalid value encountered in true_divide\n",
      "  chroma1 = chroma1 / np.sum(chroma1)\n",
      "/home/rakova/project/multi_musegan/musegan/musegan/utils/metrics.py:96: RuntimeWarning: invalid value encountered in true_divide\n",
      "  chroma2 = chroma2 / np.sum(chroma2)\n",
      "/home/rakova/project/multi_musegan/musegan/musegan/utils/metrics.py:94: RuntimeWarning: invalid value encountered in true_divide\n",
      "  chroma1 = chroma1 / np.sum(chroma1)\n",
      "/home/rakova/project/multi_musegan/musegan/musegan/utils/metrics.py:96: RuntimeWarning: invalid value encountered in true_divide\n",
      "  chroma2 = chroma2 / np.sum(chroma2)\n"
     ]
    },
    {
     "name": "stdout",
     "output_type": "stream",
     "text": [
      "   1  |  228/ 273 |   1.45 |      64.783981 |     -11.011154 |      0.286091 |          1.634 |\n",
      "   1  |  229/ 273 |   1.45 |      69.959259 |     -15.634817 |      0.430306 |          1.058 |\n",
      "   1  |  230/ 273 |   1.45 |      68.790619 |      -2.043851 |      1.264276 |          2.636 |\n",
      "   1  |  231/ 273 |   1.46 |      69.449417 |     -15.965837 |      0.713865 |          1.079 |\n",
      "   1  |  232/ 273 |   1.46 |      73.952278 |      25.628160 |      0.485248 |          1.464 |\n",
      "   1  |  233/ 273 |   1.45 |      56.971382 |     -10.351213 |      0.458472 |          1.034 |\n",
      "   1  |  234/ 273 |   1.46 |      69.081741 |     -23.130003 |      0.451230 |          1.170 |\n",
      "   1  |  235/ 273 |   1.46 |      67.089348 |      -7.798594 |      0.228556 |          1.027 |\n",
      "   1  |  236/ 273 |   1.46 |      67.721855 |      -2.444494 |      0.245439 |          1.387 |\n",
      "   1  |  237/ 273 |   1.46 |      68.031601 |       6.427547 |      0.132591 |          1.098 |\n"
     ]
    },
    {
     "name": "stderr",
     "output_type": "stream",
     "text": [
      "/home/rakova/project/multi_musegan/musegan/musegan/utils/metrics.py:94: RuntimeWarning: invalid value encountered in true_divide\n",
      "  chroma1 = chroma1 / np.sum(chroma1)\n",
      "/home/rakova/project/multi_musegan/musegan/musegan/utils/metrics.py:96: RuntimeWarning: invalid value encountered in true_divide\n",
      "  chroma2 = chroma2 / np.sum(chroma2)\n",
      "/home/rakova/project/multi_musegan/musegan/musegan/utils/metrics.py:94: RuntimeWarning: invalid value encountered in true_divide\n",
      "  chroma1 = chroma1 / np.sum(chroma1)\n",
      "/home/rakova/project/multi_musegan/musegan/musegan/utils/metrics.py:96: RuntimeWarning: invalid value encountered in true_divide\n",
      "  chroma2 = chroma2 / np.sum(chroma2)\n",
      "/home/rakova/project/multi_musegan/musegan/musegan/utils/metrics.py:94: RuntimeWarning: invalid value encountered in true_divide\n",
      "  chroma1 = chroma1 / np.sum(chroma1)\n",
      "/home/rakova/project/multi_musegan/musegan/musegan/utils/metrics.py:96: RuntimeWarning: invalid value encountered in true_divide\n",
      "  chroma2 = chroma2 / np.sum(chroma2)\n",
      "/home/rakova/project/multi_musegan/musegan/musegan/utils/metrics.py:94: RuntimeWarning: invalid value encountered in true_divide\n",
      "  chroma1 = chroma1 / np.sum(chroma1)\n",
      "/home/rakova/project/multi_musegan/musegan/musegan/utils/metrics.py:96: RuntimeWarning: invalid value encountered in true_divide\n",
      "  chroma2 = chroma2 / np.sum(chroma2)\n"
     ]
    },
    {
     "name": "stdout",
     "output_type": "stream",
     "text": [
      "   1  |  238/ 273 |   1.46 |      74.726547 |     -16.876139 |      0.332724 |          1.060 |\n",
      "   1  |  239/ 273 |   1.46 |      91.529251 |      16.376261 |      0.316872 |          1.037 |\n",
      "   1  |  240/ 273 |   1.45 |      59.661514 |     -14.894133 |      0.779125 |          1.070 |\n",
      "   1  |  241/ 273 |   1.45 |      61.525723 |      -8.987143 |      1.109172 |          1.471 |\n",
      "   1  |  242/ 273 |   1.45 |      61.816597 |      -7.361279 |      0.367122 |          1.028 |\n",
      "   1  |  243/ 273 |   1.46 |      63.597267 |      -2.136248 |      0.257276 |          0.968 |\n",
      "   1  |  244/ 273 |   1.45 |      65.248146 |     -12.503973 |      0.345268 |          0.947 |\n",
      "   1  |  245/ 273 |   1.47 |      69.778305 |       4.831057 |      0.243195 |          1.409 |\n",
      "   1  |  246/ 273 |   1.46 |      65.708038 |     -13.506166 |      0.186765 |          1.026 |\n",
      "   1  |  247/ 273 |   1.46 |      75.682587 |      -0.808290 |      0.629916 |          1.470 |\n"
     ]
    },
    {
     "name": "stderr",
     "output_type": "stream",
     "text": [
      "/home/rakova/project/multi_musegan/musegan/musegan/utils/metrics.py:96: RuntimeWarning: invalid value encountered in true_divide\n",
      "  chroma2 = chroma2 / np.sum(chroma2)\n",
      "/home/rakova/project/multi_musegan/musegan/musegan/utils/metrics.py:94: RuntimeWarning: invalid value encountered in true_divide\n",
      "  chroma1 = chroma1 / np.sum(chroma1)\n",
      "/home/rakova/project/multi_musegan/musegan/musegan/utils/metrics.py:94: RuntimeWarning: invalid value encountered in true_divide\n",
      "  chroma1 = chroma1 / np.sum(chroma1)\n",
      "/home/rakova/project/multi_musegan/musegan/musegan/utils/metrics.py:96: RuntimeWarning: invalid value encountered in true_divide\n",
      "  chroma2 = chroma2 / np.sum(chroma2)\n",
      "/home/rakova/project/multi_musegan/musegan/musegan/utils/metrics.py:96: RuntimeWarning: invalid value encountered in true_divide\n",
      "  chroma2 = chroma2 / np.sum(chroma2)\n",
      "/home/rakova/project/multi_musegan/musegan/musegan/utils/metrics.py:94: RuntimeWarning: invalid value encountered in true_divide\n",
      "  chroma1 = chroma1 / np.sum(chroma1)\n",
      "/home/rakova/project/multi_musegan/musegan/musegan/utils/metrics.py:94: RuntimeWarning: invalid value encountered in true_divide\n",
      "  chroma1 = chroma1 / np.sum(chroma1)\n",
      "/home/rakova/project/multi_musegan/musegan/musegan/utils/metrics.py:96: RuntimeWarning: invalid value encountered in true_divide\n",
      "  chroma2 = chroma2 / np.sum(chroma2)\n"
     ]
    },
    {
     "name": "stdout",
     "output_type": "stream",
     "text": [
      "   1  |  248/ 273 |   1.46 |      68.486526 |     -13.565766 |      0.274676 |          0.802 |\n",
      "   1  |  249/ 273 |   1.46 |      63.560219 |     -17.743235 |      0.253904 |          0.901 |\n",
      "   1  |  250/ 273 |   1.46 |      62.107147 |      -3.886560 |      0.443485 |          1.026 |\n",
      "   1  |  251/ 273 |   1.46 |      66.397156 |     -18.761265 |      0.334154 |          1.069 |\n",
      "   1  |  252/ 273 |   1.45 |      66.912369 |     -19.551220 |      0.483364 |          1.116 |\n",
      "   1  |  253/ 273 |   1.45 |      60.596031 |      -1.709770 |      1.141866 |          1.595 |\n",
      "   1  |  254/ 273 |   1.45 |      68.827072 |      -4.451532 |      0.269941 |          1.011 |\n",
      "   1  |  255/ 273 |   1.46 |      63.049393 |     -14.053025 |      0.371893 |          0.971 |\n",
      "   1  |  256/ 273 |   1.46 |      64.563614 |      -9.725888 |      0.627069 |          1.199 |\n",
      "   1  |  257/ 273 |   1.46 |      64.910141 |     -12.862770 |      0.437270 |          1.018 |\n"
     ]
    },
    {
     "name": "stderr",
     "output_type": "stream",
     "text": [
      "/home/rakova/project/multi_musegan/musegan/musegan/utils/metrics.py:94: RuntimeWarning: invalid value encountered in true_divide\n",
      "  chroma1 = chroma1 / np.sum(chroma1)\n",
      "/home/rakova/project/multi_musegan/musegan/musegan/utils/metrics.py:96: RuntimeWarning: invalid value encountered in true_divide\n",
      "  chroma2 = chroma2 / np.sum(chroma2)\n",
      "/home/rakova/project/multi_musegan/musegan/musegan/utils/metrics.py:94: RuntimeWarning: invalid value encountered in true_divide\n",
      "  chroma1 = chroma1 / np.sum(chroma1)\n",
      "/home/rakova/project/multi_musegan/musegan/musegan/utils/metrics.py:96: RuntimeWarning: invalid value encountered in true_divide\n",
      "  chroma2 = chroma2 / np.sum(chroma2)\n",
      "/home/rakova/project/multi_musegan/musegan/musegan/utils/metrics.py:94: RuntimeWarning: invalid value encountered in true_divide\n",
      "  chroma1 = chroma1 / np.sum(chroma1)\n",
      "/home/rakova/project/multi_musegan/musegan/musegan/utils/metrics.py:96: RuntimeWarning: invalid value encountered in true_divide\n",
      "  chroma2 = chroma2 / np.sum(chroma2)\n",
      "/home/rakova/project/multi_musegan/musegan/musegan/utils/metrics.py:94: RuntimeWarning: invalid value encountered in true_divide\n",
      "  chroma1 = chroma1 / np.sum(chroma1)\n",
      "/home/rakova/project/multi_musegan/musegan/musegan/utils/metrics.py:96: RuntimeWarning: invalid value encountered in true_divide\n",
      "  chroma2 = chroma2 / np.sum(chroma2)\n"
     ]
    },
    {
     "name": "stdout",
     "output_type": "stream",
     "text": [
      "   1  |  258/ 273 |   1.46 |      72.197540 |     -12.651956 |      0.323842 |          1.254 |\n",
      "   1  |  259/ 273 |   1.46 |      62.712826 |      -4.496974 |      0.611458 |          0.906 |\n",
      "   1  |  260/ 273 |   1.46 |      62.231880 |     -11.750299 |      0.313780 |          1.008 |\n",
      "   1  |  261/ 273 |   1.45 |      63.534939 |      -0.652123 |      0.437156 |          1.010 |\n",
      "   1  |  262/ 273 |   1.45 |      60.789787 |     -10.009484 |      0.379938 |          1.338 |\n",
      "   1  |  263/ 273 |   1.46 |      68.003738 |      -6.839882 |      0.282166 |          1.070 |\n",
      "   1  |  264/ 273 |   1.45 |      63.349487 |      -5.350433 |      0.277422 |          1.127 |\n",
      "   1  |  265/ 273 |   1.46 |      60.642483 |       4.107907 |      0.309783 |          0.942 |\n",
      "   1  |  266/ 273 |   1.45 |      68.891922 |      -0.854232 |      0.355461 |          0.878 |\n",
      "   1  |  267/ 273 |   1.46 |      70.410324 |     -19.064379 |      0.483977 |          1.056 |\n"
     ]
    },
    {
     "name": "stderr",
     "output_type": "stream",
     "text": [
      "/home/rakova/project/multi_musegan/musegan/musegan/utils/metrics.py:94: RuntimeWarning: invalid value encountered in true_divide\n",
      "  chroma1 = chroma1 / np.sum(chroma1)\n",
      "/home/rakova/project/multi_musegan/musegan/musegan/utils/metrics.py:94: RuntimeWarning: invalid value encountered in true_divide\n",
      "  chroma1 = chroma1 / np.sum(chroma1)\n",
      "/home/rakova/project/multi_musegan/musegan/musegan/utils/metrics.py:94: RuntimeWarning: invalid value encountered in true_divide\n",
      "  chroma1 = chroma1 / np.sum(chroma1)\n",
      "/home/rakova/project/multi_musegan/musegan/musegan/utils/metrics.py:94: RuntimeWarning: invalid value encountered in true_divide\n",
      "  chroma1 = chroma1 / np.sum(chroma1)\n"
     ]
    },
    {
     "name": "stdout",
     "output_type": "stream",
     "text": [
      "   1  |  268/ 273 |   1.46 |      77.569420 |      28.120680 |      1.647064 |          1.355 |\n",
      "   1  |  269/ 273 |   1.45 |      56.136089 |     -11.358893 |      0.457961 |          1.092 |\n",
      "   1  |  270/ 273 |   1.45 |      72.976273 |      -7.428108 |      0.564787 |          1.906 |\n",
      "   1  |  271/ 273 |   1.46 |      64.648705 |      -5.129554 |      0.399415 |          1.108 |\n",
      "   1  |  272/ 273 |   1.45 |      64.358116 |      -3.395546 |      0.208271 |          1.070 |\n",
      "[*] Saving checkpoint...\n",
      "-------------------------------- Epoch 2 Start ---------------------------------\n",
      "epoch |   batch   |  time  |    - D_loss    |     G_loss    |  CrossEntr  | CrossEntrTest\n",
      "   2  |    0/ 273 |   1.46 |      66.921051 |     -16.032684 |      0.914007 |          1.270 |\n",
      "   2  |    1/ 273 |   1.46 |      66.292686 |     -10.622320 |      0.323722 |          1.465 |\n",
      "   2  |    2/ 273 |   1.45 |      62.949982 |      -5.641847 |      0.238032 |          1.158 |\n",
      "   2  |    3/ 273 |   1.45 |      57.860641 |       3.158319 |      0.255595 |          0.982 |\n",
      "   2  |    4/ 273 |   1.46 |      72.194885 |     -13.089927 |      0.289231 |          1.062 |\n"
     ]
    },
    {
     "name": "stderr",
     "output_type": "stream",
     "text": [
      "/home/rakova/project/multi_musegan/musegan/musegan/utils/metrics.py:94: RuntimeWarning: invalid value encountered in true_divide\n",
      "  chroma1 = chroma1 / np.sum(chroma1)\n",
      "/home/rakova/project/multi_musegan/musegan/musegan/utils/metrics.py:96: RuntimeWarning: invalid value encountered in true_divide\n",
      "  chroma2 = chroma2 / np.sum(chroma2)\n",
      "/home/rakova/project/multi_musegan/musegan/musegan/utils/metrics.py:94: RuntimeWarning: invalid value encountered in true_divide\n",
      "  chroma1 = chroma1 / np.sum(chroma1)\n",
      "/home/rakova/project/multi_musegan/musegan/musegan/utils/metrics.py:96: RuntimeWarning: invalid value encountered in true_divide\n",
      "  chroma2 = chroma2 / np.sum(chroma2)\n",
      "/home/rakova/project/multi_musegan/musegan/musegan/utils/metrics.py:96: RuntimeWarning: invalid value encountered in true_divide\n",
      "  chroma2 = chroma2 / np.sum(chroma2)\n",
      "/home/rakova/project/multi_musegan/musegan/musegan/utils/metrics.py:94: RuntimeWarning: invalid value encountered in true_divide\n",
      "  chroma1 = chroma1 / np.sum(chroma1)\n",
      "/home/rakova/project/multi_musegan/musegan/musegan/utils/metrics.py:94: RuntimeWarning: invalid value encountered in true_divide\n",
      "  chroma1 = chroma1 / np.sum(chroma1)\n",
      "/home/rakova/project/multi_musegan/musegan/musegan/utils/metrics.py:96: RuntimeWarning: invalid value encountered in true_divide\n",
      "  chroma2 = chroma2 / np.sum(chroma2)\n"
     ]
    },
    {
     "name": "stdout",
     "output_type": "stream",
     "text": [
      "   2  |    5/ 273 |   1.46 |      63.767441 |     -10.774364 |      0.526983 |          1.048 |\n",
      "   2  |    6/ 273 |   1.46 |      62.134140 |      -9.182056 |      0.233160 |          1.115 |\n",
      "   2  |    7/ 273 |   1.46 |      56.090351 |       3.744382 |      0.270808 |          1.083 |\n",
      "   2  |    8/ 273 |   1.46 |      64.406860 |     -10.973751 |      0.615735 |          1.077 |\n",
      "   2  |    9/ 273 |   1.46 |      73.073669 |      -9.949554 |      0.267265 |          1.111 |\n",
      "   2  |   10/ 273 |   1.45 |      67.935257 |      -7.285663 |      0.214625 |          1.155 |\n",
      "   2  |   11/ 273 |   1.46 |      61.157669 |      -7.245101 |      0.281718 |          1.192 |\n",
      "   2  |   12/ 273 |   1.45 |      64.858704 |      -5.958242 |      0.574117 |          1.174 |\n",
      "   2  |   13/ 273 |   1.45 |      64.644020 |     -18.200678 |      0.378825 |          1.292 |\n",
      "   2  |   14/ 273 |   1.46 |      58.194614 |      -8.541457 |      0.320347 |          1.002 |\n"
     ]
    },
    {
     "name": "stderr",
     "output_type": "stream",
     "text": [
      "/home/rakova/project/multi_musegan/musegan/musegan/utils/metrics.py:94: RuntimeWarning: invalid value encountered in true_divide\n",
      "  chroma1 = chroma1 / np.sum(chroma1)\n",
      "/home/rakova/project/multi_musegan/musegan/musegan/utils/metrics.py:96: RuntimeWarning: invalid value encountered in true_divide\n",
      "  chroma2 = chroma2 / np.sum(chroma2)\n",
      "/home/rakova/project/multi_musegan/musegan/musegan/utils/metrics.py:94: RuntimeWarning: invalid value encountered in true_divide\n",
      "  chroma1 = chroma1 / np.sum(chroma1)\n",
      "/home/rakova/project/multi_musegan/musegan/musegan/utils/metrics.py:96: RuntimeWarning: invalid value encountered in true_divide\n",
      "  chroma2 = chroma2 / np.sum(chroma2)\n",
      "/home/rakova/project/multi_musegan/musegan/musegan/utils/metrics.py:94: RuntimeWarning: invalid value encountered in true_divide\n",
      "  chroma1 = chroma1 / np.sum(chroma1)\n",
      "/home/rakova/project/multi_musegan/musegan/musegan/utils/metrics.py:96: RuntimeWarning: invalid value encountered in true_divide\n",
      "  chroma2 = chroma2 / np.sum(chroma2)\n",
      "/home/rakova/project/multi_musegan/musegan/musegan/utils/metrics.py:94: RuntimeWarning: invalid value encountered in true_divide\n",
      "  chroma1 = chroma1 / np.sum(chroma1)\n",
      "/home/rakova/project/multi_musegan/musegan/musegan/utils/metrics.py:96: RuntimeWarning: invalid value encountered in true_divide\n",
      "  chroma2 = chroma2 / np.sum(chroma2)\n"
     ]
    },
    {
     "name": "stdout",
     "output_type": "stream",
     "text": [
      "   2  |   15/ 273 |   1.45 |      62.885220 |     -13.475445 |      0.363782 |          0.875 |\n",
      "   2  |   16/ 273 |   1.45 |      67.349686 |     -11.514089 |      0.313698 |          0.816 |\n",
      "   2  |   17/ 273 |   1.45 |      61.180809 |      -4.902306 |      0.470290 |          0.879 |\n",
      "   2  |   18/ 273 |   1.46 |      68.934021 |      -5.227762 |      0.224608 |          1.041 |\n",
      "   2  |   19/ 273 |   1.45 |      61.574673 |      -4.522636 |      0.266937 |          1.065 |\n",
      "   2  |   20/ 273 |   1.45 |      61.483521 |      -1.564274 |      1.390013 |          2.744 |\n",
      "   2  |   21/ 273 |   1.45 |      68.168472 |     -12.253829 |      0.466431 |          1.108 |\n",
      "   2  |   22/ 273 |   1.45 |      65.989319 |      -6.179545 |      0.217470 |          0.983 |\n",
      "   2  |   23/ 273 |   1.46 |      66.182373 |     -20.872828 |      0.396991 |          1.003 |\n",
      "   2  |   24/ 273 |   1.45 |      73.648132 |      -6.383160 |      0.569304 |          1.737 |\n"
     ]
    },
    {
     "name": "stderr",
     "output_type": "stream",
     "text": [
      "/home/rakova/project/multi_musegan/musegan/musegan/utils/metrics.py:94: RuntimeWarning: invalid value encountered in true_divide\n",
      "  chroma1 = chroma1 / np.sum(chroma1)\n",
      "/home/rakova/project/multi_musegan/musegan/musegan/utils/metrics.py:96: RuntimeWarning: invalid value encountered in true_divide\n",
      "  chroma2 = chroma2 / np.sum(chroma2)\n",
      "/home/rakova/project/multi_musegan/musegan/musegan/utils/metrics.py:96: RuntimeWarning: invalid value encountered in true_divide\n",
      "  chroma2 = chroma2 / np.sum(chroma2)\n",
      "/home/rakova/project/multi_musegan/musegan/musegan/utils/metrics.py:94: RuntimeWarning: invalid value encountered in true_divide\n",
      "  chroma1 = chroma1 / np.sum(chroma1)\n",
      "/home/rakova/project/multi_musegan/musegan/musegan/utils/metrics.py:94: RuntimeWarning: invalid value encountered in true_divide\n",
      "  chroma1 = chroma1 / np.sum(chroma1)\n",
      "/home/rakova/project/multi_musegan/musegan/musegan/utils/metrics.py:96: RuntimeWarning: invalid value encountered in true_divide\n",
      "  chroma2 = chroma2 / np.sum(chroma2)\n",
      "/home/rakova/project/multi_musegan/musegan/musegan/utils/metrics.py:96: RuntimeWarning: invalid value encountered in true_divide\n",
      "  chroma2 = chroma2 / np.sum(chroma2)\n",
      "/home/rakova/project/multi_musegan/musegan/musegan/utils/metrics.py:94: RuntimeWarning: invalid value encountered in true_divide\n",
      "  chroma1 = chroma1 / np.sum(chroma1)\n"
     ]
    },
    {
     "name": "stdout",
     "output_type": "stream",
     "text": [
      "   2  |   25/ 273 |   1.46 |      62.767178 |      -2.816310 |      0.387735 |          1.027 |\n",
      "   2  |   26/ 273 |   1.45 |      62.775333 |     -12.639698 |      0.269150 |          1.380 |\n",
      "   2  |   27/ 273 |   1.45 |      84.167969 |      37.803799 |      3.673763 |          2.909 |\n",
      "   2  |   28/ 273 |   1.45 |      53.861603 |     -18.439997 |      0.517691 |          0.942 |\n",
      "   2  |   29/ 273 |   1.45 |      64.158905 |     -25.743580 |      1.756927 |          2.419 |\n",
      "   2  |   30/ 273 |   1.45 |      70.597839 |       1.582243 |      0.902175 |          0.998 |\n",
      "   2  |   31/ 273 |   1.45 |      63.268234 |      -3.642057 |      0.332203 |          1.153 |\n",
      "   2  |   32/ 273 |   1.45 |      71.962982 |       5.871170 |      0.466491 |          1.458 |\n",
      "   2  |   33/ 273 |   1.46 |      60.760029 |      -0.898999 |      0.580090 |          1.191 |\n",
      "   2  |   34/ 273 |   1.45 |      53.176949 |     -14.269072 |      0.344300 |          0.851 |\n"
     ]
    },
    {
     "name": "stderr",
     "output_type": "stream",
     "text": [
      "/home/rakova/project/multi_musegan/musegan/musegan/utils/metrics.py:94: RuntimeWarning: invalid value encountered in true_divide\n",
      "  chroma1 = chroma1 / np.sum(chroma1)\n",
      "/home/rakova/project/multi_musegan/musegan/musegan/utils/metrics.py:96: RuntimeWarning: invalid value encountered in true_divide\n",
      "  chroma2 = chroma2 / np.sum(chroma2)\n",
      "/home/rakova/project/multi_musegan/musegan/musegan/utils/metrics.py:94: RuntimeWarning: invalid value encountered in true_divide\n",
      "  chroma1 = chroma1 / np.sum(chroma1)\n",
      "/home/rakova/project/multi_musegan/musegan/musegan/utils/metrics.py:96: RuntimeWarning: invalid value encountered in true_divide\n",
      "  chroma2 = chroma2 / np.sum(chroma2)\n",
      "/home/rakova/project/multi_musegan/musegan/musegan/utils/metrics.py:94: RuntimeWarning: invalid value encountered in true_divide\n",
      "  chroma1 = chroma1 / np.sum(chroma1)\n",
      "/home/rakova/project/multi_musegan/musegan/musegan/utils/metrics.py:96: RuntimeWarning: invalid value encountered in true_divide\n",
      "  chroma2 = chroma2 / np.sum(chroma2)\n",
      "/home/rakova/project/multi_musegan/musegan/musegan/utils/metrics.py:94: RuntimeWarning: invalid value encountered in true_divide\n",
      "  chroma1 = chroma1 / np.sum(chroma1)\n",
      "/home/rakova/project/multi_musegan/musegan/musegan/utils/metrics.py:96: RuntimeWarning: invalid value encountered in true_divide\n",
      "  chroma2 = chroma2 / np.sum(chroma2)\n"
     ]
    },
    {
     "name": "stdout",
     "output_type": "stream",
     "text": [
      "   2  |   35/ 273 |   1.45 |      64.235062 |     -17.505241 |      0.467934 |          1.101 |\n",
      "   2  |   36/ 273 |   1.45 |      65.597458 |     -16.089024 |      0.464862 |          1.259 |\n",
      "   2  |   37/ 273 |   1.46 |      57.936192 |      -9.557759 |      0.189120 |          1.263 |\n",
      "   2  |   38/ 273 |   1.45 |      60.360085 |      -8.716416 |      0.351688 |          1.145 |\n",
      "   2  |   39/ 273 |   1.46 |      58.043442 |     -14.020699 |      0.886977 |          1.851 |\n",
      "   2  |   40/ 273 |   1.45 |      66.957184 |     -16.177176 |      0.407984 |          1.097 |\n",
      "   2  |   41/ 273 |   1.45 |      81.935944 |      24.632246 |      0.294139 |          1.416 |\n",
      "   2  |   42/ 273 |   1.46 |      55.507607 |      -8.530124 |      0.426795 |          2.153 |\n",
      "   2  |   43/ 273 |   1.46 |      62.354252 |      -8.416909 |      0.255387 |          1.209 |\n",
      "   2  |   44/ 273 |   1.46 |      60.256828 |      -0.964913 |      0.636226 |          1.985 |\n"
     ]
    },
    {
     "name": "stderr",
     "output_type": "stream",
     "text": [
      "/home/rakova/project/multi_musegan/musegan/musegan/utils/metrics.py:94: RuntimeWarning: invalid value encountered in true_divide\n",
      "  chroma1 = chroma1 / np.sum(chroma1)\n",
      "/home/rakova/project/multi_musegan/musegan/musegan/utils/metrics.py:96: RuntimeWarning: invalid value encountered in true_divide\n",
      "  chroma2 = chroma2 / np.sum(chroma2)\n",
      "/home/rakova/project/multi_musegan/musegan/musegan/utils/metrics.py:94: RuntimeWarning: invalid value encountered in true_divide\n",
      "  chroma1 = chroma1 / np.sum(chroma1)\n",
      "/home/rakova/project/multi_musegan/musegan/musegan/utils/metrics.py:96: RuntimeWarning: invalid value encountered in true_divide\n",
      "  chroma2 = chroma2 / np.sum(chroma2)\n",
      "/home/rakova/project/multi_musegan/musegan/musegan/utils/metrics.py:94: RuntimeWarning: invalid value encountered in true_divide\n",
      "  chroma1 = chroma1 / np.sum(chroma1)\n",
      "/home/rakova/project/multi_musegan/musegan/musegan/utils/metrics.py:96: RuntimeWarning: invalid value encountered in true_divide\n",
      "  chroma2 = chroma2 / np.sum(chroma2)\n",
      "/home/rakova/project/multi_musegan/musegan/musegan/utils/metrics.py:94: RuntimeWarning: invalid value encountered in true_divide\n",
      "  chroma1 = chroma1 / np.sum(chroma1)\n",
      "/home/rakova/project/multi_musegan/musegan/musegan/utils/metrics.py:96: RuntimeWarning: invalid value encountered in true_divide\n",
      "  chroma2 = chroma2 / np.sum(chroma2)\n"
     ]
    },
    {
     "name": "stdout",
     "output_type": "stream",
     "text": [
      "   2  |   45/ 273 |   1.46 |      74.320099 |       0.545007 |      0.300319 |          1.379 |\n",
      "   2  |   46/ 273 |   1.45 |      65.324631 |     -11.892879 |      0.519381 |          1.291 |\n",
      "   2  |   47/ 273 |   1.45 |      59.848827 |     -17.899996 |      0.396902 |          1.431 |\n",
      "   2  |   48/ 273 |   1.45 |      61.703453 |      -3.254618 |      0.191353 |          1.326 |\n",
      "   2  |   49/ 273 |   1.45 |      70.642784 |      -4.124864 |      0.469756 |          1.478 |\n",
      "   2  |   50/ 273 |   1.45 |      58.717300 |      -7.219980 |      0.235083 |          1.434 |\n",
      "   2  |   51/ 273 |   1.45 |      64.119598 |      -6.433277 |      0.290690 |          1.267 |\n",
      "   2  |   52/ 273 |   1.45 |      68.396713 |     -11.745920 |      0.630958 |          2.596 |\n",
      "   2  |   53/ 273 |   1.46 |      67.975098 |     -12.689605 |      0.185805 |          1.691 |\n",
      "   2  |   54/ 273 |   1.46 |      59.562386 |      -6.415492 |      0.289669 |          1.206 |\n"
     ]
    },
    {
     "name": "stderr",
     "output_type": "stream",
     "text": [
      "/home/rakova/project/multi_musegan/musegan/musegan/utils/metrics.py:94: RuntimeWarning: invalid value encountered in true_divide\n",
      "  chroma1 = chroma1 / np.sum(chroma1)\n",
      "/home/rakova/project/multi_musegan/musegan/musegan/utils/metrics.py:96: RuntimeWarning: invalid value encountered in true_divide\n",
      "  chroma2 = chroma2 / np.sum(chroma2)\n",
      "/home/rakova/project/multi_musegan/musegan/musegan/utils/metrics.py:94: RuntimeWarning: invalid value encountered in true_divide\n",
      "  chroma1 = chroma1 / np.sum(chroma1)\n",
      "/home/rakova/project/multi_musegan/musegan/musegan/utils/metrics.py:96: RuntimeWarning: invalid value encountered in true_divide\n",
      "  chroma2 = chroma2 / np.sum(chroma2)\n",
      "/home/rakova/project/multi_musegan/musegan/musegan/utils/metrics.py:94: RuntimeWarning: invalid value encountered in true_divide\n",
      "  chroma1 = chroma1 / np.sum(chroma1)\n",
      "/home/rakova/project/multi_musegan/musegan/musegan/utils/metrics.py:96: RuntimeWarning: invalid value encountered in true_divide\n",
      "  chroma2 = chroma2 / np.sum(chroma2)\n",
      "/home/rakova/project/multi_musegan/musegan/musegan/utils/metrics.py:94: RuntimeWarning: invalid value encountered in true_divide\n",
      "  chroma1 = chroma1 / np.sum(chroma1)\n",
      "/home/rakova/project/multi_musegan/musegan/musegan/utils/metrics.py:96: RuntimeWarning: invalid value encountered in true_divide\n",
      "  chroma2 = chroma2 / np.sum(chroma2)\n"
     ]
    },
    {
     "name": "stdout",
     "output_type": "stream",
     "text": [
      "   2  |   55/ 273 |   1.45 |      72.983803 |     -16.019232 |      0.126377 |          1.370 |\n",
      "   2  |   56/ 273 |   1.45 |      63.864777 |      -6.299191 |      0.337108 |          1.143 |\n",
      "   2  |   57/ 273 |   1.45 |      69.538635 |      -5.286990 |      0.292731 |          1.096 |\n",
      "   2  |   58/ 273 |   1.45 |      59.091019 |      -2.879737 |      2.105694 |          3.717 |\n",
      "   2  |   59/ 273 |   1.45 |      61.220036 |      -7.045733 |      0.154244 |          1.088 |\n",
      "   2  |   60/ 273 |   1.45 |      68.527985 |     -13.559332 |      0.239576 |          1.238 |\n",
      "   2  |   61/ 273 |   1.46 |      54.958439 |      -6.227541 |      0.272709 |          1.318 |\n",
      "   2  |   62/ 273 |   1.45 |      64.454315 |      -3.086990 |      0.335549 |          0.860 |\n",
      "   2  |   63/ 273 |   1.46 |      64.049667 |      -8.282826 |      1.382256 |          2.458 |\n",
      "   2  |   64/ 273 |   1.45 |      61.907333 |     -11.269940 |      0.543736 |          1.262 |\n"
     ]
    },
    {
     "name": "stderr",
     "output_type": "stream",
     "text": [
      "/home/rakova/project/multi_musegan/musegan/musegan/utils/metrics.py:96: RuntimeWarning: invalid value encountered in true_divide\n",
      "  chroma2 = chroma2 / np.sum(chroma2)\n",
      "/home/rakova/project/multi_musegan/musegan/musegan/utils/metrics.py:94: RuntimeWarning: invalid value encountered in true_divide\n",
      "  chroma1 = chroma1 / np.sum(chroma1)\n",
      "/home/rakova/project/multi_musegan/musegan/musegan/utils/metrics.py:96: RuntimeWarning: invalid value encountered in true_divide\n",
      "  chroma2 = chroma2 / np.sum(chroma2)\n",
      "/home/rakova/project/multi_musegan/musegan/musegan/utils/metrics.py:94: RuntimeWarning: invalid value encountered in true_divide\n",
      "  chroma1 = chroma1 / np.sum(chroma1)\n",
      "/home/rakova/project/multi_musegan/musegan/musegan/utils/metrics.py:96: RuntimeWarning: invalid value encountered in true_divide\n",
      "  chroma2 = chroma2 / np.sum(chroma2)\n",
      "/home/rakova/project/multi_musegan/musegan/musegan/utils/metrics.py:94: RuntimeWarning: invalid value encountered in true_divide\n",
      "  chroma1 = chroma1 / np.sum(chroma1)\n",
      "/home/rakova/project/multi_musegan/musegan/musegan/utils/metrics.py:96: RuntimeWarning: invalid value encountered in true_divide\n",
      "  chroma2 = chroma2 / np.sum(chroma2)\n",
      "/home/rakova/project/multi_musegan/musegan/musegan/utils/metrics.py:94: RuntimeWarning: invalid value encountered in true_divide\n",
      "  chroma1 = chroma1 / np.sum(chroma1)\n"
     ]
    },
    {
     "name": "stdout",
     "output_type": "stream",
     "text": [
      "   2  |   65/ 273 |   1.46 |      61.538670 |      -7.920240 |      0.745971 |          1.651 |\n",
      "   2  |   66/ 273 |   1.45 |      62.619152 |      -2.395561 |      0.941030 |          1.382 |\n",
      "   2  |   67/ 273 |   1.45 |      60.120003 |      -6.286912 |      0.339084 |          1.346 |\n",
      "   2  |   68/ 273 |   1.45 |      59.656231 |      -2.873280 |      0.406638 |          1.186 |\n",
      "   2  |   69/ 273 |   1.46 |      63.066204 |     -18.565718 |      0.599665 |          1.399 |\n",
      "   2  |   70/ 273 |   1.45 |      73.227043 |      -7.151691 |      0.193936 |          1.009 |\n",
      "   2  |   71/ 273 |   1.45 |      62.516281 |     -11.100737 |      0.419595 |          1.257 |\n",
      "   2  |   72/ 273 |   1.46 |      57.105942 |      -9.187179 |      0.283280 |          1.418 |\n",
      "   2  |   73/ 273 |   1.45 |      65.766655 |      -6.189036 |      0.426431 |          1.058 |\n",
      "   2  |   74/ 273 |   1.45 |      61.864784 |      -4.476394 |      0.245889 |          0.982 |\n"
     ]
    },
    {
     "name": "stderr",
     "output_type": "stream",
     "text": [
      "/home/rakova/project/multi_musegan/musegan/musegan/utils/metrics.py:94: RuntimeWarning: invalid value encountered in true_divide\n",
      "  chroma1 = chroma1 / np.sum(chroma1)\n",
      "/home/rakova/project/multi_musegan/musegan/musegan/utils/metrics.py:96: RuntimeWarning: invalid value encountered in true_divide\n",
      "  chroma2 = chroma2 / np.sum(chroma2)\n",
      "/home/rakova/project/multi_musegan/musegan/musegan/utils/metrics.py:94: RuntimeWarning: invalid value encountered in true_divide\n",
      "  chroma1 = chroma1 / np.sum(chroma1)\n",
      "/home/rakova/project/multi_musegan/musegan/musegan/utils/metrics.py:96: RuntimeWarning: invalid value encountered in true_divide\n",
      "  chroma2 = chroma2 / np.sum(chroma2)\n",
      "/home/rakova/project/multi_musegan/musegan/musegan/utils/metrics.py:94: RuntimeWarning: invalid value encountered in true_divide\n",
      "  chroma1 = chroma1 / np.sum(chroma1)\n",
      "/home/rakova/project/multi_musegan/musegan/musegan/utils/metrics.py:96: RuntimeWarning: invalid value encountered in true_divide\n",
      "  chroma2 = chroma2 / np.sum(chroma2)\n",
      "/home/rakova/project/multi_musegan/musegan/musegan/utils/metrics.py:94: RuntimeWarning: invalid value encountered in true_divide\n",
      "  chroma1 = chroma1 / np.sum(chroma1)\n",
      "/home/rakova/project/multi_musegan/musegan/musegan/utils/metrics.py:96: RuntimeWarning: invalid value encountered in true_divide\n",
      "  chroma2 = chroma2 / np.sum(chroma2)\n"
     ]
    },
    {
     "name": "stdout",
     "output_type": "stream",
     "text": [
      "   2  |   75/ 273 |   1.46 |      59.045979 |       3.019978 |      0.807279 |          1.523 |\n",
      "   2  |   76/ 273 |   1.46 |      71.390747 |      -9.001145 |      0.599734 |          2.006 |\n",
      "   2  |   77/ 273 |   1.45 |      61.474663 |      -5.321514 |      0.294512 |          0.972 |\n",
      "   2  |   78/ 273 |   1.45 |      64.625275 |      -9.770521 |      0.276226 |          1.583 |\n",
      "   2  |   79/ 273 |   1.46 |      61.274456 |      -9.874844 |      0.272033 |          0.945 |\n",
      "   2  |   80/ 273 |   1.46 |      59.594776 |     -10.746705 |      0.396305 |          1.506 |\n",
      "   2  |   81/ 273 |   1.46 |      65.380478 |      -8.734493 |      0.235393 |          1.192 |\n",
      "   2  |   82/ 273 |   1.45 |      68.257431 |     -10.876688 |      0.312236 |          1.051 |\n",
      "   2  |   83/ 273 |   1.45 |      62.085617 |      -9.436799 |      0.423077 |          1.130 |\n",
      "   2  |   84/ 273 |   1.45 |      71.609009 |       3.923903 |      0.836591 |          1.526 |\n"
     ]
    },
    {
     "name": "stderr",
     "output_type": "stream",
     "text": [
      "/home/rakova/project/multi_musegan/musegan/musegan/utils/metrics.py:94: RuntimeWarning: invalid value encountered in true_divide\n",
      "  chroma1 = chroma1 / np.sum(chroma1)\n",
      "/home/rakova/project/multi_musegan/musegan/musegan/utils/metrics.py:96: RuntimeWarning: invalid value encountered in true_divide\n",
      "  chroma2 = chroma2 / np.sum(chroma2)\n",
      "/home/rakova/project/multi_musegan/musegan/musegan/utils/metrics.py:94: RuntimeWarning: invalid value encountered in true_divide\n",
      "  chroma1 = chroma1 / np.sum(chroma1)\n",
      "/home/rakova/project/multi_musegan/musegan/musegan/utils/metrics.py:96: RuntimeWarning: invalid value encountered in true_divide\n",
      "  chroma2 = chroma2 / np.sum(chroma2)\n",
      "/home/rakova/project/multi_musegan/musegan/musegan/utils/metrics.py:94: RuntimeWarning: invalid value encountered in true_divide\n",
      "  chroma1 = chroma1 / np.sum(chroma1)\n",
      "/home/rakova/project/multi_musegan/musegan/musegan/utils/metrics.py:96: RuntimeWarning: invalid value encountered in true_divide\n",
      "  chroma2 = chroma2 / np.sum(chroma2)\n",
      "/home/rakova/project/multi_musegan/musegan/musegan/utils/metrics.py:94: RuntimeWarning: invalid value encountered in true_divide\n",
      "  chroma1 = chroma1 / np.sum(chroma1)\n",
      "/home/rakova/project/multi_musegan/musegan/musegan/utils/metrics.py:96: RuntimeWarning: invalid value encountered in true_divide\n",
      "  chroma2 = chroma2 / np.sum(chroma2)\n"
     ]
    },
    {
     "name": "stdout",
     "output_type": "stream",
     "text": [
      "   2  |   85/ 273 |   1.45 |      67.820580 |      -8.494061 |      0.256912 |          1.133 |\n",
      "   2  |   86/ 273 |   1.45 |      63.013199 |     -10.103950 |      0.227620 |          1.035 |\n",
      "   2  |   87/ 273 |   1.45 |      75.473244 |      -7.558441 |      0.332801 |          1.450 |\n",
      "   2  |   88/ 273 |   1.45 |      67.281616 |      -4.993974 |      0.442482 |          1.651 |\n",
      "   2  |   89/ 273 |   1.46 |      67.396652 |      -7.943633 |      0.300004 |          1.717 |\n",
      "   2  |   90/ 273 |   1.46 |      60.749062 |      -7.830916 |      0.264237 |          0.929 |\n",
      "   2  |   91/ 273 |   1.45 |      61.809269 |      -7.892824 |      0.211543 |          0.976 |\n",
      "   2  |   92/ 273 |   1.46 |      59.098961 |      -3.899324 |      0.228981 |          1.147 |\n",
      "   2  |   93/ 273 |   1.45 |      64.561691 |     -10.448704 |      0.266670 |          1.087 |\n",
      "   2  |   94/ 273 |   1.45 |      71.490921 |      -8.461336 |      0.135875 |          1.063 |\n"
     ]
    },
    {
     "name": "stderr",
     "output_type": "stream",
     "text": [
      "/home/rakova/project/multi_musegan/musegan/musegan/utils/metrics.py:94: RuntimeWarning: invalid value encountered in true_divide\n",
      "  chroma1 = chroma1 / np.sum(chroma1)\n",
      "/home/rakova/project/multi_musegan/musegan/musegan/utils/metrics.py:96: RuntimeWarning: invalid value encountered in true_divide\n",
      "  chroma2 = chroma2 / np.sum(chroma2)\n",
      "/home/rakova/project/multi_musegan/musegan/musegan/utils/metrics.py:94: RuntimeWarning: invalid value encountered in true_divide\n",
      "  chroma1 = chroma1 / np.sum(chroma1)\n",
      "/home/rakova/project/multi_musegan/musegan/musegan/utils/metrics.py:96: RuntimeWarning: invalid value encountered in true_divide\n",
      "  chroma2 = chroma2 / np.sum(chroma2)\n",
      "/home/rakova/project/multi_musegan/musegan/musegan/utils/metrics.py:94: RuntimeWarning: invalid value encountered in true_divide\n",
      "  chroma1 = chroma1 / np.sum(chroma1)\n",
      "/home/rakova/project/multi_musegan/musegan/musegan/utils/metrics.py:96: RuntimeWarning: invalid value encountered in true_divide\n",
      "  chroma2 = chroma2 / np.sum(chroma2)\n",
      "/home/rakova/project/multi_musegan/musegan/musegan/utils/metrics.py:94: RuntimeWarning: invalid value encountered in true_divide\n",
      "  chroma1 = chroma1 / np.sum(chroma1)\n",
      "/home/rakova/project/multi_musegan/musegan/musegan/utils/metrics.py:96: RuntimeWarning: invalid value encountered in true_divide\n",
      "  chroma2 = chroma2 / np.sum(chroma2)\n"
     ]
    },
    {
     "name": "stdout",
     "output_type": "stream",
     "text": [
      "   2  |   95/ 273 |   1.45 |      60.738464 |     -13.638218 |      0.177079 |          1.164 |\n",
      "   2  |   96/ 273 |   1.45 |      63.350006 |     -10.250392 |      0.203089 |          1.113 |\n",
      "   2  |   97/ 273 |   1.46 |      67.142525 |      -9.545596 |      0.200179 |          1.428 |\n",
      "   2  |   98/ 273 |   1.46 |      63.340187 |      -9.070386 |      0.200356 |          1.149 |\n",
      "   2  |   99/ 273 |   1.45 |      71.435417 |      -3.335967 |      0.155489 |          1.288 |\n",
      "   2  |  100/ 273 |   1.45 |      69.139191 |     -12.665008 |      0.351503 |          1.331 |\n",
      "   2  |  101/ 273 |   1.45 |      70.008972 |      -2.881049 |      0.182477 |          1.084 |\n",
      "   2  |  102/ 273 |   1.45 |      60.316582 |     -14.498359 |      0.405818 |          1.197 |\n",
      "   2  |  103/ 273 |   1.45 |      65.373528 |     -10.492755 |      0.179314 |          1.325 |\n",
      "   2  |  104/ 273 |   1.46 |      64.845047 |      -6.739691 |      0.147391 |          1.245 |\n"
     ]
    },
    {
     "name": "stderr",
     "output_type": "stream",
     "text": [
      "/home/rakova/project/multi_musegan/musegan/musegan/utils/metrics.py:94: RuntimeWarning: invalid value encountered in true_divide\n",
      "  chroma1 = chroma1 / np.sum(chroma1)\n",
      "/home/rakova/project/multi_musegan/musegan/musegan/utils/metrics.py:96: RuntimeWarning: invalid value encountered in true_divide\n",
      "  chroma2 = chroma2 / np.sum(chroma2)\n",
      "/home/rakova/project/multi_musegan/musegan/musegan/utils/metrics.py:94: RuntimeWarning: invalid value encountered in true_divide\n",
      "  chroma1 = chroma1 / np.sum(chroma1)\n",
      "/home/rakova/project/multi_musegan/musegan/musegan/utils/metrics.py:96: RuntimeWarning: invalid value encountered in true_divide\n",
      "  chroma2 = chroma2 / np.sum(chroma2)\n",
      "/home/rakova/project/multi_musegan/musegan/musegan/utils/metrics.py:94: RuntimeWarning: invalid value encountered in true_divide\n",
      "  chroma1 = chroma1 / np.sum(chroma1)\n",
      "/home/rakova/project/multi_musegan/musegan/musegan/utils/metrics.py:96: RuntimeWarning: invalid value encountered in true_divide\n",
      "  chroma2 = chroma2 / np.sum(chroma2)\n",
      "/home/rakova/project/multi_musegan/musegan/musegan/utils/metrics.py:94: RuntimeWarning: invalid value encountered in true_divide\n",
      "  chroma1 = chroma1 / np.sum(chroma1)\n",
      "/home/rakova/project/multi_musegan/musegan/musegan/utils/metrics.py:96: RuntimeWarning: invalid value encountered in true_divide\n",
      "  chroma2 = chroma2 / np.sum(chroma2)\n"
     ]
    },
    {
     "name": "stdout",
     "output_type": "stream",
     "text": [
      "   2  |  105/ 273 |   1.46 |      64.029816 |     -12.895647 |      0.213469 |          1.600 |\n",
      "   2  |  106/ 273 |   1.45 |      66.026291 |      -6.380379 |      0.538981 |          1.728 |\n",
      "   2  |  107/ 273 |   1.46 |      63.495701 |     -10.997822 |      0.521405 |          1.312 |\n",
      "   2  |  108/ 273 |   1.46 |      67.390083 |      -5.964854 |      0.688298 |          2.380 |\n",
      "   2  |  109/ 273 |   1.46 |      61.754940 |     -10.514879 |      0.294474 |          0.983 |\n",
      "   2  |  110/ 273 |   1.45 |      63.266872 |      -5.469919 |      0.346931 |          1.123 |\n",
      "   2  |  111/ 273 |   1.46 |      62.732811 |      -4.083768 |      0.215555 |          1.081 |\n",
      "   2  |  112/ 273 |   1.45 |      70.469490 |      -6.381299 |      0.201892 |          1.601 |\n",
      "   2  |  113/ 273 |   1.45 |      67.127441 |      -9.990398 |      0.204869 |          1.269 |\n",
      "   2  |  114/ 273 |   1.45 |      64.063873 |     -14.608624 |      0.393457 |          1.137 |\n"
     ]
    },
    {
     "name": "stderr",
     "output_type": "stream",
     "text": [
      "/home/rakova/project/multi_musegan/musegan/musegan/utils/metrics.py:96: RuntimeWarning: invalid value encountered in true_divide\n",
      "  chroma2 = chroma2 / np.sum(chroma2)\n",
      "/home/rakova/project/multi_musegan/musegan/musegan/utils/metrics.py:94: RuntimeWarning: invalid value encountered in true_divide\n",
      "  chroma1 = chroma1 / np.sum(chroma1)\n",
      "/home/rakova/project/multi_musegan/musegan/musegan/utils/metrics.py:96: RuntimeWarning: invalid value encountered in true_divide\n",
      "  chroma2 = chroma2 / np.sum(chroma2)\n",
      "/home/rakova/project/multi_musegan/musegan/musegan/utils/metrics.py:94: RuntimeWarning: invalid value encountered in true_divide\n",
      "  chroma1 = chroma1 / np.sum(chroma1)\n",
      "/home/rakova/project/multi_musegan/musegan/musegan/utils/metrics.py:96: RuntimeWarning: invalid value encountered in true_divide\n",
      "  chroma2 = chroma2 / np.sum(chroma2)\n",
      "/home/rakova/project/multi_musegan/musegan/musegan/utils/metrics.py:94: RuntimeWarning: invalid value encountered in true_divide\n",
      "  chroma1 = chroma1 / np.sum(chroma1)\n",
      "/home/rakova/project/multi_musegan/musegan/musegan/utils/metrics.py:96: RuntimeWarning: invalid value encountered in true_divide\n",
      "  chroma2 = chroma2 / np.sum(chroma2)\n",
      "/home/rakova/project/multi_musegan/musegan/musegan/utils/metrics.py:94: RuntimeWarning: invalid value encountered in true_divide\n",
      "  chroma1 = chroma1 / np.sum(chroma1)\n"
     ]
    },
    {
     "name": "stdout",
     "output_type": "stream",
     "text": [
      "   2  |  115/ 273 |   1.45 |      74.080101 |     -11.782485 |      0.160558 |          1.127 |\n",
      "   2  |  116/ 273 |   1.45 |      62.453537 |     -12.462743 |      0.220346 |          1.234 |\n",
      "   2  |  117/ 273 |   1.45 |      65.524757 |      -8.690536 |      0.432087 |          1.325 |\n",
      "   2  |  118/ 273 |   1.45 |      66.347198 |      -8.853060 |      0.556944 |          1.370 |\n",
      "   2  |  119/ 273 |   1.46 |      63.237328 |      -7.631934 |      0.093638 |          1.414 |\n",
      "   2  |  120/ 273 |   1.45 |      67.621109 |      -4.702332 |      0.281410 |          1.304 |\n",
      "   2  |  121/ 273 |   1.45 |      57.685097 |      -2.411040 |      0.090848 |          1.283 |\n",
      "   2  |  122/ 273 |   1.45 |      58.309601 |     -15.189398 |      0.177263 |          1.381 |\n",
      "   2  |  123/ 273 |   1.46 |      56.286179 |     -11.215504 |      0.323716 |          1.085 |\n",
      "   2  |  124/ 273 |   1.45 |      58.767662 |     -14.175171 |      0.171382 |          1.128 |\n"
     ]
    },
    {
     "name": "stderr",
     "output_type": "stream",
     "text": [
      "/home/rakova/project/multi_musegan/musegan/musegan/utils/metrics.py:94: RuntimeWarning: invalid value encountered in true_divide\n",
      "  chroma1 = chroma1 / np.sum(chroma1)\n",
      "/home/rakova/project/multi_musegan/musegan/musegan/utils/metrics.py:96: RuntimeWarning: invalid value encountered in true_divide\n",
      "  chroma2 = chroma2 / np.sum(chroma2)\n",
      "/home/rakova/project/multi_musegan/musegan/musegan/utils/metrics.py:94: RuntimeWarning: invalid value encountered in true_divide\n",
      "  chroma1 = chroma1 / np.sum(chroma1)\n",
      "/home/rakova/project/multi_musegan/musegan/musegan/utils/metrics.py:96: RuntimeWarning: invalid value encountered in true_divide\n",
      "  chroma2 = chroma2 / np.sum(chroma2)\n",
      "/home/rakova/project/multi_musegan/musegan/musegan/utils/metrics.py:94: RuntimeWarning: invalid value encountered in true_divide\n",
      "  chroma1 = chroma1 / np.sum(chroma1)\n",
      "/home/rakova/project/multi_musegan/musegan/musegan/utils/metrics.py:96: RuntimeWarning: invalid value encountered in true_divide\n",
      "  chroma2 = chroma2 / np.sum(chroma2)\n",
      "/home/rakova/project/multi_musegan/musegan/musegan/utils/metrics.py:94: RuntimeWarning: invalid value encountered in true_divide\n",
      "  chroma1 = chroma1 / np.sum(chroma1)\n",
      "/home/rakova/project/multi_musegan/musegan/musegan/utils/metrics.py:96: RuntimeWarning: invalid value encountered in true_divide\n",
      "  chroma2 = chroma2 / np.sum(chroma2)\n"
     ]
    },
    {
     "name": "stdout",
     "output_type": "stream",
     "text": [
      "   2  |  125/ 273 |   1.45 |      67.841438 |      -5.026195 |      0.082929 |          1.372 |\n",
      "   2  |  126/ 273 |   1.45 |      59.843689 |      -6.054646 |      0.161687 |          1.223 |\n",
      "   2  |  127/ 273 |   1.45 |      62.270115 |      -8.298808 |      0.182829 |          1.453 |\n",
      "   2  |  128/ 273 |   1.45 |      57.196739 |     -10.045120 |      0.281260 |          1.173 |\n",
      "   2  |  129/ 273 |   1.45 |      57.755600 |      -0.461735 |      0.397179 |          1.009 |\n",
      "   2  |  130/ 273 |   1.46 |      66.129547 |      -9.338722 |      0.467905 |          1.346 |\n",
      "   2  |  131/ 273 |   1.45 |      63.395203 |     -15.330414 |      0.593596 |          1.089 |\n",
      "   2  |  132/ 273 |   1.45 |      69.178268 |     -14.745465 |      0.304947 |          0.987 |\n",
      "   2  |  133/ 273 |   1.45 |      67.349701 |     -15.269140 |      0.169142 |          1.000 |\n",
      "   2  |  134/ 273 |   1.46 |      64.110138 |      -6.820783 |      0.142808 |          1.039 |\n"
     ]
    },
    {
     "name": "stderr",
     "output_type": "stream",
     "text": [
      "/home/rakova/project/multi_musegan/musegan/musegan/utils/metrics.py:94: RuntimeWarning: invalid value encountered in true_divide\n",
      "  chroma1 = chroma1 / np.sum(chroma1)\n",
      "/home/rakova/project/multi_musegan/musegan/musegan/utils/metrics.py:96: RuntimeWarning: invalid value encountered in true_divide\n",
      "  chroma2 = chroma2 / np.sum(chroma2)\n",
      "/home/rakova/project/multi_musegan/musegan/musegan/utils/metrics.py:96: RuntimeWarning: invalid value encountered in true_divide\n",
      "  chroma2 = chroma2 / np.sum(chroma2)\n",
      "/home/rakova/project/multi_musegan/musegan/musegan/utils/metrics.py:94: RuntimeWarning: invalid value encountered in true_divide\n",
      "  chroma1 = chroma1 / np.sum(chroma1)\n",
      "/home/rakova/project/multi_musegan/musegan/musegan/utils/metrics.py:94: RuntimeWarning: invalid value encountered in true_divide\n",
      "  chroma1 = chroma1 / np.sum(chroma1)\n",
      "/home/rakova/project/multi_musegan/musegan/musegan/utils/metrics.py:96: RuntimeWarning: invalid value encountered in true_divide\n",
      "  chroma2 = chroma2 / np.sum(chroma2)\n",
      "/home/rakova/project/multi_musegan/musegan/musegan/utils/metrics.py:96: RuntimeWarning: invalid value encountered in true_divide\n",
      "  chroma2 = chroma2 / np.sum(chroma2)\n",
      "/home/rakova/project/multi_musegan/musegan/musegan/utils/metrics.py:94: RuntimeWarning: invalid value encountered in true_divide\n",
      "  chroma1 = chroma1 / np.sum(chroma1)\n"
     ]
    },
    {
     "name": "stdout",
     "output_type": "stream",
     "text": [
      "   2  |  135/ 273 |   1.45 |      59.187233 |      -5.178869 |      0.252058 |          1.389 |\n",
      "   2  |  136/ 273 |   1.45 |      73.848953 |      -9.533542 |      0.218804 |          1.507 |\n",
      "   2  |  137/ 273 |   1.45 |      64.289490 |      -3.801398 |      0.101985 |          1.648 |\n",
      "   2  |  138/ 273 |   1.46 |      67.982338 |      -5.062083 |      0.169138 |          1.079 |\n",
      "   2  |  139/ 273 |   1.46 |      64.169678 |     -11.131883 |      0.141757 |          1.065 |\n",
      "   2  |  140/ 273 |   1.46 |      66.610352 |     -12.146660 |      0.338727 |          1.400 |\n",
      "   2  |  141/ 273 |   1.45 |      59.889454 |      -7.617314 |      0.182742 |          1.084 |\n",
      "   2  |  142/ 273 |   1.45 |      69.161652 |      -5.232410 |      0.567728 |          1.181 |\n",
      "   2  |  143/ 273 |   1.45 |      61.711403 |     -10.785688 |      0.341743 |          1.085 |\n",
      "   2  |  144/ 273 |   1.45 |      69.503418 |     -16.992506 |      0.244692 |          1.392 |\n"
     ]
    },
    {
     "name": "stderr",
     "output_type": "stream",
     "text": [
      "/home/rakova/project/multi_musegan/musegan/musegan/utils/metrics.py:94: RuntimeWarning: invalid value encountered in true_divide\n",
      "  chroma1 = chroma1 / np.sum(chroma1)\n",
      "/home/rakova/project/multi_musegan/musegan/musegan/utils/metrics.py:96: RuntimeWarning: invalid value encountered in true_divide\n",
      "  chroma2 = chroma2 / np.sum(chroma2)\n",
      "/home/rakova/project/multi_musegan/musegan/musegan/utils/metrics.py:94: RuntimeWarning: invalid value encountered in true_divide\n",
      "  chroma1 = chroma1 / np.sum(chroma1)\n",
      "/home/rakova/project/multi_musegan/musegan/musegan/utils/metrics.py:96: RuntimeWarning: invalid value encountered in true_divide\n",
      "  chroma2 = chroma2 / np.sum(chroma2)\n",
      "/home/rakova/project/multi_musegan/musegan/musegan/utils/metrics.py:94: RuntimeWarning: invalid value encountered in true_divide\n",
      "  chroma1 = chroma1 / np.sum(chroma1)\n",
      "/home/rakova/project/multi_musegan/musegan/musegan/utils/metrics.py:96: RuntimeWarning: invalid value encountered in true_divide\n",
      "  chroma2 = chroma2 / np.sum(chroma2)\n",
      "/home/rakova/project/multi_musegan/musegan/musegan/utils/metrics.py:94: RuntimeWarning: invalid value encountered in true_divide\n",
      "  chroma1 = chroma1 / np.sum(chroma1)\n",
      "/home/rakova/project/multi_musegan/musegan/musegan/utils/metrics.py:96: RuntimeWarning: invalid value encountered in true_divide\n",
      "  chroma2 = chroma2 / np.sum(chroma2)\n"
     ]
    },
    {
     "name": "stdout",
     "output_type": "stream",
     "text": [
      "   2  |  145/ 273 |   1.45 |      64.419701 |      -9.454493 |      0.202449 |          1.097 |\n",
      "   2  |  146/ 273 |   1.45 |      69.143341 |      -9.421961 |      0.113734 |          1.212 |\n",
      "   2  |  147/ 273 |   1.45 |      57.337654 |      -4.402903 |      0.272363 |          1.214 |\n",
      "   2  |  148/ 273 |   1.45 |      68.219589 |     -12.238972 |      0.203346 |          1.203 |\n",
      "   2  |  149/ 273 |   1.45 |      65.366180 |     -11.160332 |      0.359313 |          1.349 |\n",
      "   2  |  150/ 273 |   1.45 |      69.275772 |     -20.779346 |      0.387885 |          1.300 |\n",
      "   2  |  151/ 273 |   1.45 |      71.922226 |      -9.341078 |      0.187362 |          1.018 |\n",
      "   2  |  152/ 273 |   1.45 |      70.336014 |      -3.996523 |      0.119001 |          1.053 |\n",
      "   2  |  153/ 273 |   1.45 |      69.637772 |     -11.514917 |      0.150003 |          1.008 |\n",
      "   2  |  154/ 273 |   1.45 |      72.153702 |      -9.892800 |      0.378537 |          2.689 |\n"
     ]
    },
    {
     "name": "stderr",
     "output_type": "stream",
     "text": [
      "/home/rakova/project/multi_musegan/musegan/musegan/utils/metrics.py:96: RuntimeWarning: invalid value encountered in true_divide\n",
      "  chroma2 = chroma2 / np.sum(chroma2)\n",
      "/home/rakova/project/multi_musegan/musegan/musegan/utils/metrics.py:94: RuntimeWarning: invalid value encountered in true_divide\n",
      "  chroma1 = chroma1 / np.sum(chroma1)\n",
      "/home/rakova/project/multi_musegan/musegan/musegan/utils/metrics.py:96: RuntimeWarning: invalid value encountered in true_divide\n",
      "  chroma2 = chroma2 / np.sum(chroma2)\n",
      "/home/rakova/project/multi_musegan/musegan/musegan/utils/metrics.py:94: RuntimeWarning: invalid value encountered in true_divide\n",
      "  chroma1 = chroma1 / np.sum(chroma1)\n",
      "/home/rakova/project/multi_musegan/musegan/musegan/utils/metrics.py:96: RuntimeWarning: invalid value encountered in true_divide\n",
      "  chroma2 = chroma2 / np.sum(chroma2)\n",
      "/home/rakova/project/multi_musegan/musegan/musegan/utils/metrics.py:94: RuntimeWarning: invalid value encountered in true_divide\n",
      "  chroma1 = chroma1 / np.sum(chroma1)\n",
      "/home/rakova/project/multi_musegan/musegan/musegan/utils/metrics.py:96: RuntimeWarning: invalid value encountered in true_divide\n",
      "  chroma2 = chroma2 / np.sum(chroma2)\n",
      "/home/rakova/project/multi_musegan/musegan/musegan/utils/metrics.py:94: RuntimeWarning: invalid value encountered in true_divide\n",
      "  chroma1 = chroma1 / np.sum(chroma1)\n"
     ]
    },
    {
     "name": "stdout",
     "output_type": "stream",
     "text": [
      "   2  |  155/ 273 |   1.46 |      60.335526 |     -11.191902 |      0.193110 |          1.061 |\n",
      "   2  |  156/ 273 |   1.45 |      59.953568 |      -9.752850 |      0.467761 |          1.324 |\n",
      "   2  |  157/ 273 |   1.45 |      72.269447 |      -7.095065 |      0.113733 |          1.280 |\n",
      "   2  |  158/ 273 |   1.45 |      67.506531 |      -8.398855 |      0.238643 |          1.070 |\n",
      "   2  |  159/ 273 |   1.45 |      62.763000 |     -18.206408 |      0.303202 |          0.949 |\n",
      "   2  |  160/ 273 |   1.45 |      66.988022 |      -7.576358 |      0.358161 |          1.116 |\n",
      "   2  |  161/ 273 |   1.46 |      64.274712 |     -16.844091 |      0.186175 |          1.198 |\n",
      "   2  |  162/ 273 |   1.45 |      57.826126 |      -2.329870 |      0.172845 |          1.093 |\n",
      "   2  |  163/ 273 |   1.45 |      70.075089 |      -3.845493 |      0.146614 |          1.918 |\n",
      "   2  |  164/ 273 |   1.45 |      70.316055 |     -13.430731 |      0.536955 |          1.064 |\n"
     ]
    },
    {
     "name": "stderr",
     "output_type": "stream",
     "text": [
      "/home/rakova/project/multi_musegan/musegan/musegan/utils/metrics.py:96: RuntimeWarning: invalid value encountered in true_divide\n",
      "  chroma2 = chroma2 / np.sum(chroma2)\n",
      "/home/rakova/project/multi_musegan/musegan/musegan/utils/metrics.py:94: RuntimeWarning: invalid value encountered in true_divide\n",
      "  chroma1 = chroma1 / np.sum(chroma1)\n",
      "/home/rakova/project/multi_musegan/musegan/musegan/utils/metrics.py:94: RuntimeWarning: invalid value encountered in true_divide\n",
      "  chroma1 = chroma1 / np.sum(chroma1)\n",
      "/home/rakova/project/multi_musegan/musegan/musegan/utils/metrics.py:96: RuntimeWarning: invalid value encountered in true_divide\n",
      "  chroma2 = chroma2 / np.sum(chroma2)\n",
      "/home/rakova/project/multi_musegan/musegan/musegan/utils/metrics.py:96: RuntimeWarning: invalid value encountered in true_divide\n",
      "  chroma2 = chroma2 / np.sum(chroma2)\n",
      "/home/rakova/project/multi_musegan/musegan/musegan/utils/metrics.py:94: RuntimeWarning: invalid value encountered in true_divide\n",
      "  chroma1 = chroma1 / np.sum(chroma1)\n",
      "/home/rakova/project/multi_musegan/musegan/musegan/utils/metrics.py:94: RuntimeWarning: invalid value encountered in true_divide\n",
      "  chroma1 = chroma1 / np.sum(chroma1)\n",
      "/home/rakova/project/multi_musegan/musegan/musegan/utils/metrics.py:96: RuntimeWarning: invalid value encountered in true_divide\n",
      "  chroma2 = chroma2 / np.sum(chroma2)\n"
     ]
    },
    {
     "name": "stdout",
     "output_type": "stream",
     "text": [
      "   2  |  165/ 273 |   1.46 |      64.319839 |     -15.300310 |      0.214993 |          0.881 |\n",
      "   2  |  166/ 273 |   1.46 |      59.444401 |      -6.976290 |      0.193589 |          1.217 |\n",
      "   2  |  167/ 273 |   1.45 |      64.730530 |      -9.864292 |      0.387895 |          1.512 |\n",
      "   2  |  168/ 273 |   1.45 |      61.733612 |     -14.384524 |      0.277558 |          1.048 |\n",
      "   2  |  169/ 273 |   1.46 |      57.144924 |     -13.762145 |      0.918305 |          1.707 |\n",
      "   2  |  170/ 273 |   1.46 |      64.815277 |      -3.494936 |      0.107148 |          1.343 |\n",
      "   2  |  171/ 273 |   1.45 |      69.127029 |     -14.903329 |      0.146505 |          1.561 |\n",
      "   2  |  172/ 273 |   1.45 |      60.542809 |     -15.667627 |      0.206527 |          1.095 |\n",
      "   2  |  173/ 273 |   1.45 |      58.093391 |      -2.691715 |      0.596624 |          1.320 |\n",
      "   2  |  174/ 273 |   1.45 |      63.327595 |      -5.422480 |      0.268774 |          1.327 |\n"
     ]
    },
    {
     "name": "stderr",
     "output_type": "stream",
     "text": [
      "/home/rakova/project/multi_musegan/musegan/musegan/utils/metrics.py:94: RuntimeWarning: invalid value encountered in true_divide\n",
      "  chroma1 = chroma1 / np.sum(chroma1)\n",
      "/home/rakova/project/multi_musegan/musegan/musegan/utils/metrics.py:96: RuntimeWarning: invalid value encountered in true_divide\n",
      "  chroma2 = chroma2 / np.sum(chroma2)\n",
      "/home/rakova/project/multi_musegan/musegan/musegan/utils/metrics.py:94: RuntimeWarning: invalid value encountered in true_divide\n",
      "  chroma1 = chroma1 / np.sum(chroma1)\n",
      "/home/rakova/project/multi_musegan/musegan/musegan/utils/metrics.py:96: RuntimeWarning: invalid value encountered in true_divide\n",
      "  chroma2 = chroma2 / np.sum(chroma2)\n",
      "/home/rakova/project/multi_musegan/musegan/musegan/utils/metrics.py:94: RuntimeWarning: invalid value encountered in true_divide\n",
      "  chroma1 = chroma1 / np.sum(chroma1)\n",
      "/home/rakova/project/multi_musegan/musegan/musegan/utils/metrics.py:96: RuntimeWarning: invalid value encountered in true_divide\n",
      "  chroma2 = chroma2 / np.sum(chroma2)\n",
      "/home/rakova/project/multi_musegan/musegan/musegan/utils/metrics.py:94: RuntimeWarning: invalid value encountered in true_divide\n",
      "  chroma1 = chroma1 / np.sum(chroma1)\n",
      "/home/rakova/project/multi_musegan/musegan/musegan/utils/metrics.py:96: RuntimeWarning: invalid value encountered in true_divide\n",
      "  chroma2 = chroma2 / np.sum(chroma2)\n"
     ]
    },
    {
     "name": "stdout",
     "output_type": "stream",
     "text": [
      "   2  |  175/ 273 |   1.45 |      61.106724 |      -8.945161 |      0.271897 |          1.098 |\n",
      "   2  |  176/ 273 |   1.46 |      56.817963 |      -4.589663 |      0.174283 |          1.021 |\n",
      "   2  |  177/ 273 |   1.46 |      64.404465 |      -8.811819 |      0.134238 |          1.076 |\n",
      "   2  |  178/ 273 |   1.45 |      58.731403 |     -13.179138 |      0.203004 |          1.156 |\n",
      "   2  |  179/ 273 |   1.45 |      65.117172 |     -13.926026 |      0.364711 |          1.311 |\n",
      "   2  |  180/ 273 |   1.45 |      64.090179 |      -4.528435 |      0.462850 |          0.947 |\n",
      "   2  |  181/ 273 |   1.45 |      69.745132 |     -13.002584 |      1.092428 |          2.103 |\n",
      "   2  |  182/ 273 |   1.45 |      58.128265 |      -9.108363 |      0.174693 |          1.351 |\n",
      "   2  |  183/ 273 |   1.45 |      65.059006 |     -19.941275 |      0.318035 |          1.493 |\n",
      "   2  |  184/ 273 |   1.45 |      62.772964 |     -12.012251 |      0.112767 |          1.155 |\n"
     ]
    },
    {
     "name": "stderr",
     "output_type": "stream",
     "text": [
      "/home/rakova/project/multi_musegan/musegan/musegan/utils/metrics.py:94: RuntimeWarning: invalid value encountered in true_divide\n",
      "  chroma1 = chroma1 / np.sum(chroma1)\n",
      "/home/rakova/project/multi_musegan/musegan/musegan/utils/metrics.py:96: RuntimeWarning: invalid value encountered in true_divide\n",
      "  chroma2 = chroma2 / np.sum(chroma2)\n",
      "/home/rakova/project/multi_musegan/musegan/musegan/utils/metrics.py:94: RuntimeWarning: invalid value encountered in true_divide\n",
      "  chroma1 = chroma1 / np.sum(chroma1)\n",
      "/home/rakova/project/multi_musegan/musegan/musegan/utils/metrics.py:96: RuntimeWarning: invalid value encountered in true_divide\n",
      "  chroma2 = chroma2 / np.sum(chroma2)\n",
      "/home/rakova/project/multi_musegan/musegan/musegan/utils/metrics.py:94: RuntimeWarning: invalid value encountered in true_divide\n",
      "  chroma1 = chroma1 / np.sum(chroma1)\n",
      "/home/rakova/project/multi_musegan/musegan/musegan/utils/metrics.py:96: RuntimeWarning: invalid value encountered in true_divide\n",
      "  chroma2 = chroma2 / np.sum(chroma2)\n",
      "/home/rakova/project/multi_musegan/musegan/musegan/utils/metrics.py:94: RuntimeWarning: invalid value encountered in true_divide\n",
      "  chroma1 = chroma1 / np.sum(chroma1)\n",
      "/home/rakova/project/multi_musegan/musegan/musegan/utils/metrics.py:96: RuntimeWarning: invalid value encountered in true_divide\n",
      "  chroma2 = chroma2 / np.sum(chroma2)\n"
     ]
    },
    {
     "name": "stdout",
     "output_type": "stream",
     "text": [
      "   2  |  185/ 273 |   1.45 |      64.077988 |     -10.011906 |      0.234833 |          1.255 |\n",
      "   2  |  186/ 273 |   1.45 |      58.340153 |     -11.512196 |      0.325694 |          1.387 |\n",
      "   2  |  187/ 273 |   1.45 |      71.797699 |     -24.421171 |      0.113725 |          0.926 |\n",
      "   2  |  188/ 273 |   1.46 |      71.381454 |      -6.180248 |      0.196292 |          1.103 |\n",
      "   2  |  189/ 273 |   1.45 |      61.977036 |      -9.852961 |      0.227873 |          0.903 |\n",
      "   2  |  190/ 273 |   1.45 |      56.341278 |      -7.074089 |      0.242707 |          1.068 |\n",
      "   2  |  191/ 273 |   1.45 |      61.895222 |     -12.423532 |      0.526984 |          1.263 |\n",
      "   2  |  192/ 273 |   1.46 |      61.985485 |     -17.091711 |      0.394359 |          0.884 |\n",
      "   2  |  193/ 273 |   1.46 |      62.976116 |     -20.431358 |      0.407104 |          0.878 |\n",
      "   2  |  194/ 273 |   1.46 |      61.584045 |      -9.958724 |      0.264728 |          0.898 |\n"
     ]
    },
    {
     "name": "stderr",
     "output_type": "stream",
     "text": [
      "/home/rakova/project/multi_musegan/musegan/musegan/utils/metrics.py:94: RuntimeWarning: invalid value encountered in true_divide\n",
      "  chroma1 = chroma1 / np.sum(chroma1)\n",
      "/home/rakova/project/multi_musegan/musegan/musegan/utils/metrics.py:96: RuntimeWarning: invalid value encountered in true_divide\n",
      "  chroma2 = chroma2 / np.sum(chroma2)\n",
      "/home/rakova/project/multi_musegan/musegan/musegan/utils/metrics.py:94: RuntimeWarning: invalid value encountered in true_divide\n",
      "  chroma1 = chroma1 / np.sum(chroma1)\n",
      "/home/rakova/project/multi_musegan/musegan/musegan/utils/metrics.py:96: RuntimeWarning: invalid value encountered in true_divide\n",
      "  chroma2 = chroma2 / np.sum(chroma2)\n",
      "/home/rakova/project/multi_musegan/musegan/musegan/utils/metrics.py:94: RuntimeWarning: invalid value encountered in true_divide\n",
      "  chroma1 = chroma1 / np.sum(chroma1)\n",
      "/home/rakova/project/multi_musegan/musegan/musegan/utils/metrics.py:96: RuntimeWarning: invalid value encountered in true_divide\n",
      "  chroma2 = chroma2 / np.sum(chroma2)\n",
      "/home/rakova/project/multi_musegan/musegan/musegan/utils/metrics.py:94: RuntimeWarning: invalid value encountered in true_divide\n",
      "  chroma1 = chroma1 / np.sum(chroma1)\n",
      "/home/rakova/project/multi_musegan/musegan/musegan/utils/metrics.py:96: RuntimeWarning: invalid value encountered in true_divide\n",
      "  chroma2 = chroma2 / np.sum(chroma2)\n"
     ]
    },
    {
     "name": "stdout",
     "output_type": "stream",
     "text": [
      "   2  |  195/ 273 |   1.45 |      66.232712 |      -2.493612 |      0.200686 |          1.092 |\n",
      "   2  |  196/ 273 |   1.46 |      66.030693 |      -5.819663 |      0.335925 |          0.889 |\n",
      "   2  |  197/ 273 |   1.46 |      61.865799 |      -8.295541 |      2.004531 |          2.563 |\n",
      "   2  |  198/ 273 |   1.46 |      56.203358 |      -9.283976 |      0.205632 |          1.654 |\n",
      "   2  |  199/ 273 |   1.45 |      61.967396 |      -3.823490 |      0.236137 |          1.714 |\n",
      "   2  |  200/ 273 |   1.46 |      64.692734 |     -22.878263 |      1.772339 |          4.009 |\n",
      "   2  |  201/ 273 |   1.45 |      68.486694 |      -6.117904 |      0.736925 |          1.329 |\n",
      "   2  |  202/ 273 |   1.46 |      60.610741 |      -2.045548 |      0.170993 |          1.203 |\n",
      "   2  |  203/ 273 |   1.45 |      56.390781 |      -5.123774 |      0.333372 |          0.977 |\n",
      "   2  |  204/ 273 |   1.45 |      65.627258 |      -9.978994 |      0.141189 |          1.376 |\n"
     ]
    },
    {
     "name": "stderr",
     "output_type": "stream",
     "text": [
      "/home/rakova/project/multi_musegan/musegan/musegan/utils/metrics.py:96: RuntimeWarning: invalid value encountered in true_divide\n",
      "  chroma2 = chroma2 / np.sum(chroma2)\n",
      "/home/rakova/project/multi_musegan/musegan/musegan/utils/metrics.py:94: RuntimeWarning: invalid value encountered in true_divide\n",
      "  chroma1 = chroma1 / np.sum(chroma1)\n",
      "/home/rakova/project/multi_musegan/musegan/musegan/utils/metrics.py:94: RuntimeWarning: invalid value encountered in true_divide\n",
      "  chroma1 = chroma1 / np.sum(chroma1)\n",
      "/home/rakova/project/multi_musegan/musegan/musegan/utils/metrics.py:96: RuntimeWarning: invalid value encountered in true_divide\n",
      "  chroma2 = chroma2 / np.sum(chroma2)\n",
      "/home/rakova/project/multi_musegan/musegan/musegan/utils/metrics.py:94: RuntimeWarning: invalid value encountered in true_divide\n",
      "  chroma1 = chroma1 / np.sum(chroma1)\n",
      "/home/rakova/project/multi_musegan/musegan/musegan/utils/metrics.py:96: RuntimeWarning: invalid value encountered in true_divide\n",
      "  chroma2 = chroma2 / np.sum(chroma2)\n",
      "/home/rakova/project/multi_musegan/musegan/musegan/utils/metrics.py:94: RuntimeWarning: invalid value encountered in true_divide\n",
      "  chroma1 = chroma1 / np.sum(chroma1)\n",
      "/home/rakova/project/multi_musegan/musegan/musegan/utils/metrics.py:96: RuntimeWarning: invalid value encountered in true_divide\n",
      "  chroma2 = chroma2 / np.sum(chroma2)\n"
     ]
    },
    {
     "name": "stdout",
     "output_type": "stream",
     "text": [
      "   2  |  205/ 273 |   1.45 |      62.373127 |     -13.507082 |      0.228627 |          0.996 |\n",
      "   2  |  206/ 273 |   1.46 |      78.003662 |     -23.557713 |      0.429471 |          1.373 |\n",
      "   2  |  207/ 273 |   1.45 |      64.893265 |      -9.650642 |      0.264369 |          0.983 |\n",
      "   2  |  208/ 273 |   1.46 |      61.045658 |      -6.214833 |      0.183959 |          1.064 |\n",
      "   2  |  209/ 273 |   1.46 |      57.532005 |      -5.667290 |      0.091463 |          1.420 |\n",
      "   2  |  210/ 273 |   1.46 |      61.469612 |     -12.318605 |      0.344380 |          1.383 |\n",
      "   2  |  211/ 273 |   1.45 |      60.791458 |      -3.305383 |      0.191938 |          1.572 |\n",
      "   2  |  212/ 273 |   1.45 |      68.021439 |     -12.409503 |      0.150094 |          1.787 |\n",
      "   2  |  213/ 273 |   1.45 |      61.075867 |     -14.114377 |      0.270679 |          1.777 |\n",
      "   2  |  214/ 273 |   1.46 |      68.814049 |     -13.682040 |      0.196857 |          1.699 |\n"
     ]
    },
    {
     "name": "stderr",
     "output_type": "stream",
     "text": [
      "/home/rakova/project/multi_musegan/musegan/musegan/utils/metrics.py:96: RuntimeWarning: invalid value encountered in true_divide\n",
      "  chroma2 = chroma2 / np.sum(chroma2)\n",
      "/home/rakova/project/multi_musegan/musegan/musegan/utils/metrics.py:94: RuntimeWarning: invalid value encountered in true_divide\n",
      "  chroma1 = chroma1 / np.sum(chroma1)\n",
      "/home/rakova/project/multi_musegan/musegan/musegan/utils/metrics.py:94: RuntimeWarning: invalid value encountered in true_divide\n",
      "  chroma1 = chroma1 / np.sum(chroma1)\n",
      "/home/rakova/project/multi_musegan/musegan/musegan/utils/metrics.py:96: RuntimeWarning: invalid value encountered in true_divide\n",
      "  chroma2 = chroma2 / np.sum(chroma2)\n",
      "/home/rakova/project/multi_musegan/musegan/musegan/utils/metrics.py:94: RuntimeWarning: invalid value encountered in true_divide\n",
      "  chroma1 = chroma1 / np.sum(chroma1)\n",
      "/home/rakova/project/multi_musegan/musegan/musegan/utils/metrics.py:96: RuntimeWarning: invalid value encountered in true_divide\n",
      "  chroma2 = chroma2 / np.sum(chroma2)\n",
      "/home/rakova/project/multi_musegan/musegan/musegan/utils/metrics.py:94: RuntimeWarning: invalid value encountered in true_divide\n",
      "  chroma1 = chroma1 / np.sum(chroma1)\n",
      "/home/rakova/project/multi_musegan/musegan/musegan/utils/metrics.py:96: RuntimeWarning: invalid value encountered in true_divide\n",
      "  chroma2 = chroma2 / np.sum(chroma2)\n"
     ]
    },
    {
     "name": "stdout",
     "output_type": "stream",
     "text": [
      "   2  |  215/ 273 |   1.46 |      63.742668 |     -13.015909 |      0.340144 |          1.810 |\n",
      "   2  |  216/ 273 |   1.46 |      68.454773 |     -11.613940 |      0.372388 |          1.024 |\n",
      "   2  |  217/ 273 |   1.45 |      62.110996 |     -19.357893 |      0.247618 |          1.498 |\n",
      "   2  |  218/ 273 |   1.45 |      61.430428 |     -17.117529 |      0.302291 |          1.280 |\n",
      "   2  |  219/ 273 |   1.46 |      64.128616 |     -13.810952 |      0.819108 |          1.433 |\n",
      "   2  |  220/ 273 |   1.45 |      65.136337 |      -1.719328 |      0.535852 |          1.350 |\n",
      "   2  |  221/ 273 |   1.45 |      67.925323 |     -15.211061 |      0.215011 |          1.135 |\n",
      "   2  |  222/ 273 |   1.46 |      58.446060 |     -18.536158 |      0.221924 |          1.246 |\n",
      "   2  |  223/ 273 |   1.46 |      75.351151 |     -20.971191 |      0.094497 |          1.093 |\n",
      "   2  |  224/ 273 |   1.45 |      62.601067 |     -12.957035 |      0.392790 |          1.142 |\n"
     ]
    },
    {
     "name": "stderr",
     "output_type": "stream",
     "text": [
      "/home/rakova/project/multi_musegan/musegan/musegan/utils/metrics.py:96: RuntimeWarning: invalid value encountered in true_divide\n",
      "  chroma2 = chroma2 / np.sum(chroma2)\n",
      "/home/rakova/project/multi_musegan/musegan/musegan/utils/metrics.py:94: RuntimeWarning: invalid value encountered in true_divide\n",
      "  chroma1 = chroma1 / np.sum(chroma1)\n",
      "/home/rakova/project/multi_musegan/musegan/musegan/utils/metrics.py:96: RuntimeWarning: invalid value encountered in true_divide\n",
      "  chroma2 = chroma2 / np.sum(chroma2)\n",
      "/home/rakova/project/multi_musegan/musegan/musegan/utils/metrics.py:94: RuntimeWarning: invalid value encountered in true_divide\n",
      "  chroma1 = chroma1 / np.sum(chroma1)\n",
      "/home/rakova/project/multi_musegan/musegan/musegan/utils/metrics.py:96: RuntimeWarning: invalid value encountered in true_divide\n",
      "  chroma2 = chroma2 / np.sum(chroma2)\n",
      "/home/rakova/project/multi_musegan/musegan/musegan/utils/metrics.py:94: RuntimeWarning: invalid value encountered in true_divide\n",
      "  chroma1 = chroma1 / np.sum(chroma1)\n",
      "/home/rakova/project/multi_musegan/musegan/musegan/utils/metrics.py:96: RuntimeWarning: invalid value encountered in true_divide\n",
      "  chroma2 = chroma2 / np.sum(chroma2)\n",
      "/home/rakova/project/multi_musegan/musegan/musegan/utils/metrics.py:94: RuntimeWarning: invalid value encountered in true_divide\n",
      "  chroma1 = chroma1 / np.sum(chroma1)\n"
     ]
    },
    {
     "name": "stdout",
     "output_type": "stream",
     "text": [
      "   2  |  225/ 273 |   1.45 |      57.870575 |      -0.252040 |      0.225878 |          1.026 |\n",
      "   2  |  226/ 273 |   1.46 |      56.064457 |      -7.650178 |      0.412347 |          1.315 |\n",
      "   2  |  227/ 273 |   1.46 |      60.989521 |      -3.404260 |      0.297417 |          1.121 |\n",
      "   2  |  228/ 273 |   1.45 |      55.882854 |      -8.520887 |      0.456885 |          0.969 |\n",
      "   2  |  229/ 273 |   1.46 |      66.104706 |     -15.475163 |      0.608082 |          1.511 |\n",
      "   2  |  230/ 273 |   1.46 |      66.810867 |      -9.993717 |      0.278774 |          0.899 |\n",
      "   2  |  231/ 273 |   1.45 |      71.655411 |     -21.671555 |      0.226360 |          1.445 |\n",
      "   2  |  232/ 273 |   1.46 |      58.047825 |     -15.884186 |      0.283720 |          1.081 |\n",
      "   2  |  233/ 273 |   1.45 |      65.076035 |     -10.152502 |      0.499736 |          0.973 |\n",
      "   2  |  234/ 273 |   1.46 |      56.326195 |      -7.558685 |      0.534625 |          0.818 |\n"
     ]
    },
    {
     "name": "stderr",
     "output_type": "stream",
     "text": [
      "/home/rakova/project/multi_musegan/musegan/musegan/utils/metrics.py:94: RuntimeWarning: invalid value encountered in true_divide\n",
      "  chroma1 = chroma1 / np.sum(chroma1)\n",
      "/home/rakova/project/multi_musegan/musegan/musegan/utils/metrics.py:96: RuntimeWarning: invalid value encountered in true_divide\n",
      "  chroma2 = chroma2 / np.sum(chroma2)\n",
      "/home/rakova/project/multi_musegan/musegan/musegan/utils/metrics.py:94: RuntimeWarning: invalid value encountered in true_divide\n",
      "  chroma1 = chroma1 / np.sum(chroma1)\n",
      "/home/rakova/project/multi_musegan/musegan/musegan/utils/metrics.py:96: RuntimeWarning: invalid value encountered in true_divide\n",
      "  chroma2 = chroma2 / np.sum(chroma2)\n",
      "/home/rakova/project/multi_musegan/musegan/musegan/utils/metrics.py:94: RuntimeWarning: invalid value encountered in true_divide\n",
      "  chroma1 = chroma1 / np.sum(chroma1)\n",
      "/home/rakova/project/multi_musegan/musegan/musegan/utils/metrics.py:96: RuntimeWarning: invalid value encountered in true_divide\n",
      "  chroma2 = chroma2 / np.sum(chroma2)\n",
      "/home/rakova/project/multi_musegan/musegan/musegan/utils/metrics.py:94: RuntimeWarning: invalid value encountered in true_divide\n",
      "  chroma1 = chroma1 / np.sum(chroma1)\n",
      "/home/rakova/project/multi_musegan/musegan/musegan/utils/metrics.py:96: RuntimeWarning: invalid value encountered in true_divide\n",
      "  chroma2 = chroma2 / np.sum(chroma2)\n"
     ]
    },
    {
     "name": "stdout",
     "output_type": "stream",
     "text": [
      "   2  |  235/ 273 |   1.45 |      62.169598 |      -3.427250 |      0.650673 |          1.490 |\n",
      "   2  |  236/ 273 |   1.46 |      61.783184 |     -18.470161 |      0.323453 |          1.000 |\n",
      "   2  |  237/ 273 |   1.45 |      63.131119 |     -18.916267 |      0.431566 |          1.471 |\n",
      "   2  |  238/ 273 |   1.45 |      64.464249 |     -16.242350 |      0.157985 |          1.560 |\n",
      "   2  |  239/ 273 |   1.45 |      60.761555 |      -8.761479 |      0.407701 |          1.216 |\n",
      "   2  |  240/ 273 |   1.46 |      64.784004 |      -9.871853 |      0.406317 |          1.130 |\n",
      "   2  |  241/ 273 |   1.45 |      63.499825 |     -14.838757 |      0.179256 |          1.070 |\n",
      "   2  |  242/ 273 |   1.45 |      54.818737 |     -10.134197 |      0.301993 |          1.016 |\n",
      "   2  |  243/ 273 |   1.45 |      61.339386 |     -10.911985 |      0.306361 |          1.063 |\n",
      "   2  |  244/ 273 |   1.45 |      65.366379 |     -11.324256 |      0.303693 |          1.174 |\n"
     ]
    },
    {
     "name": "stderr",
     "output_type": "stream",
     "text": [
      "/home/rakova/project/multi_musegan/musegan/musegan/utils/metrics.py:96: RuntimeWarning: invalid value encountered in true_divide\n",
      "  chroma2 = chroma2 / np.sum(chroma2)\n",
      "/home/rakova/project/multi_musegan/musegan/musegan/utils/metrics.py:94: RuntimeWarning: invalid value encountered in true_divide\n",
      "  chroma1 = chroma1 / np.sum(chroma1)\n",
      "/home/rakova/project/multi_musegan/musegan/musegan/utils/metrics.py:96: RuntimeWarning: invalid value encountered in true_divide\n",
      "  chroma2 = chroma2 / np.sum(chroma2)\n",
      "/home/rakova/project/multi_musegan/musegan/musegan/utils/metrics.py:94: RuntimeWarning: invalid value encountered in true_divide\n",
      "  chroma1 = chroma1 / np.sum(chroma1)\n",
      "/home/rakova/project/multi_musegan/musegan/musegan/utils/metrics.py:96: RuntimeWarning: invalid value encountered in true_divide\n",
      "  chroma2 = chroma2 / np.sum(chroma2)\n",
      "/home/rakova/project/multi_musegan/musegan/musegan/utils/metrics.py:94: RuntimeWarning: invalid value encountered in true_divide\n",
      "  chroma1 = chroma1 / np.sum(chroma1)\n",
      "/home/rakova/project/multi_musegan/musegan/musegan/utils/metrics.py:96: RuntimeWarning: invalid value encountered in true_divide\n",
      "  chroma2 = chroma2 / np.sum(chroma2)\n",
      "/home/rakova/project/multi_musegan/musegan/musegan/utils/metrics.py:94: RuntimeWarning: invalid value encountered in true_divide\n",
      "  chroma1 = chroma1 / np.sum(chroma1)\n"
     ]
    },
    {
     "name": "stdout",
     "output_type": "stream",
     "text": [
      "   2  |  245/ 273 |   1.46 |      69.328171 |     -16.004238 |      0.154938 |          1.058 |\n",
      "   2  |  246/ 273 |   1.45 |      62.482933 |      -0.063722 |      0.243491 |          0.995 |\n",
      "   2  |  247/ 273 |   1.45 |      64.183296 |     -14.239285 |      0.307355 |          1.007 |\n",
      "   2  |  248/ 273 |   1.45 |      57.797848 |      -6.074269 |      0.276514 |          1.132 |\n",
      "   2  |  249/ 273 |   1.45 |      67.403748 |     -12.793165 |      0.191384 |          1.236 |\n",
      "   2  |  250/ 273 |   1.46 |      62.470592 |      -4.305416 |      0.377624 |          1.100 |\n",
      "   2  |  251/ 273 |   1.45 |      59.332703 |      -6.487517 |      0.401193 |          0.962 |\n",
      "   2  |  252/ 273 |   1.45 |      59.572826 |      -9.009436 |      0.371093 |          1.159 |\n",
      "   2  |  253/ 273 |   1.46 |      68.696487 |      -9.501329 |      0.157714 |          0.893 |\n",
      "   2  |  254/ 273 |   1.46 |      61.395588 |      -5.678560 |      0.412331 |          1.219 |\n"
     ]
    },
    {
     "name": "stderr",
     "output_type": "stream",
     "text": [
      "/home/rakova/project/multi_musegan/musegan/musegan/utils/metrics.py:96: RuntimeWarning: invalid value encountered in true_divide\n",
      "  chroma2 = chroma2 / np.sum(chroma2)\n",
      "/home/rakova/project/multi_musegan/musegan/musegan/utils/metrics.py:94: RuntimeWarning: invalid value encountered in true_divide\n",
      "  chroma1 = chroma1 / np.sum(chroma1)\n",
      "/home/rakova/project/multi_musegan/musegan/musegan/utils/metrics.py:96: RuntimeWarning: invalid value encountered in true_divide\n",
      "  chroma2 = chroma2 / np.sum(chroma2)\n",
      "/home/rakova/project/multi_musegan/musegan/musegan/utils/metrics.py:94: RuntimeWarning: invalid value encountered in true_divide\n",
      "  chroma1 = chroma1 / np.sum(chroma1)\n",
      "/home/rakova/project/multi_musegan/musegan/musegan/utils/metrics.py:96: RuntimeWarning: invalid value encountered in true_divide\n",
      "  chroma2 = chroma2 / np.sum(chroma2)\n",
      "/home/rakova/project/multi_musegan/musegan/musegan/utils/metrics.py:94: RuntimeWarning: invalid value encountered in true_divide\n",
      "  chroma1 = chroma1 / np.sum(chroma1)\n",
      "/home/rakova/project/multi_musegan/musegan/musegan/utils/metrics.py:94: RuntimeWarning: invalid value encountered in true_divide\n",
      "  chroma1 = chroma1 / np.sum(chroma1)\n",
      "/home/rakova/project/multi_musegan/musegan/musegan/utils/metrics.py:96: RuntimeWarning: invalid value encountered in true_divide\n",
      "  chroma2 = chroma2 / np.sum(chroma2)\n"
     ]
    },
    {
     "name": "stdout",
     "output_type": "stream",
     "text": [
      "   2  |  255/ 273 |   1.45 |      65.256165 |      -7.919517 |      0.132581 |          1.002 |\n",
      "   2  |  256/ 273 |   1.45 |      61.337303 |     -12.001197 |      0.151019 |          0.989 |\n",
      "   2  |  257/ 273 |   1.45 |      66.551193 |     -17.765184 |      0.706898 |          2.356 |\n",
      "   2  |  258/ 273 |   1.46 |      65.792114 |      -1.921095 |      0.225909 |          1.041 |\n",
      "   2  |  259/ 273 |   1.45 |      64.404633 |      -9.345487 |      1.085663 |          1.297 |\n",
      "   2  |  260/ 273 |   1.45 |      66.805786 |     -12.121306 |      0.609531 |          2.782 |\n",
      "   2  |  261/ 273 |   1.45 |      61.461491 |     -12.434142 |      0.302446 |          0.919 |\n",
      "   2  |  262/ 273 |   1.46 |      58.129196 |      -1.800228 |      0.340611 |          1.164 |\n",
      "   2  |  263/ 273 |   1.46 |      62.883156 |     -17.156145 |      0.188826 |          1.369 |\n",
      "   2  |  264/ 273 |   1.45 |      72.400154 |     -19.752651 |      0.256603 |          1.525 |\n"
     ]
    },
    {
     "name": "stderr",
     "output_type": "stream",
     "text": [
      "/home/rakova/project/multi_musegan/musegan/musegan/utils/metrics.py:96: RuntimeWarning: invalid value encountered in true_divide\n",
      "  chroma2 = chroma2 / np.sum(chroma2)\n",
      "/home/rakova/project/multi_musegan/musegan/musegan/utils/metrics.py:94: RuntimeWarning: invalid value encountered in true_divide\n",
      "  chroma1 = chroma1 / np.sum(chroma1)\n",
      "/home/rakova/project/multi_musegan/musegan/musegan/utils/metrics.py:96: RuntimeWarning: invalid value encountered in true_divide\n",
      "  chroma2 = chroma2 / np.sum(chroma2)\n",
      "/home/rakova/project/multi_musegan/musegan/musegan/utils/metrics.py:94: RuntimeWarning: invalid value encountered in true_divide\n",
      "  chroma1 = chroma1 / np.sum(chroma1)\n",
      "/home/rakova/project/multi_musegan/musegan/musegan/utils/metrics.py:96: RuntimeWarning: invalid value encountered in true_divide\n",
      "  chroma2 = chroma2 / np.sum(chroma2)\n",
      "/home/rakova/project/multi_musegan/musegan/musegan/utils/metrics.py:94: RuntimeWarning: invalid value encountered in true_divide\n",
      "  chroma1 = chroma1 / np.sum(chroma1)\n",
      "/home/rakova/project/multi_musegan/musegan/musegan/utils/metrics.py:96: RuntimeWarning: invalid value encountered in true_divide\n",
      "  chroma2 = chroma2 / np.sum(chroma2)\n",
      "/home/rakova/project/multi_musegan/musegan/musegan/utils/metrics.py:94: RuntimeWarning: invalid value encountered in true_divide\n",
      "  chroma1 = chroma1 / np.sum(chroma1)\n"
     ]
    },
    {
     "name": "stdout",
     "output_type": "stream",
     "text": [
      "   2  |  265/ 273 |   1.46 |      66.395432 |      -6.186013 |      0.840185 |          1.528 |\n",
      "   2  |  266/ 273 |   1.45 |      69.862663 |       1.506579 |      0.810321 |          1.448 |\n",
      "   2  |  267/ 273 |   1.45 |      62.464863 |       1.367893 |      0.239953 |          0.925 |\n",
      "   2  |  268/ 273 |   1.45 |      61.322792 |     -12.389035 |      0.216351 |          0.919 |\n",
      "   2  |  269/ 273 |   1.45 |      59.144989 |     -12.507414 |      0.630612 |          1.547 |\n",
      "   2  |  270/ 273 |   1.45 |      77.371094 |     -21.069853 |      1.094686 |          2.522 |\n",
      "   2  |  271/ 273 |   1.45 |      71.526512 |     -11.788798 |      0.268053 |          1.192 |\n",
      "   2  |  272/ 273 |   1.46 |      66.782547 |     -10.974529 |      0.220393 |          1.168 |\n",
      "[*] Saving checkpoint...\n",
      "-------------------------------- Epoch 3 Start ---------------------------------\n",
      "epoch |   batch   |  time  |    - D_loss    |     G_loss    |  CrossEntr  | CrossEntrTest\n",
      "   3  |    0/ 273 |   1.47 |      68.772179 |     -12.732367 |      0.165269 |          1.101 |\n",
      "   3  |    1/ 273 |   1.45 |      61.560570 |      -5.911599 |      0.367147 |          1.375 |\n"
     ]
    },
    {
     "name": "stderr",
     "output_type": "stream",
     "text": [
      "/home/rakova/project/multi_musegan/musegan/musegan/utils/metrics.py:94: RuntimeWarning: invalid value encountered in true_divide\n",
      "  chroma1 = chroma1 / np.sum(chroma1)\n",
      "/home/rakova/project/multi_musegan/musegan/musegan/utils/metrics.py:96: RuntimeWarning: invalid value encountered in true_divide\n",
      "  chroma2 = chroma2 / np.sum(chroma2)\n",
      "/home/rakova/project/multi_musegan/musegan/musegan/utils/metrics.py:94: RuntimeWarning: invalid value encountered in true_divide\n",
      "  chroma1 = chroma1 / np.sum(chroma1)\n",
      "/home/rakova/project/multi_musegan/musegan/musegan/utils/metrics.py:96: RuntimeWarning: invalid value encountered in true_divide\n",
      "  chroma2 = chroma2 / np.sum(chroma2)\n",
      "/home/rakova/project/multi_musegan/musegan/musegan/utils/metrics.py:96: RuntimeWarning: invalid value encountered in true_divide\n",
      "  chroma2 = chroma2 / np.sum(chroma2)\n",
      "/home/rakova/project/multi_musegan/musegan/musegan/utils/metrics.py:94: RuntimeWarning: invalid value encountered in true_divide\n",
      "  chroma1 = chroma1 / np.sum(chroma1)\n",
      "/home/rakova/project/multi_musegan/musegan/musegan/utils/metrics.py:94: RuntimeWarning: invalid value encountered in true_divide\n",
      "  chroma1 = chroma1 / np.sum(chroma1)\n",
      "/home/rakova/project/multi_musegan/musegan/musegan/utils/metrics.py:96: RuntimeWarning: invalid value encountered in true_divide\n",
      "  chroma2 = chroma2 / np.sum(chroma2)\n"
     ]
    },
    {
     "name": "stdout",
     "output_type": "stream",
     "text": [
      "   3  |    2/ 273 |   1.45 |      71.447220 |     -10.578098 |      0.213607 |          1.724 |\n",
      "   3  |    3/ 273 |   1.45 |      68.094902 |      -8.777557 |      0.243215 |          1.859 |\n",
      "   3  |    4/ 273 |   1.45 |      54.703686 |     -10.229269 |      0.173042 |          1.136 |\n",
      "   3  |    5/ 273 |   1.45 |      53.869461 |      -8.115902 |      0.475062 |          2.294 |\n",
      "   3  |    6/ 273 |   1.46 |      60.042435 |     -13.023688 |      0.216487 |          1.092 |\n",
      "   3  |    7/ 273 |   1.45 |      55.786194 |     -19.434231 |      0.214720 |          1.334 |\n",
      "   3  |    8/ 273 |   1.45 |      64.763947 |      -4.988481 |      0.236761 |          1.050 |\n",
      "   3  |    9/ 273 |   1.45 |      73.766396 |      -9.269975 |      0.149358 |          1.489 |\n",
      "   3  |   10/ 273 |   1.45 |      64.254219 |      -8.043932 |      0.606175 |          1.601 |\n",
      "   3  |   11/ 273 |   1.45 |      57.098194 |     -10.563232 |      0.519273 |          1.363 |\n"
     ]
    },
    {
     "name": "stderr",
     "output_type": "stream",
     "text": [
      "/home/rakova/project/multi_musegan/musegan/musegan/utils/metrics.py:96: RuntimeWarning: invalid value encountered in true_divide\n",
      "  chroma2 = chroma2 / np.sum(chroma2)\n",
      "/home/rakova/project/multi_musegan/musegan/musegan/utils/metrics.py:94: RuntimeWarning: invalid value encountered in true_divide\n",
      "  chroma1 = chroma1 / np.sum(chroma1)\n",
      "/home/rakova/project/multi_musegan/musegan/musegan/utils/metrics.py:96: RuntimeWarning: invalid value encountered in true_divide\n",
      "  chroma2 = chroma2 / np.sum(chroma2)\n",
      "/home/rakova/project/multi_musegan/musegan/musegan/utils/metrics.py:94: RuntimeWarning: invalid value encountered in true_divide\n",
      "  chroma1 = chroma1 / np.sum(chroma1)\n",
      "/home/rakova/project/multi_musegan/musegan/musegan/utils/metrics.py:96: RuntimeWarning: invalid value encountered in true_divide\n",
      "  chroma2 = chroma2 / np.sum(chroma2)\n",
      "/home/rakova/project/multi_musegan/musegan/musegan/utils/metrics.py:94: RuntimeWarning: invalid value encountered in true_divide\n",
      "  chroma1 = chroma1 / np.sum(chroma1)\n",
      "/home/rakova/project/multi_musegan/musegan/musegan/utils/metrics.py:96: RuntimeWarning: invalid value encountered in true_divide\n",
      "  chroma2 = chroma2 / np.sum(chroma2)\n",
      "/home/rakova/project/multi_musegan/musegan/musegan/utils/metrics.py:94: RuntimeWarning: invalid value encountered in true_divide\n",
      "  chroma1 = chroma1 / np.sum(chroma1)\n"
     ]
    },
    {
     "name": "stdout",
     "output_type": "stream",
     "text": [
      "   3  |   12/ 273 |   1.45 |      70.529877 |     -10.186116 |      0.428248 |          1.582 |\n",
      "   3  |   13/ 273 |   1.45 |      58.427383 |     -10.455058 |      0.317049 |          1.160 |\n",
      "   3  |   14/ 273 |   1.45 |      70.995697 |     -13.796942 |      0.169826 |          1.292 |\n",
      "   3  |   15/ 273 |   1.45 |      57.291382 |     -17.868763 |      0.264680 |          1.101 |\n",
      "   3  |   16/ 273 |   1.45 |      60.305717 |      -6.382308 |      0.204869 |          1.106 |\n",
      "   3  |   17/ 273 |   1.45 |      58.828369 |     -10.178927 |      0.368792 |          1.848 |\n",
      "   3  |   18/ 273 |   1.45 |      67.154877 |      -9.554901 |      0.106780 |          1.383 |\n",
      "   3  |   19/ 273 |   1.45 |      61.026894 |      -3.908281 |      0.209280 |          1.330 |\n",
      "   3  |   20/ 273 |   1.46 |      60.672844 |      -6.496875 |      0.336400 |          1.346 |\n",
      "   3  |   21/ 273 |   1.45 |      64.853043 |     -16.152565 |      0.752840 |          1.824 |\n"
     ]
    },
    {
     "name": "stderr",
     "output_type": "stream",
     "text": [
      "/home/rakova/project/multi_musegan/musegan/musegan/utils/metrics.py:96: RuntimeWarning: invalid value encountered in true_divide\n",
      "  chroma2 = chroma2 / np.sum(chroma2)\n",
      "/home/rakova/project/multi_musegan/musegan/musegan/utils/metrics.py:94: RuntimeWarning: invalid value encountered in true_divide\n",
      "  chroma1 = chroma1 / np.sum(chroma1)\n",
      "/home/rakova/project/multi_musegan/musegan/musegan/utils/metrics.py:96: RuntimeWarning: invalid value encountered in true_divide\n",
      "  chroma2 = chroma2 / np.sum(chroma2)\n",
      "/home/rakova/project/multi_musegan/musegan/musegan/utils/metrics.py:94: RuntimeWarning: invalid value encountered in true_divide\n",
      "  chroma1 = chroma1 / np.sum(chroma1)\n",
      "/home/rakova/project/multi_musegan/musegan/musegan/utils/metrics.py:96: RuntimeWarning: invalid value encountered in true_divide\n",
      "  chroma2 = chroma2 / np.sum(chroma2)\n",
      "/home/rakova/project/multi_musegan/musegan/musegan/utils/metrics.py:94: RuntimeWarning: invalid value encountered in true_divide\n",
      "  chroma1 = chroma1 / np.sum(chroma1)\n",
      "/home/rakova/project/multi_musegan/musegan/musegan/utils/metrics.py:96: RuntimeWarning: invalid value encountered in true_divide\n",
      "  chroma2 = chroma2 / np.sum(chroma2)\n",
      "/home/rakova/project/multi_musegan/musegan/musegan/utils/metrics.py:94: RuntimeWarning: invalid value encountered in true_divide\n",
      "  chroma1 = chroma1 / np.sum(chroma1)\n"
     ]
    },
    {
     "name": "stdout",
     "output_type": "stream",
     "text": [
      "   3  |   22/ 273 |   1.45 |      63.737324 |      -7.052634 |      0.194060 |          1.388 |\n",
      "   3  |   23/ 273 |   1.45 |      61.400330 |      -8.270808 |      0.213123 |          1.172 |\n",
      "   3  |   24/ 273 |   1.46 |      63.417801 |     -12.980052 |      0.357877 |          1.123 |\n",
      "   3  |   25/ 273 |   1.46 |      64.241844 |     -10.997488 |      0.114619 |          1.667 |\n",
      "   3  |   26/ 273 |   1.45 |      60.971077 |      -6.356957 |      0.126303 |          1.863 |\n",
      "   3  |   27/ 273 |   1.45 |      62.385906 |     -12.755965 |      0.200470 |          1.371 |\n",
      "   3  |   28/ 273 |   1.45 |      68.493996 |     -18.796909 |      0.305042 |          1.260 |\n",
      "   3  |   29/ 273 |   1.46 |      60.597549 |     -10.751239 |      0.356070 |          1.378 |\n",
      "   3  |   30/ 273 |   1.45 |      65.172485 |     -11.453646 |      0.286847 |          1.162 |\n",
      "   3  |   31/ 273 |   1.45 |      71.271080 |     -11.671824 |      0.082025 |          1.405 |\n"
     ]
    },
    {
     "name": "stderr",
     "output_type": "stream",
     "text": [
      "/home/rakova/project/multi_musegan/musegan/musegan/utils/metrics.py:96: RuntimeWarning: invalid value encountered in true_divide\n",
      "  chroma2 = chroma2 / np.sum(chroma2)\n",
      "/home/rakova/project/multi_musegan/musegan/musegan/utils/metrics.py:94: RuntimeWarning: invalid value encountered in true_divide\n",
      "  chroma1 = chroma1 / np.sum(chroma1)\n",
      "/home/rakova/project/multi_musegan/musegan/musegan/utils/metrics.py:94: RuntimeWarning: invalid value encountered in true_divide\n",
      "  chroma1 = chroma1 / np.sum(chroma1)\n",
      "/home/rakova/project/multi_musegan/musegan/musegan/utils/metrics.py:96: RuntimeWarning: invalid value encountered in true_divide\n",
      "  chroma2 = chroma2 / np.sum(chroma2)\n",
      "/home/rakova/project/multi_musegan/musegan/musegan/utils/metrics.py:96: RuntimeWarning: invalid value encountered in true_divide\n",
      "  chroma2 = chroma2 / np.sum(chroma2)\n",
      "/home/rakova/project/multi_musegan/musegan/musegan/utils/metrics.py:94: RuntimeWarning: invalid value encountered in true_divide\n",
      "  chroma1 = chroma1 / np.sum(chroma1)\n",
      "/home/rakova/project/multi_musegan/musegan/musegan/utils/metrics.py:94: RuntimeWarning: invalid value encountered in true_divide\n",
      "  chroma1 = chroma1 / np.sum(chroma1)\n",
      "/home/rakova/project/multi_musegan/musegan/musegan/utils/metrics.py:96: RuntimeWarning: invalid value encountered in true_divide\n",
      "  chroma2 = chroma2 / np.sum(chroma2)\n"
     ]
    },
    {
     "name": "stdout",
     "output_type": "stream",
     "text": [
      "   3  |   32/ 273 |   1.45 |      57.423454 |      -5.412458 |      0.113605 |          1.900 |\n",
      "   3  |   33/ 273 |   1.45 |      57.890907 |      -6.058484 |      0.390676 |          1.305 |\n",
      "   3  |   34/ 273 |   1.45 |      60.316788 |      -6.583021 |      0.286066 |          1.270 |\n",
      "   3  |   35/ 273 |   1.45 |      62.844799 |     -12.678779 |      0.317669 |          1.140 |\n",
      "   3  |   36/ 273 |   1.45 |      56.404827 |      -9.713856 |      0.283111 |          1.168 |\n",
      "   3  |   37/ 273 |   1.45 |      59.034927 |     -13.701753 |      1.028705 |          2.867 |\n",
      "   3  |   38/ 273 |   1.45 |      67.689651 |      -7.827321 |      0.204258 |          1.621 |\n",
      "   3  |   39/ 273 |   1.45 |      64.971893 |      -5.052120 |      0.470939 |          1.611 |\n",
      "   3  |   40/ 273 |   1.45 |      59.297165 |     -19.616152 |      0.274668 |          1.447 |\n",
      "   3  |   41/ 273 |   1.45 |      54.276096 |     -11.126922 |      0.286758 |          1.249 |\n"
     ]
    },
    {
     "name": "stderr",
     "output_type": "stream",
     "text": [
      "/home/rakova/project/multi_musegan/musegan/musegan/utils/metrics.py:96: RuntimeWarning: invalid value encountered in true_divide\n",
      "  chroma2 = chroma2 / np.sum(chroma2)\n",
      "/home/rakova/project/multi_musegan/musegan/musegan/utils/metrics.py:94: RuntimeWarning: invalid value encountered in true_divide\n",
      "  chroma1 = chroma1 / np.sum(chroma1)\n",
      "/home/rakova/project/multi_musegan/musegan/musegan/utils/metrics.py:96: RuntimeWarning: invalid value encountered in true_divide\n",
      "  chroma2 = chroma2 / np.sum(chroma2)\n",
      "/home/rakova/project/multi_musegan/musegan/musegan/utils/metrics.py:94: RuntimeWarning: invalid value encountered in true_divide\n",
      "  chroma1 = chroma1 / np.sum(chroma1)\n",
      "/home/rakova/project/multi_musegan/musegan/musegan/utils/metrics.py:96: RuntimeWarning: invalid value encountered in true_divide\n",
      "  chroma2 = chroma2 / np.sum(chroma2)\n",
      "/home/rakova/project/multi_musegan/musegan/musegan/utils/metrics.py:94: RuntimeWarning: invalid value encountered in true_divide\n",
      "  chroma1 = chroma1 / np.sum(chroma1)\n",
      "/home/rakova/project/multi_musegan/musegan/musegan/utils/metrics.py:96: RuntimeWarning: invalid value encountered in true_divide\n",
      "  chroma2 = chroma2 / np.sum(chroma2)\n",
      "/home/rakova/project/multi_musegan/musegan/musegan/utils/metrics.py:94: RuntimeWarning: invalid value encountered in true_divide\n",
      "  chroma1 = chroma1 / np.sum(chroma1)\n"
     ]
    },
    {
     "name": "stdout",
     "output_type": "stream",
     "text": [
      "   3  |   42/ 273 |   1.45 |      57.454391 |     -22.380505 |      0.271461 |          1.321 |\n",
      "   3  |   43/ 273 |   1.45 |      64.647713 |     -18.242504 |      0.725738 |          1.955 |\n",
      "   3  |   44/ 273 |   1.45 |      62.462357 |      -5.109472 |      0.176386 |          1.235 |\n",
      "   3  |   45/ 273 |   1.45 |      62.310112 |      -4.108100 |      0.332208 |          1.078 |\n",
      "   3  |   46/ 273 |   1.45 |      67.940346 |     -14.415263 |      0.171012 |          0.904 |\n",
      "   3  |   47/ 273 |   1.46 |      66.246338 |      -5.626089 |      0.200024 |          1.022 |\n",
      "   3  |   48/ 273 |   1.45 |      56.268906 |      -3.421247 |      0.133055 |          1.467 |\n",
      "   3  |   49/ 273 |   1.45 |      61.569126 |     -13.422067 |      0.177471 |          1.194 |\n",
      "   3  |   50/ 273 |   1.45 |      65.353676 |      -8.247118 |      0.453213 |          2.014 |\n",
      "   3  |   51/ 273 |   1.45 |      63.266594 |     -12.284513 |      0.200926 |          1.805 |\n"
     ]
    },
    {
     "name": "stderr",
     "output_type": "stream",
     "text": [
      "/home/rakova/project/multi_musegan/musegan/musegan/utils/metrics.py:96: RuntimeWarning: invalid value encountered in true_divide\n",
      "  chroma2 = chroma2 / np.sum(chroma2)\n",
      "/home/rakova/project/multi_musegan/musegan/musegan/utils/metrics.py:94: RuntimeWarning: invalid value encountered in true_divide\n",
      "  chroma1 = chroma1 / np.sum(chroma1)\n",
      "/home/rakova/project/multi_musegan/musegan/musegan/utils/metrics.py:94: RuntimeWarning: invalid value encountered in true_divide\n",
      "  chroma1 = chroma1 / np.sum(chroma1)\n",
      "/home/rakova/project/multi_musegan/musegan/musegan/utils/metrics.py:96: RuntimeWarning: invalid value encountered in true_divide\n",
      "  chroma2 = chroma2 / np.sum(chroma2)\n",
      "/home/rakova/project/multi_musegan/musegan/musegan/utils/metrics.py:94: RuntimeWarning: invalid value encountered in true_divide\n",
      "  chroma1 = chroma1 / np.sum(chroma1)\n",
      "/home/rakova/project/multi_musegan/musegan/musegan/utils/metrics.py:96: RuntimeWarning: invalid value encountered in true_divide\n",
      "  chroma2 = chroma2 / np.sum(chroma2)\n",
      "/home/rakova/project/multi_musegan/musegan/musegan/utils/metrics.py:94: RuntimeWarning: invalid value encountered in true_divide\n",
      "  chroma1 = chroma1 / np.sum(chroma1)\n",
      "/home/rakova/project/multi_musegan/musegan/musegan/utils/metrics.py:96: RuntimeWarning: invalid value encountered in true_divide\n",
      "  chroma2 = chroma2 / np.sum(chroma2)\n"
     ]
    },
    {
     "name": "stdout",
     "output_type": "stream",
     "text": [
      "   3  |   52/ 273 |   1.45 |      59.432587 |     -18.211550 |      0.134049 |          1.044 |\n",
      "   3  |   53/ 273 |   1.45 |      58.629879 |      -2.387152 |      0.322102 |          1.599 |\n",
      "   3  |   54/ 273 |   1.46 |      61.743977 |      -7.758783 |      0.279386 |          1.177 |\n",
      "   3  |   55/ 273 |   1.45 |      68.441757 |     -11.025461 |      0.263355 |          1.126 |\n",
      "   3  |   56/ 273 |   1.45 |      63.850624 |     -11.744250 |      1.185256 |          1.921 |\n",
      "   3  |   57/ 273 |   1.45 |      70.665054 |       1.619797 |      0.541249 |          0.988 |\n",
      "   3  |   58/ 273 |   1.46 |      63.680981 |     -16.882473 |      0.201356 |          0.930 |\n",
      "   3  |   59/ 273 |   1.45 |      59.599464 |     -17.058453 |      0.264565 |          1.181 |\n",
      "   3  |   60/ 273 |   1.46 |      65.044609 |      -4.538999 |      0.522638 |          0.896 |\n",
      "   3  |   61/ 273 |   1.45 |      61.128754 |       0.412175 |      0.167485 |          1.684 |\n"
     ]
    },
    {
     "name": "stderr",
     "output_type": "stream",
     "text": [
      "/home/rakova/project/multi_musegan/musegan/musegan/utils/metrics.py:96: RuntimeWarning: invalid value encountered in true_divide\n",
      "  chroma2 = chroma2 / np.sum(chroma2)\n",
      "/home/rakova/project/multi_musegan/musegan/musegan/utils/metrics.py:94: RuntimeWarning: invalid value encountered in true_divide\n",
      "  chroma1 = chroma1 / np.sum(chroma1)\n",
      "/home/rakova/project/multi_musegan/musegan/musegan/utils/metrics.py:96: RuntimeWarning: invalid value encountered in true_divide\n",
      "  chroma2 = chroma2 / np.sum(chroma2)\n",
      "/home/rakova/project/multi_musegan/musegan/musegan/utils/metrics.py:94: RuntimeWarning: invalid value encountered in true_divide\n",
      "  chroma1 = chroma1 / np.sum(chroma1)\n",
      "/home/rakova/project/multi_musegan/musegan/musegan/utils/metrics.py:94: RuntimeWarning: invalid value encountered in true_divide\n",
      "  chroma1 = chroma1 / np.sum(chroma1)\n",
      "/home/rakova/project/multi_musegan/musegan/musegan/utils/metrics.py:96: RuntimeWarning: invalid value encountered in true_divide\n",
      "  chroma2 = chroma2 / np.sum(chroma2)\n",
      "/home/rakova/project/multi_musegan/musegan/musegan/utils/metrics.py:96: RuntimeWarning: invalid value encountered in true_divide\n",
      "  chroma2 = chroma2 / np.sum(chroma2)\n",
      "/home/rakova/project/multi_musegan/musegan/musegan/utils/metrics.py:94: RuntimeWarning: invalid value encountered in true_divide\n",
      "  chroma1 = chroma1 / np.sum(chroma1)\n"
     ]
    },
    {
     "name": "stdout",
     "output_type": "stream",
     "text": [
      "   3  |   62/ 273 |   1.46 |      68.378601 |     -10.749907 |      0.167484 |          0.980 |\n",
      "   3  |   63/ 273 |   1.45 |      60.329910 |     -11.966269 |      0.183997 |          1.234 |\n",
      "   3  |   64/ 273 |   1.45 |      77.316978 |     -17.913179 |      0.283106 |          1.046 |\n",
      "   3  |   65/ 273 |   1.45 |      55.145157 |      -1.964271 |      0.181413 |          1.374 |\n",
      "   3  |   66/ 273 |   1.45 |      64.193314 |      -7.880352 |      0.251347 |          1.219 |\n",
      "   3  |   67/ 273 |   1.45 |      57.160236 |      -8.412262 |      0.197159 |          1.419 |\n",
      "   3  |   68/ 273 |   1.46 |      68.029968 |      -4.879382 |      0.287326 |          1.565 |\n",
      "   3  |   69/ 273 |   1.46 |      67.848839 |      -3.290793 |      0.147734 |          1.092 |\n",
      "   3  |   70/ 273 |   1.45 |      66.127998 |     -11.309520 |      0.290518 |          1.261 |\n",
      "   3  |   71/ 273 |   1.46 |      63.233822 |      -8.205433 |      0.177409 |          1.093 |\n"
     ]
    },
    {
     "name": "stderr",
     "output_type": "stream",
     "text": [
      "/home/rakova/project/multi_musegan/musegan/musegan/utils/metrics.py:94: RuntimeWarning: invalid value encountered in true_divide\n",
      "  chroma1 = chroma1 / np.sum(chroma1)\n",
      "/home/rakova/project/multi_musegan/musegan/musegan/utils/metrics.py:96: RuntimeWarning: invalid value encountered in true_divide\n",
      "  chroma2 = chroma2 / np.sum(chroma2)\n",
      "/home/rakova/project/multi_musegan/musegan/musegan/utils/metrics.py:96: RuntimeWarning: invalid value encountered in true_divide\n",
      "  chroma2 = chroma2 / np.sum(chroma2)\n",
      "/home/rakova/project/multi_musegan/musegan/musegan/utils/metrics.py:94: RuntimeWarning: invalid value encountered in true_divide\n",
      "  chroma1 = chroma1 / np.sum(chroma1)\n",
      "/home/rakova/project/multi_musegan/musegan/musegan/utils/metrics.py:94: RuntimeWarning: invalid value encountered in true_divide\n",
      "  chroma1 = chroma1 / np.sum(chroma1)\n",
      "/home/rakova/project/multi_musegan/musegan/musegan/utils/metrics.py:96: RuntimeWarning: invalid value encountered in true_divide\n",
      "  chroma2 = chroma2 / np.sum(chroma2)\n",
      "/home/rakova/project/multi_musegan/musegan/musegan/utils/metrics.py:96: RuntimeWarning: invalid value encountered in true_divide\n",
      "  chroma2 = chroma2 / np.sum(chroma2)\n",
      "/home/rakova/project/multi_musegan/musegan/musegan/utils/metrics.py:94: RuntimeWarning: invalid value encountered in true_divide\n",
      "  chroma1 = chroma1 / np.sum(chroma1)\n"
     ]
    },
    {
     "name": "stdout",
     "output_type": "stream",
     "text": [
      "   3  |   72/ 273 |   1.46 |      61.296776 |     -12.705893 |      0.151666 |          0.956 |\n",
      "   3  |   73/ 273 |   1.45 |      56.731232 |     -14.362505 |      0.216364 |          1.099 |\n",
      "   3  |   74/ 273 |   1.45 |      62.849205 |     -10.065251 |      0.262190 |          0.878 |\n",
      "   3  |   75/ 273 |   1.45 |      64.421425 |      -5.553249 |      0.148115 |          1.038 |\n",
      "   3  |   76/ 273 |   1.45 |      60.256264 |     -17.451124 |      0.153388 |          1.168 |\n",
      "   3  |   77/ 273 |   1.45 |      57.779102 |      -4.809463 |      0.336838 |          1.456 |\n",
      "   3  |   78/ 273 |   1.45 |      67.001793 |     -12.801122 |      0.109173 |          1.892 |\n",
      "   3  |   79/ 273 |   1.45 |      58.197277 |      -6.456125 |      0.312249 |          1.543 |\n",
      "   3  |   80/ 273 |   1.45 |      59.991089 |     -14.160871 |      0.130110 |          1.384 |\n",
      "   3  |   81/ 273 |   1.45 |      66.001663 |     -12.577085 |      0.162844 |          1.774 |\n"
     ]
    },
    {
     "name": "stderr",
     "output_type": "stream",
     "text": [
      "/home/rakova/project/multi_musegan/musegan/musegan/utils/metrics.py:96: RuntimeWarning: invalid value encountered in true_divide\n",
      "  chroma2 = chroma2 / np.sum(chroma2)\n",
      "/home/rakova/project/multi_musegan/musegan/musegan/utils/metrics.py:94: RuntimeWarning: invalid value encountered in true_divide\n",
      "  chroma1 = chroma1 / np.sum(chroma1)\n",
      "/home/rakova/project/multi_musegan/musegan/musegan/utils/metrics.py:96: RuntimeWarning: invalid value encountered in true_divide\n",
      "  chroma2 = chroma2 / np.sum(chroma2)\n",
      "/home/rakova/project/multi_musegan/musegan/musegan/utils/metrics.py:94: RuntimeWarning: invalid value encountered in true_divide\n",
      "  chroma1 = chroma1 / np.sum(chroma1)\n",
      "/home/rakova/project/multi_musegan/musegan/musegan/utils/metrics.py:96: RuntimeWarning: invalid value encountered in true_divide\n",
      "  chroma2 = chroma2 / np.sum(chroma2)\n",
      "/home/rakova/project/multi_musegan/musegan/musegan/utils/metrics.py:94: RuntimeWarning: invalid value encountered in true_divide\n",
      "  chroma1 = chroma1 / np.sum(chroma1)\n",
      "/home/rakova/project/multi_musegan/musegan/musegan/utils/metrics.py:96: RuntimeWarning: invalid value encountered in true_divide\n",
      "  chroma2 = chroma2 / np.sum(chroma2)\n",
      "/home/rakova/project/multi_musegan/musegan/musegan/utils/metrics.py:94: RuntimeWarning: invalid value encountered in true_divide\n",
      "  chroma1 = chroma1 / np.sum(chroma1)\n"
     ]
    },
    {
     "name": "stdout",
     "output_type": "stream",
     "text": [
      "   3  |   82/ 273 |   1.45 |      67.527840 |      -3.942400 |      0.393212 |          1.359 |\n",
      "   3  |   83/ 273 |   1.46 |      62.915123 |       2.716782 |      0.124615 |          1.324 |\n",
      "   3  |   84/ 273 |   1.45 |      62.388081 |     -10.589332 |      0.243444 |          2.039 |\n",
      "   3  |   85/ 273 |   1.46 |      67.070610 |     -20.010250 |      0.173220 |          1.616 |\n",
      "   3  |   86/ 273 |   1.46 |      69.030975 |     -22.489277 |      0.275827 |          1.510 |\n",
      "   3  |   87/ 273 |   1.46 |      55.752396 |      -5.630609 |      0.488383 |          1.230 |\n",
      "   3  |   88/ 273 |   1.45 |      55.274036 |      -1.395121 |      0.264034 |          1.043 |\n",
      "   3  |   89/ 273 |   1.45 |      73.401703 |     -11.022284 |      0.470444 |          1.642 |\n",
      "   3  |   90/ 273 |   1.45 |      67.535156 |     -10.877974 |      0.149232 |          1.605 |\n",
      "   3  |   91/ 273 |   1.45 |      57.973244 |       0.465245 |      0.216943 |          1.142 |\n"
     ]
    },
    {
     "name": "stderr",
     "output_type": "stream",
     "text": [
      "/home/rakova/project/multi_musegan/musegan/musegan/utils/metrics.py:96: RuntimeWarning: invalid value encountered in true_divide\n",
      "  chroma2 = chroma2 / np.sum(chroma2)\n",
      "/home/rakova/project/multi_musegan/musegan/musegan/utils/metrics.py:94: RuntimeWarning: invalid value encountered in true_divide\n",
      "  chroma1 = chroma1 / np.sum(chroma1)\n",
      "/home/rakova/project/multi_musegan/musegan/musegan/utils/metrics.py:96: RuntimeWarning: invalid value encountered in true_divide\n",
      "  chroma2 = chroma2 / np.sum(chroma2)\n",
      "/home/rakova/project/multi_musegan/musegan/musegan/utils/metrics.py:94: RuntimeWarning: invalid value encountered in true_divide\n",
      "  chroma1 = chroma1 / np.sum(chroma1)\n",
      "/home/rakova/project/multi_musegan/musegan/musegan/utils/metrics.py:96: RuntimeWarning: invalid value encountered in true_divide\n",
      "  chroma2 = chroma2 / np.sum(chroma2)\n",
      "/home/rakova/project/multi_musegan/musegan/musegan/utils/metrics.py:94: RuntimeWarning: invalid value encountered in true_divide\n",
      "  chroma1 = chroma1 / np.sum(chroma1)\n",
      "/home/rakova/project/multi_musegan/musegan/musegan/utils/metrics.py:96: RuntimeWarning: invalid value encountered in true_divide\n",
      "  chroma2 = chroma2 / np.sum(chroma2)\n",
      "/home/rakova/project/multi_musegan/musegan/musegan/utils/metrics.py:94: RuntimeWarning: invalid value encountered in true_divide\n",
      "  chroma1 = chroma1 / np.sum(chroma1)\n"
     ]
    },
    {
     "name": "stdout",
     "output_type": "stream",
     "text": [
      "   3  |   92/ 273 |   1.45 |      63.130043 |     -12.737623 |      0.125942 |          1.097 |\n",
      "   3  |   93/ 273 |   1.45 |      68.225067 |      -9.421695 |      0.327924 |          0.951 |\n",
      "   3  |   94/ 273 |   1.45 |      59.364475 |     -10.600496 |      0.115256 |          1.183 |\n",
      "   3  |   95/ 273 |   1.45 |      66.113693 |     -13.228242 |      0.114126 |          1.092 |\n",
      "   3  |   96/ 273 |   1.45 |      67.894035 |      -5.643229 |      0.192421 |          1.212 |\n",
      "   3  |   97/ 273 |   1.46 |      61.766151 |     -10.566744 |      0.644476 |          1.826 |\n",
      "   3  |   98/ 273 |   1.45 |      65.084625 |     -12.772411 |      0.433129 |          1.422 |\n",
      "   3  |   99/ 273 |   1.45 |      66.709160 |      -6.541838 |      0.196565 |          0.940 |\n",
      "   3  |  100/ 273 |   1.45 |      57.203228 |      -4.357177 |      0.183123 |          0.986 |\n",
      "   3  |  101/ 273 |   1.46 |      67.890030 |     -17.467325 |      0.198926 |          1.979 |\n"
     ]
    },
    {
     "name": "stderr",
     "output_type": "stream",
     "text": [
      "/home/rakova/project/multi_musegan/musegan/musegan/utils/metrics.py:94: RuntimeWarning: invalid value encountered in true_divide\n",
      "  chroma1 = chroma1 / np.sum(chroma1)\n",
      "/home/rakova/project/multi_musegan/musegan/musegan/utils/metrics.py:96: RuntimeWarning: invalid value encountered in true_divide\n",
      "  chroma2 = chroma2 / np.sum(chroma2)\n",
      "/home/rakova/project/multi_musegan/musegan/musegan/utils/metrics.py:96: RuntimeWarning: invalid value encountered in true_divide\n",
      "  chroma2 = chroma2 / np.sum(chroma2)\n",
      "/home/rakova/project/multi_musegan/musegan/musegan/utils/metrics.py:94: RuntimeWarning: invalid value encountered in true_divide\n",
      "  chroma1 = chroma1 / np.sum(chroma1)\n",
      "/home/rakova/project/multi_musegan/musegan/musegan/utils/metrics.py:94: RuntimeWarning: invalid value encountered in true_divide\n",
      "  chroma1 = chroma1 / np.sum(chroma1)\n",
      "/home/rakova/project/multi_musegan/musegan/musegan/utils/metrics.py:96: RuntimeWarning: invalid value encountered in true_divide\n",
      "  chroma2 = chroma2 / np.sum(chroma2)\n",
      "/home/rakova/project/multi_musegan/musegan/musegan/utils/metrics.py:96: RuntimeWarning: invalid value encountered in true_divide\n",
      "  chroma2 = chroma2 / np.sum(chroma2)\n",
      "/home/rakova/project/multi_musegan/musegan/musegan/utils/metrics.py:94: RuntimeWarning: invalid value encountered in true_divide\n",
      "  chroma1 = chroma1 / np.sum(chroma1)\n"
     ]
    },
    {
     "name": "stdout",
     "output_type": "stream",
     "text": [
      "   3  |  102/ 273 |   1.45 |      70.993523 |      -9.881891 |      0.197363 |          1.254 |\n",
      "   3  |  103/ 273 |   1.45 |      62.325977 |      -0.674628 |      0.437828 |          1.153 |\n",
      "   3  |  104/ 273 |   1.46 |      62.217911 |      -3.453114 |      0.200589 |          1.216 |\n",
      "   3  |  105/ 273 |   1.45 |      60.803978 |      -9.653504 |      0.195472 |          1.250 |\n",
      "   3  |  106/ 273 |   1.45 |      62.265739 |      -9.659021 |      0.255511 |          1.309 |\n",
      "   3  |  107/ 273 |   1.45 |      70.585297 |     -10.508841 |      0.527700 |          1.189 |\n",
      "   3  |  108/ 273 |   1.45 |      69.347763 |     -13.191717 |      0.199172 |          1.350 |\n",
      "   3  |  109/ 273 |   1.46 |      63.417606 |     -11.555032 |      0.346107 |          1.828 |\n",
      "   3  |  110/ 273 |   1.45 |      66.141220 |     -14.320018 |      0.205901 |          1.139 |\n",
      "   3  |  111/ 273 |   1.45 |      59.986588 |     -11.016747 |      0.127361 |          1.183 |\n"
     ]
    },
    {
     "name": "stderr",
     "output_type": "stream",
     "text": [
      "/home/rakova/project/multi_musegan/musegan/musegan/utils/metrics.py:96: RuntimeWarning: invalid value encountered in true_divide\n",
      "  chroma2 = chroma2 / np.sum(chroma2)\n",
      "/home/rakova/project/multi_musegan/musegan/musegan/utils/metrics.py:94: RuntimeWarning: invalid value encountered in true_divide\n",
      "  chroma1 = chroma1 / np.sum(chroma1)\n",
      "/home/rakova/project/multi_musegan/musegan/musegan/utils/metrics.py:96: RuntimeWarning: invalid value encountered in true_divide\n",
      "  chroma2 = chroma2 / np.sum(chroma2)\n",
      "/home/rakova/project/multi_musegan/musegan/musegan/utils/metrics.py:94: RuntimeWarning: invalid value encountered in true_divide\n",
      "  chroma1 = chroma1 / np.sum(chroma1)\n",
      "/home/rakova/project/multi_musegan/musegan/musegan/utils/metrics.py:96: RuntimeWarning: invalid value encountered in true_divide\n",
      "  chroma2 = chroma2 / np.sum(chroma2)\n",
      "/home/rakova/project/multi_musegan/musegan/musegan/utils/metrics.py:94: RuntimeWarning: invalid value encountered in true_divide\n",
      "  chroma1 = chroma1 / np.sum(chroma1)\n",
      "/home/rakova/project/multi_musegan/musegan/musegan/utils/metrics.py:96: RuntimeWarning: invalid value encountered in true_divide\n",
      "  chroma2 = chroma2 / np.sum(chroma2)\n",
      "/home/rakova/project/multi_musegan/musegan/musegan/utils/metrics.py:94: RuntimeWarning: invalid value encountered in true_divide\n",
      "  chroma1 = chroma1 / np.sum(chroma1)\n"
     ]
    },
    {
     "name": "stdout",
     "output_type": "stream",
     "text": [
      "   3  |  112/ 273 |   1.46 |      62.203014 |      -7.396246 |      0.120663 |          1.554 |\n",
      "   3  |  113/ 273 |   1.45 |      54.382198 |      -5.997001 |      0.457756 |          1.328 |\n",
      "   3  |  114/ 273 |   1.45 |      59.061546 |     -10.580361 |      0.304433 |          1.123 |\n",
      "   3  |  115/ 273 |   1.45 |      59.678387 |     -12.793156 |      0.120563 |          1.139 |\n",
      "   3  |  116/ 273 |   1.45 |      60.677010 |     -15.282610 |      0.191431 |          1.190 |\n",
      "   3  |  117/ 273 |   1.45 |      56.918163 |      -6.446863 |      0.559981 |          1.114 |\n",
      "   3  |  118/ 273 |   1.45 |      60.782497 |     -14.922041 |      0.151486 |          1.853 |\n",
      "   3  |  119/ 273 |   1.45 |      64.498138 |     -11.629675 |      0.127256 |          1.407 |\n",
      "   3  |  120/ 273 |   1.45 |      64.269585 |      -6.592267 |      0.222174 |          1.502 |\n",
      "   3  |  121/ 273 |   1.45 |      71.800095 |     -11.462388 |      0.288692 |          1.375 |\n"
     ]
    },
    {
     "name": "stderr",
     "output_type": "stream",
     "text": [
      "/home/rakova/project/multi_musegan/musegan/musegan/utils/metrics.py:96: RuntimeWarning: invalid value encountered in true_divide\n",
      "  chroma2 = chroma2 / np.sum(chroma2)\n",
      "/home/rakova/project/multi_musegan/musegan/musegan/utils/metrics.py:94: RuntimeWarning: invalid value encountered in true_divide\n",
      "  chroma1 = chroma1 / np.sum(chroma1)\n",
      "/home/rakova/project/multi_musegan/musegan/musegan/utils/metrics.py:96: RuntimeWarning: invalid value encountered in true_divide\n",
      "  chroma2 = chroma2 / np.sum(chroma2)\n",
      "/home/rakova/project/multi_musegan/musegan/musegan/utils/metrics.py:94: RuntimeWarning: invalid value encountered in true_divide\n",
      "  chroma1 = chroma1 / np.sum(chroma1)\n",
      "/home/rakova/project/multi_musegan/musegan/musegan/utils/metrics.py:96: RuntimeWarning: invalid value encountered in true_divide\n",
      "  chroma2 = chroma2 / np.sum(chroma2)\n",
      "/home/rakova/project/multi_musegan/musegan/musegan/utils/metrics.py:94: RuntimeWarning: invalid value encountered in true_divide\n",
      "  chroma1 = chroma1 / np.sum(chroma1)\n",
      "/home/rakova/project/multi_musegan/musegan/musegan/utils/metrics.py:96: RuntimeWarning: invalid value encountered in true_divide\n",
      "  chroma2 = chroma2 / np.sum(chroma2)\n",
      "/home/rakova/project/multi_musegan/musegan/musegan/utils/metrics.py:94: RuntimeWarning: invalid value encountered in true_divide\n",
      "  chroma1 = chroma1 / np.sum(chroma1)\n"
     ]
    },
    {
     "name": "stdout",
     "output_type": "stream",
     "text": [
      "   3  |  122/ 273 |   1.45 |      63.815952 |     -17.631395 |      0.214483 |          0.989 |\n",
      "   3  |  123/ 273 |   1.45 |      61.897911 |     -15.565962 |      0.156741 |          1.062 |\n",
      "   3  |  124/ 273 |   1.46 |      65.329765 |      -2.230902 |      1.334630 |          2.516 |\n",
      "   3  |  125/ 273 |   1.45 |      73.373062 |      -1.708490 |      0.083699 |          1.358 |\n",
      "   3  |  126/ 273 |   1.46 |      61.547905 |      -5.975918 |      0.177859 |          1.278 |\n",
      "   3  |  127/ 273 |   1.46 |      61.875671 |      -9.030624 |      0.223859 |          1.044 |\n",
      "   3  |  128/ 273 |   1.45 |      64.732925 |      -9.355340 |      0.118906 |          0.936 |\n",
      "   3  |  129/ 273 |   1.45 |      61.855888 |      -1.085568 |      0.120651 |          1.479 |\n",
      "   3  |  130/ 273 |   1.45 |      63.009598 |     -11.448596 |      0.260712 |          1.589 |\n",
      "   3  |  131/ 273 |   1.45 |      65.303345 |     -10.073639 |      0.546817 |          1.629 |\n"
     ]
    },
    {
     "name": "stderr",
     "output_type": "stream",
     "text": [
      "/home/rakova/project/multi_musegan/musegan/musegan/utils/metrics.py:96: RuntimeWarning: invalid value encountered in true_divide\n",
      "  chroma2 = chroma2 / np.sum(chroma2)\n",
      "/home/rakova/project/multi_musegan/musegan/musegan/utils/metrics.py:94: RuntimeWarning: invalid value encountered in true_divide\n",
      "  chroma1 = chroma1 / np.sum(chroma1)\n",
      "/home/rakova/project/multi_musegan/musegan/musegan/utils/metrics.py:96: RuntimeWarning: invalid value encountered in true_divide\n",
      "  chroma2 = chroma2 / np.sum(chroma2)\n",
      "/home/rakova/project/multi_musegan/musegan/musegan/utils/metrics.py:94: RuntimeWarning: invalid value encountered in true_divide\n",
      "  chroma1 = chroma1 / np.sum(chroma1)\n",
      "/home/rakova/project/multi_musegan/musegan/musegan/utils/metrics.py:96: RuntimeWarning: invalid value encountered in true_divide\n",
      "  chroma2 = chroma2 / np.sum(chroma2)\n",
      "/home/rakova/project/multi_musegan/musegan/musegan/utils/metrics.py:94: RuntimeWarning: invalid value encountered in true_divide\n",
      "  chroma1 = chroma1 / np.sum(chroma1)\n",
      "/home/rakova/project/multi_musegan/musegan/musegan/utils/metrics.py:96: RuntimeWarning: invalid value encountered in true_divide\n",
      "  chroma2 = chroma2 / np.sum(chroma2)\n",
      "/home/rakova/project/multi_musegan/musegan/musegan/utils/metrics.py:94: RuntimeWarning: invalid value encountered in true_divide\n",
      "  chroma1 = chroma1 / np.sum(chroma1)\n"
     ]
    },
    {
     "name": "stdout",
     "output_type": "stream",
     "text": [
      "   3  |  132/ 273 |   1.45 |      61.838703 |      -4.332251 |      0.090890 |          1.107 |\n",
      "   3  |  133/ 273 |   1.45 |      63.143242 |     -10.663261 |      0.132088 |          1.164 |\n",
      "   3  |  134/ 273 |   1.45 |      68.917404 |      -7.116931 |      0.205849 |          1.342 |\n",
      "   3  |  135/ 273 |   1.45 |      56.930603 |       2.423470 |      0.140199 |          1.343 |\n",
      "   3  |  136/ 273 |   1.45 |      60.261719 |     -15.522562 |      0.427558 |          1.879 |\n",
      "   3  |  137/ 273 |   1.45 |      63.401920 |     -12.356365 |      0.302544 |          1.452 |\n",
      "   3  |  138/ 273 |   1.45 |      66.322067 |      -9.503738 |      0.309998 |          0.961 |\n",
      "   3  |  139/ 273 |   1.46 |      63.387493 |      -7.479226 |      0.151423 |          0.908 |\n",
      "   3  |  140/ 273 |   1.46 |      63.125465 |      -8.634956 |      0.089079 |          1.210 |\n",
      "   3  |  141/ 273 |   1.45 |      63.201107 |      -4.215283 |      0.113578 |          1.464 |\n"
     ]
    },
    {
     "name": "stderr",
     "output_type": "stream",
     "text": [
      "/home/rakova/project/multi_musegan/musegan/musegan/utils/metrics.py:96: RuntimeWarning: invalid value encountered in true_divide\n",
      "  chroma2 = chroma2 / np.sum(chroma2)\n",
      "/home/rakova/project/multi_musegan/musegan/musegan/utils/metrics.py:94: RuntimeWarning: invalid value encountered in true_divide\n",
      "  chroma1 = chroma1 / np.sum(chroma1)\n",
      "/home/rakova/project/multi_musegan/musegan/musegan/utils/metrics.py:96: RuntimeWarning: invalid value encountered in true_divide\n",
      "  chroma2 = chroma2 / np.sum(chroma2)\n",
      "/home/rakova/project/multi_musegan/musegan/musegan/utils/metrics.py:94: RuntimeWarning: invalid value encountered in true_divide\n",
      "  chroma1 = chroma1 / np.sum(chroma1)\n",
      "/home/rakova/project/multi_musegan/musegan/musegan/utils/metrics.py:96: RuntimeWarning: invalid value encountered in true_divide\n",
      "  chroma2 = chroma2 / np.sum(chroma2)\n",
      "/home/rakova/project/multi_musegan/musegan/musegan/utils/metrics.py:94: RuntimeWarning: invalid value encountered in true_divide\n",
      "  chroma1 = chroma1 / np.sum(chroma1)\n",
      "/home/rakova/project/multi_musegan/musegan/musegan/utils/metrics.py:96: RuntimeWarning: invalid value encountered in true_divide\n",
      "  chroma2 = chroma2 / np.sum(chroma2)\n",
      "/home/rakova/project/multi_musegan/musegan/musegan/utils/metrics.py:94: RuntimeWarning: invalid value encountered in true_divide\n",
      "  chroma1 = chroma1 / np.sum(chroma1)\n"
     ]
    },
    {
     "name": "stdout",
     "output_type": "stream",
     "text": [
      "   3  |  142/ 273 |   1.45 |      69.417603 |     -13.915916 |      0.228748 |          1.186 |\n",
      "   3  |  143/ 273 |   1.45 |      66.411583 |     -14.704288 |      0.139753 |          1.158 |\n",
      "   3  |  144/ 273 |   1.45 |      63.304108 |     -10.313148 |      0.278069 |          1.531 |\n",
      "   3  |  145/ 273 |   1.45 |      69.113045 |      -8.459861 |      0.366994 |          1.442 |\n",
      "   3  |  146/ 273 |   1.45 |      64.638123 |     -10.135978 |      0.169642 |          1.116 |\n",
      "   3  |  147/ 273 |   1.45 |      56.482376 |     -11.878533 |      0.229088 |          1.053 |\n",
      "   3  |  148/ 273 |   1.45 |      71.029510 |     -15.812263 |      0.273967 |          1.634 |\n",
      "   3  |  149/ 273 |   1.45 |      61.168991 |     -11.058684 |      0.300778 |          1.832 |\n",
      "   3  |  150/ 273 |   1.45 |      62.612576 |     -14.245223 |      0.067135 |          2.057 |\n",
      "   3  |  151/ 273 |   1.45 |      64.650818 |      -2.038688 |      0.115217 |          1.862 |\n"
     ]
    },
    {
     "name": "stderr",
     "output_type": "stream",
     "text": [
      "/home/rakova/project/multi_musegan/musegan/musegan/utils/metrics.py:96: RuntimeWarning: invalid value encountered in true_divide\n",
      "  chroma2 = chroma2 / np.sum(chroma2)\n",
      "/home/rakova/project/multi_musegan/musegan/musegan/utils/metrics.py:94: RuntimeWarning: invalid value encountered in true_divide\n",
      "  chroma1 = chroma1 / np.sum(chroma1)\n",
      "/home/rakova/project/multi_musegan/musegan/musegan/utils/metrics.py:96: RuntimeWarning: invalid value encountered in true_divide\n",
      "  chroma2 = chroma2 / np.sum(chroma2)\n",
      "/home/rakova/project/multi_musegan/musegan/musegan/utils/metrics.py:94: RuntimeWarning: invalid value encountered in true_divide\n",
      "  chroma1 = chroma1 / np.sum(chroma1)\n",
      "/home/rakova/project/multi_musegan/musegan/musegan/utils/metrics.py:96: RuntimeWarning: invalid value encountered in true_divide\n",
      "  chroma2 = chroma2 / np.sum(chroma2)\n",
      "/home/rakova/project/multi_musegan/musegan/musegan/utils/metrics.py:94: RuntimeWarning: invalid value encountered in true_divide\n",
      "  chroma1 = chroma1 / np.sum(chroma1)\n",
      "/home/rakova/project/multi_musegan/musegan/musegan/utils/metrics.py:96: RuntimeWarning: invalid value encountered in true_divide\n",
      "  chroma2 = chroma2 / np.sum(chroma2)\n",
      "/home/rakova/project/multi_musegan/musegan/musegan/utils/metrics.py:94: RuntimeWarning: invalid value encountered in true_divide\n",
      "  chroma1 = chroma1 / np.sum(chroma1)\n"
     ]
    },
    {
     "name": "stdout",
     "output_type": "stream",
     "text": [
      "   3  |  152/ 273 |   1.45 |      66.460838 |      -9.617994 |      0.133857 |          1.433 |\n",
      "   3  |  153/ 273 |   1.45 |      70.406479 |     -12.075820 |      0.191730 |          1.351 |\n",
      "   3  |  154/ 273 |   1.46 |      61.042942 |       1.213140 |      0.112407 |          1.185 |\n",
      "   3  |  155/ 273 |   1.45 |      67.626297 |      -8.020334 |      0.208598 |          1.158 |\n",
      "   3  |  156/ 273 |   1.45 |      59.311058 |      -8.070109 |      0.269676 |          1.103 |\n",
      "   3  |  157/ 273 |   1.45 |      66.227097 |     -18.949587 |      0.170774 |          1.493 |\n",
      "   3  |  158/ 273 |   1.45 |      57.281643 |     -10.026742 |      0.115467 |          1.598 |\n",
      "   3  |  159/ 273 |   1.45 |      61.156380 |      -6.184235 |      0.196780 |          1.378 |\n",
      "   3  |  160/ 273 |   1.45 |      66.397209 |     -14.292325 |      0.264270 |          1.199 |\n",
      "   3  |  161/ 273 |   1.45 |      59.321198 |      -6.767143 |      0.201076 |          1.228 |\n"
     ]
    },
    {
     "name": "stderr",
     "output_type": "stream",
     "text": [
      "/home/rakova/project/multi_musegan/musegan/musegan/utils/metrics.py:94: RuntimeWarning: invalid value encountered in true_divide\n",
      "  chroma1 = chroma1 / np.sum(chroma1)\n",
      "/home/rakova/project/multi_musegan/musegan/musegan/utils/metrics.py:96: RuntimeWarning: invalid value encountered in true_divide\n",
      "  chroma2 = chroma2 / np.sum(chroma2)\n",
      "/home/rakova/project/multi_musegan/musegan/musegan/utils/metrics.py:94: RuntimeWarning: invalid value encountered in true_divide\n",
      "  chroma1 = chroma1 / np.sum(chroma1)\n",
      "/home/rakova/project/multi_musegan/musegan/musegan/utils/metrics.py:96: RuntimeWarning: invalid value encountered in true_divide\n",
      "  chroma2 = chroma2 / np.sum(chroma2)\n",
      "/home/rakova/project/multi_musegan/musegan/musegan/utils/metrics.py:96: RuntimeWarning: invalid value encountered in true_divide\n",
      "  chroma2 = chroma2 / np.sum(chroma2)\n",
      "/home/rakova/project/multi_musegan/musegan/musegan/utils/metrics.py:94: RuntimeWarning: invalid value encountered in true_divide\n",
      "  chroma1 = chroma1 / np.sum(chroma1)\n",
      "/home/rakova/project/multi_musegan/musegan/musegan/utils/metrics.py:94: RuntimeWarning: invalid value encountered in true_divide\n",
      "  chroma1 = chroma1 / np.sum(chroma1)\n",
      "/home/rakova/project/multi_musegan/musegan/musegan/utils/metrics.py:96: RuntimeWarning: invalid value encountered in true_divide\n",
      "  chroma2 = chroma2 / np.sum(chroma2)\n"
     ]
    },
    {
     "name": "stdout",
     "output_type": "stream",
     "text": [
      "   3  |  162/ 273 |   1.45 |      63.980972 |     -12.245384 |      0.080824 |          1.165 |\n",
      "   3  |  163/ 273 |   1.45 |      60.469139 |     -12.715876 |      0.105048 |          1.465 |\n",
      "   3  |  164/ 273 |   1.46 |      61.952271 |     -12.753354 |      0.274105 |          1.108 |\n",
      "   3  |  165/ 273 |   1.45 |      60.346481 |      -1.375591 |      0.303066 |          1.251 |\n",
      "   3  |  166/ 273 |   1.45 |      66.391556 |     -14.182736 |      0.252027 |          1.104 |\n",
      "   3  |  167/ 273 |   1.45 |      60.941833 |     -12.055295 |      0.139249 |          1.124 |\n",
      "   3  |  168/ 273 |   1.45 |      74.385864 |      -7.870671 |      0.353745 |          1.056 |\n",
      "   3  |  169/ 273 |   1.45 |      67.013092 |      -9.821635 |      0.460968 |          1.206 |\n",
      "   3  |  170/ 273 |   1.45 |      71.527016 |      -6.614597 |      0.068563 |          1.514 |\n",
      "   3  |  171/ 273 |   1.45 |      69.458694 |     -10.823681 |      0.057839 |          1.257 |\n"
     ]
    },
    {
     "name": "stderr",
     "output_type": "stream",
     "text": [
      "/home/rakova/project/multi_musegan/musegan/musegan/utils/metrics.py:94: RuntimeWarning: invalid value encountered in true_divide\n",
      "  chroma1 = chroma1 / np.sum(chroma1)\n",
      "/home/rakova/project/multi_musegan/musegan/musegan/utils/metrics.py:96: RuntimeWarning: invalid value encountered in true_divide\n",
      "  chroma2 = chroma2 / np.sum(chroma2)\n",
      "/home/rakova/project/multi_musegan/musegan/musegan/utils/metrics.py:94: RuntimeWarning: invalid value encountered in true_divide\n",
      "  chroma1 = chroma1 / np.sum(chroma1)\n",
      "/home/rakova/project/multi_musegan/musegan/musegan/utils/metrics.py:96: RuntimeWarning: invalid value encountered in true_divide\n",
      "  chroma2 = chroma2 / np.sum(chroma2)\n",
      "/home/rakova/project/multi_musegan/musegan/musegan/utils/metrics.py:94: RuntimeWarning: invalid value encountered in true_divide\n",
      "  chroma1 = chroma1 / np.sum(chroma1)\n",
      "/home/rakova/project/multi_musegan/musegan/musegan/utils/metrics.py:96: RuntimeWarning: invalid value encountered in true_divide\n",
      "  chroma2 = chroma2 / np.sum(chroma2)\n",
      "/home/rakova/project/multi_musegan/musegan/musegan/utils/metrics.py:94: RuntimeWarning: invalid value encountered in true_divide\n",
      "  chroma1 = chroma1 / np.sum(chroma1)\n",
      "/home/rakova/project/multi_musegan/musegan/musegan/utils/metrics.py:96: RuntimeWarning: invalid value encountered in true_divide\n",
      "  chroma2 = chroma2 / np.sum(chroma2)\n"
     ]
    },
    {
     "name": "stdout",
     "output_type": "stream",
     "text": [
      "   3  |  172/ 273 |   1.45 |      66.169281 |      -8.144421 |      0.312743 |          1.200 |\n",
      "   3  |  173/ 273 |   1.45 |      65.081223 |      -7.584278 |      0.120988 |          1.161 |\n",
      "   3  |  174/ 273 |   1.45 |      63.975979 |      -2.805731 |      0.311483 |          1.317 |\n",
      "   3  |  175/ 273 |   1.45 |      70.809166 |     -10.520751 |      0.153533 |          1.183 |\n",
      "   3  |  176/ 273 |   1.45 |      53.648342 |      -1.669070 |      0.697406 |          1.117 |\n",
      "   3  |  177/ 273 |   1.45 |      67.385315 |     -13.687296 |      0.229937 |          1.239 |\n",
      "   3  |  178/ 273 |   1.45 |      63.530758 |     -10.616311 |      0.158385 |          1.331 |\n",
      "   3  |  179/ 273 |   1.45 |      60.319717 |     -10.372737 |      0.292686 |          1.618 |\n",
      "   3  |  180/ 273 |   1.45 |      55.596107 |      -7.832563 |      0.201863 |          1.193 |\n",
      "   3  |  181/ 273 |  23.50 |     105.442284 |      21.026646 |      0.019574 |          1.751 |\n"
     ]
    },
    {
     "name": "stderr",
     "output_type": "stream",
     "text": [
      "/home/rakova/project/multi_musegan/musegan/musegan/utils/metrics.py:94: RuntimeWarning: invalid value encountered in true_divide\n",
      "  chroma1 = chroma1 / np.sum(chroma1)\n",
      "/home/rakova/project/multi_musegan/musegan/musegan/utils/metrics.py:96: RuntimeWarning: invalid value encountered in true_divide\n",
      "  chroma2 = chroma2 / np.sum(chroma2)\n",
      "/home/rakova/project/multi_musegan/musegan/musegan/utils/metrics.py:94: RuntimeWarning: invalid value encountered in true_divide\n",
      "  chroma1 = chroma1 / np.sum(chroma1)\n",
      "/home/rakova/project/multi_musegan/musegan/musegan/utils/metrics.py:96: RuntimeWarning: invalid value encountered in true_divide\n",
      "  chroma2 = chroma2 / np.sum(chroma2)\n",
      "/home/rakova/project/multi_musegan/musegan/musegan/utils/metrics.py:94: RuntimeWarning: invalid value encountered in true_divide\n",
      "  chroma1 = chroma1 / np.sum(chroma1)\n",
      "/home/rakova/project/multi_musegan/musegan/musegan/utils/metrics.py:96: RuntimeWarning: invalid value encountered in true_divide\n",
      "  chroma2 = chroma2 / np.sum(chroma2)\n",
      "/home/rakova/project/multi_musegan/musegan/musegan/utils/metrics.py:94: RuntimeWarning: invalid value encountered in true_divide\n",
      "  chroma1 = chroma1 / np.sum(chroma1)\n",
      "/home/rakova/project/multi_musegan/musegan/musegan/utils/metrics.py:96: RuntimeWarning: invalid value encountered in true_divide\n",
      "  chroma2 = chroma2 / np.sum(chroma2)\n"
     ]
    },
    {
     "name": "stdout",
     "output_type": "stream",
     "text": [
      "   3  |  182/ 273 |   1.46 |      58.445206 |     -18.546835 |      0.305392 |          1.176 |\n",
      "   3  |  183/ 273 |   1.46 |      53.905357 |      -9.066994 |      0.210582 |          1.273 |\n",
      "   3  |  184/ 273 |   1.46 |      66.499817 |      -9.974015 |      0.336705 |          1.797 |\n",
      "   3  |  185/ 273 |   1.45 |      62.695679 |     -20.655508 |      0.475143 |          1.417 |\n",
      "   3  |  186/ 273 |   1.45 |      61.211685 |     -13.300435 |      0.333419 |          1.706 |\n",
      "   3  |  187/ 273 |   1.45 |      59.347660 |     -10.226051 |      0.174748 |          1.236 |\n",
      "   3  |  188/ 273 |   1.46 |      68.125458 |      -5.612099 |      0.275121 |          1.437 |\n",
      "   3  |  189/ 273 |   1.46 |      60.542030 |       5.586073 |      0.411442 |          1.211 |\n",
      "   3  |  190/ 273 |   1.45 |      59.414604 |      -1.118743 |      1.149327 |          1.863 |\n",
      "   3  |  191/ 273 |   1.46 |      57.993305 |     -10.783932 |      0.192388 |          1.664 |\n"
     ]
    },
    {
     "name": "stderr",
     "output_type": "stream",
     "text": [
      "/home/rakova/project/multi_musegan/musegan/musegan/utils/metrics.py:94: RuntimeWarning: invalid value encountered in true_divide\n",
      "  chroma1 = chroma1 / np.sum(chroma1)\n",
      "/home/rakova/project/multi_musegan/musegan/musegan/utils/metrics.py:96: RuntimeWarning: invalid value encountered in true_divide\n",
      "  chroma2 = chroma2 / np.sum(chroma2)\n",
      "/home/rakova/project/multi_musegan/musegan/musegan/utils/metrics.py:94: RuntimeWarning: invalid value encountered in true_divide\n",
      "  chroma1 = chroma1 / np.sum(chroma1)\n",
      "/home/rakova/project/multi_musegan/musegan/musegan/utils/metrics.py:96: RuntimeWarning: invalid value encountered in true_divide\n",
      "  chroma2 = chroma2 / np.sum(chroma2)\n",
      "/home/rakova/project/multi_musegan/musegan/musegan/utils/metrics.py:94: RuntimeWarning: invalid value encountered in true_divide\n",
      "  chroma1 = chroma1 / np.sum(chroma1)\n",
      "/home/rakova/project/multi_musegan/musegan/musegan/utils/metrics.py:96: RuntimeWarning: invalid value encountered in true_divide\n",
      "  chroma2 = chroma2 / np.sum(chroma2)\n",
      "/home/rakova/project/multi_musegan/musegan/musegan/utils/metrics.py:94: RuntimeWarning: invalid value encountered in true_divide\n",
      "  chroma1 = chroma1 / np.sum(chroma1)\n",
      "/home/rakova/project/multi_musegan/musegan/musegan/utils/metrics.py:96: RuntimeWarning: invalid value encountered in true_divide\n",
      "  chroma2 = chroma2 / np.sum(chroma2)\n"
     ]
    },
    {
     "name": "stdout",
     "output_type": "stream",
     "text": [
      "   3  |  192/ 273 |   1.45 |      76.527512 |     -20.579983 |      0.087182 |          1.900 |\n",
      "   3  |  193/ 273 |   1.45 |      67.978409 |     -15.379016 |      0.235320 |          1.951 |\n",
      "   3  |  194/ 273 |   1.45 |      63.970608 |     -12.678306 |      0.198598 |          1.173 |\n",
      "   3  |  195/ 273 |   1.45 |      50.430786 |       0.541967 |      0.834299 |          1.525 |\n",
      "   3  |  196/ 273 |   1.45 |      63.516495 |      -9.415387 |      0.274533 |          1.202 |\n",
      "   3  |  197/ 273 |   1.45 |      70.274529 |      -5.430572 |      0.281876 |          1.099 |\n",
      "   3  |  198/ 273 |   1.45 |      57.052391 |      -3.668625 |      0.136429 |          1.013 |\n",
      "   3  |  199/ 273 |   1.45 |      62.595142 |      -9.982713 |      0.165997 |          1.031 |\n",
      "   3  |  200/ 273 |   1.46 |      62.010216 |     -11.814863 |      0.094095 |          1.760 |\n",
      "   3  |  201/ 273 |   1.45 |      60.979370 |     -18.694939 |      0.330232 |          1.320 |\n"
     ]
    },
    {
     "name": "stderr",
     "output_type": "stream",
     "text": [
      "/home/rakova/project/multi_musegan/musegan/musegan/utils/metrics.py:96: RuntimeWarning: invalid value encountered in true_divide\n",
      "  chroma2 = chroma2 / np.sum(chroma2)\n",
      "/home/rakova/project/multi_musegan/musegan/musegan/utils/metrics.py:94: RuntimeWarning: invalid value encountered in true_divide\n",
      "  chroma1 = chroma1 / np.sum(chroma1)\n",
      "/home/rakova/project/multi_musegan/musegan/musegan/utils/metrics.py:94: RuntimeWarning: invalid value encountered in true_divide\n",
      "  chroma1 = chroma1 / np.sum(chroma1)\n",
      "/home/rakova/project/multi_musegan/musegan/musegan/utils/metrics.py:96: RuntimeWarning: invalid value encountered in true_divide\n",
      "  chroma2 = chroma2 / np.sum(chroma2)\n",
      "/home/rakova/project/multi_musegan/musegan/musegan/utils/metrics.py:96: RuntimeWarning: invalid value encountered in true_divide\n",
      "  chroma2 = chroma2 / np.sum(chroma2)\n",
      "/home/rakova/project/multi_musegan/musegan/musegan/utils/metrics.py:94: RuntimeWarning: invalid value encountered in true_divide\n",
      "  chroma1 = chroma1 / np.sum(chroma1)\n",
      "/home/rakova/project/multi_musegan/musegan/musegan/utils/metrics.py:94: RuntimeWarning: invalid value encountered in true_divide\n",
      "  chroma1 = chroma1 / np.sum(chroma1)\n",
      "/home/rakova/project/multi_musegan/musegan/musegan/utils/metrics.py:96: RuntimeWarning: invalid value encountered in true_divide\n",
      "  chroma2 = chroma2 / np.sum(chroma2)\n"
     ]
    },
    {
     "name": "stdout",
     "output_type": "stream",
     "text": [
      "   3  |  202/ 273 |   1.45 |      68.614441 |      -6.805604 |      0.750730 |          1.352 |\n",
      "   3  |  203/ 273 |   1.45 |      66.887543 |      -7.961322 |      0.150162 |          1.480 |\n",
      "   3  |  204/ 273 |   1.45 |      66.468010 |      -9.156801 |      0.215822 |          1.217 |\n",
      "   3  |  205/ 273 |   1.45 |      62.561172 |     -12.561043 |      0.733762 |          1.403 |\n",
      "   3  |  206/ 273 |   1.45 |      64.297783 |     -11.761691 |      0.181037 |          1.665 |\n",
      "   3  |  207/ 273 |   1.45 |      62.366943 |       1.171811 |      0.288073 |          1.488 |\n",
      "   3  |  208/ 273 |   1.45 |      73.463882 |      -6.600107 |      0.841336 |          1.925 |\n",
      "   3  |  209/ 273 |   1.45 |      57.761650 |      -5.894209 |      0.189534 |          1.290 |\n",
      "   3  |  210/ 273 |   1.45 |      65.166313 |      -4.249850 |      0.485068 |          1.598 |\n",
      "   3  |  211/ 273 |   1.45 |      61.304806 |      -4.423558 |      0.243364 |          1.255 |\n"
     ]
    },
    {
     "name": "stderr",
     "output_type": "stream",
     "text": [
      "/home/rakova/project/multi_musegan/musegan/musegan/utils/metrics.py:94: RuntimeWarning: invalid value encountered in true_divide\n",
      "  chroma1 = chroma1 / np.sum(chroma1)\n",
      "/home/rakova/project/multi_musegan/musegan/musegan/utils/metrics.py:96: RuntimeWarning: invalid value encountered in true_divide\n",
      "  chroma2 = chroma2 / np.sum(chroma2)\n",
      "/home/rakova/project/multi_musegan/musegan/musegan/utils/metrics.py:94: RuntimeWarning: invalid value encountered in true_divide\n",
      "  chroma1 = chroma1 / np.sum(chroma1)\n",
      "/home/rakova/project/multi_musegan/musegan/musegan/utils/metrics.py:96: RuntimeWarning: invalid value encountered in true_divide\n",
      "  chroma2 = chroma2 / np.sum(chroma2)\n",
      "/home/rakova/project/multi_musegan/musegan/musegan/utils/metrics.py:96: RuntimeWarning: invalid value encountered in true_divide\n",
      "  chroma2 = chroma2 / np.sum(chroma2)\n",
      "/home/rakova/project/multi_musegan/musegan/musegan/utils/metrics.py:94: RuntimeWarning: invalid value encountered in true_divide\n",
      "  chroma1 = chroma1 / np.sum(chroma1)\n",
      "/home/rakova/project/multi_musegan/musegan/musegan/utils/metrics.py:96: RuntimeWarning: invalid value encountered in true_divide\n",
      "  chroma2 = chroma2 / np.sum(chroma2)\n",
      "/home/rakova/project/multi_musegan/musegan/musegan/utils/metrics.py:94: RuntimeWarning: invalid value encountered in true_divide\n",
      "  chroma1 = chroma1 / np.sum(chroma1)\n"
     ]
    },
    {
     "name": "stdout",
     "output_type": "stream",
     "text": [
      "   3  |  212/ 273 |   1.45 |      59.312477 |      -2.474931 |      0.265755 |          1.072 |\n",
      "   3  |  213/ 273 |   1.45 |      65.861855 |      -4.324300 |      0.330848 |          0.940 |\n",
      "   3  |  214/ 273 |   1.45 |      68.998528 |     -18.940233 |      0.316506 |          1.196 |\n",
      "   3  |  215/ 273 |   1.45 |      59.796364 |      -5.331185 |      0.305162 |          1.055 |\n",
      "   3  |  216/ 273 |   1.45 |      62.007744 |      -9.189717 |      0.138565 |          1.311 |\n",
      "   3  |  217/ 273 |   1.46 |      65.821548 |      -9.064878 |      0.283926 |          1.587 |\n",
      "   3  |  218/ 273 |   1.45 |      67.370621 |      -6.553017 |      0.253933 |          1.024 |\n",
      "   3  |  219/ 273 |   1.45 |      56.308590 |      -4.095138 |      0.216508 |          1.157 |\n",
      "   3  |  220/ 273 |   1.45 |      64.195061 |     -12.444162 |      0.187095 |          0.994 |\n",
      "   3  |  221/ 273 |   1.45 |      78.238243 |      -9.379200 |      0.191464 |          1.344 |\n"
     ]
    },
    {
     "name": "stderr",
     "output_type": "stream",
     "text": [
      "/home/rakova/project/multi_musegan/musegan/musegan/utils/metrics.py:94: RuntimeWarning: invalid value encountered in true_divide\n",
      "  chroma1 = chroma1 / np.sum(chroma1)\n",
      "/home/rakova/project/multi_musegan/musegan/musegan/utils/metrics.py:96: RuntimeWarning: invalid value encountered in true_divide\n",
      "  chroma2 = chroma2 / np.sum(chroma2)\n",
      "/home/rakova/project/multi_musegan/musegan/musegan/utils/metrics.py:96: RuntimeWarning: invalid value encountered in true_divide\n",
      "  chroma2 = chroma2 / np.sum(chroma2)\n",
      "/home/rakova/project/multi_musegan/musegan/musegan/utils/metrics.py:94: RuntimeWarning: invalid value encountered in true_divide\n",
      "  chroma1 = chroma1 / np.sum(chroma1)\n",
      "/home/rakova/project/multi_musegan/musegan/musegan/utils/metrics.py:94: RuntimeWarning: invalid value encountered in true_divide\n",
      "  chroma1 = chroma1 / np.sum(chroma1)\n",
      "/home/rakova/project/multi_musegan/musegan/musegan/utils/metrics.py:96: RuntimeWarning: invalid value encountered in true_divide\n",
      "  chroma2 = chroma2 / np.sum(chroma2)\n",
      "/home/rakova/project/multi_musegan/musegan/musegan/utils/metrics.py:96: RuntimeWarning: invalid value encountered in true_divide\n",
      "  chroma2 = chroma2 / np.sum(chroma2)\n",
      "/home/rakova/project/multi_musegan/musegan/musegan/utils/metrics.py:94: RuntimeWarning: invalid value encountered in true_divide\n",
      "  chroma1 = chroma1 / np.sum(chroma1)\n"
     ]
    },
    {
     "name": "stdout",
     "output_type": "stream",
     "text": [
      "   3  |  222/ 273 |   1.46 |      66.324173 |      -9.052297 |      0.122698 |          0.997 |\n",
      "   3  |  223/ 273 |   1.45 |      65.615891 |      -2.907624 |      0.141979 |          1.064 |\n",
      "   3  |  224/ 273 |   1.45 |      60.231934 |      -0.981735 |      0.382637 |          1.508 |\n",
      "   3  |  225/ 273 |   1.45 |      56.827511 |      -3.220689 |      0.210171 |          1.098 |\n",
      "   3  |  226/ 273 |   1.45 |      71.818451 |     -14.811805 |      0.065908 |          1.618 |\n",
      "   3  |  227/ 273 |   1.45 |      65.309517 |     -10.070468 |      0.101959 |          1.407 |\n",
      "   3  |  228/ 273 |   1.46 |      59.196342 |      -7.938756 |      0.481697 |          1.318 |\n",
      "   3  |  229/ 273 |   1.45 |      53.681885 |      -4.765834 |      0.346985 |          1.315 |\n",
      "   3  |  230/ 273 |   1.45 |      58.888641 |     -14.716199 |      0.177858 |          1.478 |\n",
      "   3  |  231/ 273 |   1.45 |      63.804070 |      -9.524660 |      0.274349 |          1.201 |\n"
     ]
    },
    {
     "name": "stderr",
     "output_type": "stream",
     "text": [
      "/home/rakova/project/multi_musegan/musegan/musegan/utils/metrics.py:96: RuntimeWarning: invalid value encountered in true_divide\n",
      "  chroma2 = chroma2 / np.sum(chroma2)\n",
      "/home/rakova/project/multi_musegan/musegan/musegan/utils/metrics.py:94: RuntimeWarning: invalid value encountered in true_divide\n",
      "  chroma1 = chroma1 / np.sum(chroma1)\n",
      "/home/rakova/project/multi_musegan/musegan/musegan/utils/metrics.py:96: RuntimeWarning: invalid value encountered in true_divide\n",
      "  chroma2 = chroma2 / np.sum(chroma2)\n",
      "/home/rakova/project/multi_musegan/musegan/musegan/utils/metrics.py:94: RuntimeWarning: invalid value encountered in true_divide\n",
      "  chroma1 = chroma1 / np.sum(chroma1)\n",
      "/home/rakova/project/multi_musegan/musegan/musegan/utils/metrics.py:96: RuntimeWarning: invalid value encountered in true_divide\n",
      "  chroma2 = chroma2 / np.sum(chroma2)\n",
      "/home/rakova/project/multi_musegan/musegan/musegan/utils/metrics.py:94: RuntimeWarning: invalid value encountered in true_divide\n",
      "  chroma1 = chroma1 / np.sum(chroma1)\n",
      "/home/rakova/project/multi_musegan/musegan/musegan/utils/metrics.py:96: RuntimeWarning: invalid value encountered in true_divide\n",
      "  chroma2 = chroma2 / np.sum(chroma2)\n",
      "/home/rakova/project/multi_musegan/musegan/musegan/utils/metrics.py:94: RuntimeWarning: invalid value encountered in true_divide\n",
      "  chroma1 = chroma1 / np.sum(chroma1)\n"
     ]
    },
    {
     "name": "stdout",
     "output_type": "stream",
     "text": [
      "   3  |  232/ 273 |   1.45 |      62.885406 |     -12.341819 |      0.097446 |          1.121 |\n",
      "   3  |  233/ 273 |   1.45 |      62.298332 |     -15.302097 |      0.286916 |          2.227 |\n",
      "   3  |  234/ 273 |   1.46 |      60.993835 |     -11.949254 |      0.390467 |          1.178 |\n",
      "   3  |  235/ 273 |   1.45 |      76.937607 |     -11.175389 |      0.253621 |          1.234 |\n",
      "   3  |  236/ 273 |   1.46 |      57.421974 |      -4.639142 |      0.282856 |          1.341 |\n",
      "   3  |  237/ 273 |   1.45 |      62.715927 |       5.453309 |      0.307202 |          1.225 |\n",
      "   3  |  238/ 273 |   1.46 |      62.664276 |     -15.860215 |      0.338851 |          1.131 |\n",
      "   3  |  239/ 273 |   1.45 |      73.139374 |     -18.920408 |      0.338886 |          1.459 |\n",
      "   3  |  240/ 273 |   1.45 |      66.513306 |       2.820501 |      0.284874 |          1.284 |\n",
      "   3  |  241/ 273 |   1.45 |      63.980591 |      -7.946123 |      0.417829 |          1.357 |\n"
     ]
    },
    {
     "name": "stderr",
     "output_type": "stream",
     "text": [
      "/home/rakova/project/multi_musegan/musegan/musegan/utils/metrics.py:94: RuntimeWarning: invalid value encountered in true_divide\n",
      "  chroma1 = chroma1 / np.sum(chroma1)\n",
      "/home/rakova/project/multi_musegan/musegan/musegan/utils/metrics.py:96: RuntimeWarning: invalid value encountered in true_divide\n",
      "  chroma2 = chroma2 / np.sum(chroma2)\n",
      "/home/rakova/project/multi_musegan/musegan/musegan/utils/metrics.py:94: RuntimeWarning: invalid value encountered in true_divide\n",
      "  chroma1 = chroma1 / np.sum(chroma1)\n",
      "/home/rakova/project/multi_musegan/musegan/musegan/utils/metrics.py:96: RuntimeWarning: invalid value encountered in true_divide\n",
      "  chroma2 = chroma2 / np.sum(chroma2)\n",
      "/home/rakova/project/multi_musegan/musegan/musegan/utils/metrics.py:94: RuntimeWarning: invalid value encountered in true_divide\n",
      "  chroma1 = chroma1 / np.sum(chroma1)\n",
      "/home/rakova/project/multi_musegan/musegan/musegan/utils/metrics.py:96: RuntimeWarning: invalid value encountered in true_divide\n",
      "  chroma2 = chroma2 / np.sum(chroma2)\n",
      "/home/rakova/project/multi_musegan/musegan/musegan/utils/metrics.py:96: RuntimeWarning: invalid value encountered in true_divide\n",
      "  chroma2 = chroma2 / np.sum(chroma2)\n",
      "/home/rakova/project/multi_musegan/musegan/musegan/utils/metrics.py:94: RuntimeWarning: invalid value encountered in true_divide\n",
      "  chroma1 = chroma1 / np.sum(chroma1)\n"
     ]
    },
    {
     "name": "stdout",
     "output_type": "stream",
     "text": [
      "   3  |  242/ 273 |   1.45 |      60.970066 |      -4.793531 |      0.246329 |          1.557 |\n"
     ]
    }
   ],
   "source": [
    "x_train = load_data()\n",
    "y_train = np.load('/home/rakova/project/multi_musegan/musegan/training_data/binary_data/binary_labels.npy')\n",
    "x_train_big = np.load('/home/rakova/project/multi_musegan/musegan/training_data/binary_data_big/binary_train.npy')\n",
    "x_test = x_train_big[-1024:]\n",
    "y_train_big = np.load('/home/rakova/project/multi_musegan/musegan/training_data/binary_data_big/binary_labels.npy')\n",
    "y_test = y_train_big[-1024:]\n",
    "\n",
    "with tf.Session(config=CONFIG['tensorflow']) as sess:\n",
    "    gan = MODELS.GAN(sess, CONFIG['model'])\n",
    "    gan.init_all()\n",
    "    # Load pretrained model if given\n",
    "    if CONFIG['exp']['pretrained_dir'] is not None:\n",
    "        gan.load(CONFIG['exp']['pretrained_dir'])\n",
    "    gan.train(x_train, y_train, CONFIG['train'], x_test, y_test)"
   ]
  },
  {
   "cell_type": "code",
   "execution_count": null,
   "metadata": {
    "collapsed": true
   },
   "outputs": [],
   "source": []
  }
 ],
 "metadata": {
  "kernelspec": {
   "display_name": "Python 3",
   "language": "python",
   "name": "python3"
  },
  "language_info": {
   "codemirror_mode": {
    "name": "ipython",
    "version": 3
   },
   "file_extension": ".py",
   "mimetype": "text/x-python",
   "name": "python",
   "nbconvert_exporter": "python",
   "pygments_lexer": "ipython3",
   "version": "3.6.3"
  }
 },
 "nbformat": 4,
 "nbformat_minor": 2
}
